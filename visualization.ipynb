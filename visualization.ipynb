{
 "cells": [
  {
   "cell_type": "markdown",
   "metadata": {},
   "source": [
    "# Step 1: Loading in packages"
   ]
  },
  {
   "cell_type": "code",
   "execution_count": 1,
   "metadata": {},
   "outputs": [],
   "source": [
    "# the below packages are related to loading and performing\n",
    "# basic transformations of data\n",
    "import pandas as pd\n",
    "import numpy as np"
   ]
  },
  {
   "cell_type": "code",
   "execution_count": 2,
   "metadata": {},
   "outputs": [],
   "source": [
    "# now we are going to load in some visualization packages to help with\n",
    "# creating visuals of the data\n",
    "import seaborn as sns\n",
    "import matplotlib.pyplot as plt\n",
    "import plotly.express as px\n",
    "\n",
    "sns.set_theme(style='whitegrid')"
   ]
  },
  {
   "cell_type": "markdown",
   "metadata": {},
   "source": [
    "# Loading in Data"
   ]
  },
  {
   "cell_type": "code",
   "execution_count": 3,
   "metadata": {},
   "outputs": [
    {
     "data": {
      "text/html": [
       "<div>\n",
       "<style scoped>\n",
       "    .dataframe tbody tr th:only-of-type {\n",
       "        vertical-align: middle;\n",
       "    }\n",
       "\n",
       "    .dataframe tbody tr th {\n",
       "        vertical-align: top;\n",
       "    }\n",
       "\n",
       "    .dataframe thead th {\n",
       "        text-align: right;\n",
       "    }\n",
       "</style>\n",
       "<table border=\"1\" class=\"dataframe\">\n",
       "  <thead>\n",
       "    <tr style=\"text-align: right;\">\n",
       "      <th></th>\n",
       "      <th>OBJECTID</th>\n",
       "      <th>COUNTY</th>\n",
       "      <th>CNTY_FIPS</th>\n",
       "      <th>DATESTAMP</th>\n",
       "      <th>C_New</th>\n",
       "      <th>C_Cum</th>\n",
       "      <th>D_New</th>\n",
       "      <th>D_Cum</th>\n",
       "      <th>H_New</th>\n",
       "      <th>H_Cum</th>\n",
       "      <th>...</th>\n",
       "      <th>C_His</th>\n",
       "      <th>C_NonHis</th>\n",
       "      <th>C_EthUnk</th>\n",
       "      <th>GlobalID</th>\n",
       "      <th>C_NEW_PERCT_CHG</th>\n",
       "      <th>D_NEW_PERCT_CHG</th>\n",
       "      <th>C_NEW_7D_MEAN</th>\n",
       "      <th>D_NEW_7D_MEAN</th>\n",
       "      <th>C_NEW_7D_PERCT_CHG</th>\n",
       "      <th>D_NEW_7D_PERCT_CHG</th>\n",
       "    </tr>\n",
       "  </thead>\n",
       "  <tbody>\n",
       "    <tr>\n",
       "      <th>0</th>\n",
       "      <td>1</td>\n",
       "      <td>BALDWIN</td>\n",
       "      <td>1003</td>\n",
       "      <td>2021/04/13 03:59:59+00</td>\n",
       "      <td>4</td>\n",
       "      <td>3795</td>\n",
       "      <td>0</td>\n",
       "      <td>115</td>\n",
       "      <td>0</td>\n",
       "      <td>318</td>\n",
       "      <td>...</td>\n",
       "      <td>106</td>\n",
       "      <td>2897</td>\n",
       "      <td>792</td>\n",
       "      <td>{6D1CBB20-5FCF-4FA3-9112-504CF3A93EE8}</td>\n",
       "      <td>NaN</td>\n",
       "      <td>NaN</td>\n",
       "      <td>1.857143</td>\n",
       "      <td>0.0</td>\n",
       "      <td>NaN</td>\n",
       "      <td>NaN</td>\n",
       "    </tr>\n",
       "    <tr>\n",
       "      <th>1</th>\n",
       "      <td>2</td>\n",
       "      <td>UNKNOWN</td>\n",
       "      <td>1</td>\n",
       "      <td>2021/02/04 05:00:00+00</td>\n",
       "      <td>4</td>\n",
       "      <td>2158</td>\n",
       "      <td>0</td>\n",
       "      <td>4</td>\n",
       "      <td>0</td>\n",
       "      <td>36</td>\n",
       "      <td>...</td>\n",
       "      <td>80</td>\n",
       "      <td>155</td>\n",
       "      <td>1923</td>\n",
       "      <td>{925F3292-9C8D-420F-9FE5-97E82BC7F8E8}</td>\n",
       "      <td>-0.428571</td>\n",
       "      <td>NaN</td>\n",
       "      <td>2.714286</td>\n",
       "      <td>0.0</td>\n",
       "      <td>NaN</td>\n",
       "      <td>NaN</td>\n",
       "    </tr>\n",
       "    <tr>\n",
       "      <th>2</th>\n",
       "      <td>3</td>\n",
       "      <td>BALDWIN</td>\n",
       "      <td>1003</td>\n",
       "      <td>2021/04/14 03:59:59+00</td>\n",
       "      <td>2</td>\n",
       "      <td>3797</td>\n",
       "      <td>0</td>\n",
       "      <td>115</td>\n",
       "      <td>0</td>\n",
       "      <td>318</td>\n",
       "      <td>...</td>\n",
       "      <td>106</td>\n",
       "      <td>2898</td>\n",
       "      <td>793</td>\n",
       "      <td>{1F195651-C20F-4B60-98B0-D0481D40F263}</td>\n",
       "      <td>NaN</td>\n",
       "      <td>NaN</td>\n",
       "      <td>1.857143</td>\n",
       "      <td>0.0</td>\n",
       "      <td>NaN</td>\n",
       "      <td>NaN</td>\n",
       "    </tr>\n",
       "    <tr>\n",
       "      <th>3</th>\n",
       "      <td>4</td>\n",
       "      <td>UNKNOWN</td>\n",
       "      <td>1</td>\n",
       "      <td>2021/02/05 05:00:00+00</td>\n",
       "      <td>1</td>\n",
       "      <td>2159</td>\n",
       "      <td>0</td>\n",
       "      <td>4</td>\n",
       "      <td>0</td>\n",
       "      <td>36</td>\n",
       "      <td>...</td>\n",
       "      <td>80</td>\n",
       "      <td>156</td>\n",
       "      <td>1923</td>\n",
       "      <td>{C614DA89-4EAB-4807-9FDE-7661AEFCC144}</td>\n",
       "      <td>NaN</td>\n",
       "      <td>NaN</td>\n",
       "      <td>2.857143</td>\n",
       "      <td>0.0</td>\n",
       "      <td>NaN</td>\n",
       "      <td>NaN</td>\n",
       "    </tr>\n",
       "    <tr>\n",
       "      <th>4</th>\n",
       "      <td>5</td>\n",
       "      <td>BALDWIN</td>\n",
       "      <td>1003</td>\n",
       "      <td>2021/04/15 03:59:59+00</td>\n",
       "      <td>0</td>\n",
       "      <td>3797</td>\n",
       "      <td>0</td>\n",
       "      <td>115</td>\n",
       "      <td>0</td>\n",
       "      <td>318</td>\n",
       "      <td>...</td>\n",
       "      <td>106</td>\n",
       "      <td>2898</td>\n",
       "      <td>793</td>\n",
       "      <td>{EBFFE6DD-9C7F-44F1-B19A-AC69E6EB4093}</td>\n",
       "      <td>NaN</td>\n",
       "      <td>NaN</td>\n",
       "      <td>1.857143</td>\n",
       "      <td>0.0</td>\n",
       "      <td>NaN</td>\n",
       "      <td>NaN</td>\n",
       "    </tr>\n",
       "    <tr>\n",
       "      <th>...</th>\n",
       "      <td>...</td>\n",
       "      <td>...</td>\n",
       "      <td>...</td>\n",
       "      <td>...</td>\n",
       "      <td>...</td>\n",
       "      <td>...</td>\n",
       "      <td>...</td>\n",
       "      <td>...</td>\n",
       "      <td>...</td>\n",
       "      <td>...</td>\n",
       "      <td>...</td>\n",
       "      <td>...</td>\n",
       "      <td>...</td>\n",
       "      <td>...</td>\n",
       "      <td>...</td>\n",
       "      <td>...</td>\n",
       "      <td>...</td>\n",
       "      <td>...</td>\n",
       "      <td>...</td>\n",
       "      <td>...</td>\n",
       "      <td>...</td>\n",
       "    </tr>\n",
       "    <tr>\n",
       "      <th>91687</th>\n",
       "      <td>91688</td>\n",
       "      <td>WAYNE</td>\n",
       "      <td>49055</td>\n",
       "      <td>2021/07/15 03:59:59+00</td>\n",
       "      <td>0</td>\n",
       "      <td>2809</td>\n",
       "      <td>0</td>\n",
       "      <td>81</td>\n",
       "      <td>0</td>\n",
       "      <td>281</td>\n",
       "      <td>...</td>\n",
       "      <td>108</td>\n",
       "      <td>2070</td>\n",
       "      <td>631</td>\n",
       "      <td>{D678A5A4-8531-4A06-B71A-A757A4933957}</td>\n",
       "      <td>NaN</td>\n",
       "      <td>NaN</td>\n",
       "      <td>0.142857</td>\n",
       "      <td>0.0</td>\n",
       "      <td>NaN</td>\n",
       "      <td>NaN</td>\n",
       "    </tr>\n",
       "    <tr>\n",
       "      <th>91688</th>\n",
       "      <td>91689</td>\n",
       "      <td>WAYNE</td>\n",
       "      <td>49055</td>\n",
       "      <td>2021/07/16 03:59:59+00</td>\n",
       "      <td>0</td>\n",
       "      <td>2809</td>\n",
       "      <td>0</td>\n",
       "      <td>81</td>\n",
       "      <td>0</td>\n",
       "      <td>281</td>\n",
       "      <td>...</td>\n",
       "      <td>108</td>\n",
       "      <td>2070</td>\n",
       "      <td>631</td>\n",
       "      <td>{6F4E3A27-D6A2-422F-B7CA-16595DA36061}</td>\n",
       "      <td>NaN</td>\n",
       "      <td>NaN</td>\n",
       "      <td>0.000000</td>\n",
       "      <td>0.0</td>\n",
       "      <td>NaN</td>\n",
       "      <td>NaN</td>\n",
       "    </tr>\n",
       "    <tr>\n",
       "      <th>91689</th>\n",
       "      <td>91690</td>\n",
       "      <td>WAYNE</td>\n",
       "      <td>49055</td>\n",
       "      <td>2021/07/17 03:59:59+00</td>\n",
       "      <td>0</td>\n",
       "      <td>2809</td>\n",
       "      <td>0</td>\n",
       "      <td>81</td>\n",
       "      <td>0</td>\n",
       "      <td>281</td>\n",
       "      <td>...</td>\n",
       "      <td>108</td>\n",
       "      <td>2070</td>\n",
       "      <td>631</td>\n",
       "      <td>{CE952CC5-B75F-45E7-BC12-954B1EE71F31}</td>\n",
       "      <td>NaN</td>\n",
       "      <td>NaN</td>\n",
       "      <td>0.000000</td>\n",
       "      <td>0.0</td>\n",
       "      <td>NaN</td>\n",
       "      <td>NaN</td>\n",
       "    </tr>\n",
       "    <tr>\n",
       "      <th>91690</th>\n",
       "      <td>91691</td>\n",
       "      <td>WAYNE</td>\n",
       "      <td>49055</td>\n",
       "      <td>2021/07/18 03:59:59+00</td>\n",
       "      <td>0</td>\n",
       "      <td>2809</td>\n",
       "      <td>0</td>\n",
       "      <td>81</td>\n",
       "      <td>0</td>\n",
       "      <td>281</td>\n",
       "      <td>...</td>\n",
       "      <td>108</td>\n",
       "      <td>2070</td>\n",
       "      <td>631</td>\n",
       "      <td>{D07AF78B-C535-4F99-8E04-AED183809453}</td>\n",
       "      <td>NaN</td>\n",
       "      <td>NaN</td>\n",
       "      <td>0.000000</td>\n",
       "      <td>0.0</td>\n",
       "      <td>NaN</td>\n",
       "      <td>NaN</td>\n",
       "    </tr>\n",
       "    <tr>\n",
       "      <th>91691</th>\n",
       "      <td>91692</td>\n",
       "      <td>WAYNE</td>\n",
       "      <td>49055</td>\n",
       "      <td>2021/07/19 03:59:59+00</td>\n",
       "      <td>0</td>\n",
       "      <td>2809</td>\n",
       "      <td>0</td>\n",
       "      <td>81</td>\n",
       "      <td>0</td>\n",
       "      <td>281</td>\n",
       "      <td>...</td>\n",
       "      <td>108</td>\n",
       "      <td>2070</td>\n",
       "      <td>631</td>\n",
       "      <td>{42B36DB7-6C0D-4A0D-AE78-E269A191E20E}</td>\n",
       "      <td>NaN</td>\n",
       "      <td>NaN</td>\n",
       "      <td>0.000000</td>\n",
       "      <td>0.0</td>\n",
       "      <td>NaN</td>\n",
       "      <td>NaN</td>\n",
       "    </tr>\n",
       "  </tbody>\n",
       "</table>\n",
       "<p>91692 rows × 45 columns</p>\n",
       "</div>"
      ],
      "text/plain": [
       "       OBJECTID   COUNTY  CNTY_FIPS               DATESTAMP  C_New  C_Cum  \\\n",
       "0             1  BALDWIN       1003  2021/04/13 03:59:59+00      4   3795   \n",
       "1             2  UNKNOWN          1  2021/02/04 05:00:00+00      4   2158   \n",
       "2             3  BALDWIN       1003  2021/04/14 03:59:59+00      2   3797   \n",
       "3             4  UNKNOWN          1  2021/02/05 05:00:00+00      1   2159   \n",
       "4             5  BALDWIN       1003  2021/04/15 03:59:59+00      0   3797   \n",
       "...         ...      ...        ...                     ...    ...    ...   \n",
       "91687     91688    WAYNE      49055  2021/07/15 03:59:59+00      0   2809   \n",
       "91688     91689    WAYNE      49055  2021/07/16 03:59:59+00      0   2809   \n",
       "91689     91690    WAYNE      49055  2021/07/17 03:59:59+00      0   2809   \n",
       "91690     91691    WAYNE      49055  2021/07/18 03:59:59+00      0   2809   \n",
       "91691     91692    WAYNE      49055  2021/07/19 03:59:59+00      0   2809   \n",
       "\n",
       "       D_New  D_Cum  H_New  H_Cum  ...  C_His  C_NonHis  C_EthUnk  \\\n",
       "0          0    115      0    318  ...    106      2897       792   \n",
       "1          0      4      0     36  ...     80       155      1923   \n",
       "2          0    115      0    318  ...    106      2898       793   \n",
       "3          0      4      0     36  ...     80       156      1923   \n",
       "4          0    115      0    318  ...    106      2898       793   \n",
       "...      ...    ...    ...    ...  ...    ...       ...       ...   \n",
       "91687      0     81      0    281  ...    108      2070       631   \n",
       "91688      0     81      0    281  ...    108      2070       631   \n",
       "91689      0     81      0    281  ...    108      2070       631   \n",
       "91690      0     81      0    281  ...    108      2070       631   \n",
       "91691      0     81      0    281  ...    108      2070       631   \n",
       "\n",
       "                                     GlobalID  C_NEW_PERCT_CHG  \\\n",
       "0      {6D1CBB20-5FCF-4FA3-9112-504CF3A93EE8}              NaN   \n",
       "1      {925F3292-9C8D-420F-9FE5-97E82BC7F8E8}        -0.428571   \n",
       "2      {1F195651-C20F-4B60-98B0-D0481D40F263}              NaN   \n",
       "3      {C614DA89-4EAB-4807-9FDE-7661AEFCC144}              NaN   \n",
       "4      {EBFFE6DD-9C7F-44F1-B19A-AC69E6EB4093}              NaN   \n",
       "...                                       ...              ...   \n",
       "91687  {D678A5A4-8531-4A06-B71A-A757A4933957}              NaN   \n",
       "91688  {6F4E3A27-D6A2-422F-B7CA-16595DA36061}              NaN   \n",
       "91689  {CE952CC5-B75F-45E7-BC12-954B1EE71F31}              NaN   \n",
       "91690  {D07AF78B-C535-4F99-8E04-AED183809453}              NaN   \n",
       "91691  {42B36DB7-6C0D-4A0D-AE78-E269A191E20E}              NaN   \n",
       "\n",
       "       D_NEW_PERCT_CHG  C_NEW_7D_MEAN  D_NEW_7D_MEAN  C_NEW_7D_PERCT_CHG  \\\n",
       "0                  NaN       1.857143            0.0                 NaN   \n",
       "1                  NaN       2.714286            0.0                 NaN   \n",
       "2                  NaN       1.857143            0.0                 NaN   \n",
       "3                  NaN       2.857143            0.0                 NaN   \n",
       "4                  NaN       1.857143            0.0                 NaN   \n",
       "...                ...            ...            ...                 ...   \n",
       "91687              NaN       0.142857            0.0                 NaN   \n",
       "91688              NaN       0.000000            0.0                 NaN   \n",
       "91689              NaN       0.000000            0.0                 NaN   \n",
       "91690              NaN       0.000000            0.0                 NaN   \n",
       "91691              NaN       0.000000            0.0                 NaN   \n",
       "\n",
       "       D_NEW_7D_PERCT_CHG  \n",
       "0                     NaN  \n",
       "1                     NaN  \n",
       "2                     NaN  \n",
       "3                     NaN  \n",
       "4                     NaN  \n",
       "...                   ...  \n",
       "91687                 NaN  \n",
       "91688                 NaN  \n",
       "91689                 NaN  \n",
       "91690                 NaN  \n",
       "91691                 NaN  \n",
       "\n",
       "[91692 rows x 45 columns]"
      ]
     },
     "execution_count": 3,
     "metadata": {},
     "output_type": "execute_result"
    }
   ],
   "source": [
    "dataFrame = pd.read_csv('https://raw.githubusercontent.com/hantswilliams/AHI_Microcourse_Visualization/main/Data/Georgia_COVID/Georgia_COVID-19_Case_Data.csv')\n",
    "dataFrame"
   ]
  },
  {
   "cell_type": "code",
   "execution_count": 4,
   "metadata": {},
   "outputs": [
    {
     "data": {
      "text/plain": [
       "91692"
      ]
     },
     "execution_count": 4,
     "metadata": {},
     "output_type": "execute_result"
    }
   ],
   "source": [
    "len(dataFrame)"
   ]
  },
  {
   "cell_type": "code",
   "execution_count": 5,
   "metadata": {},
   "outputs": [
    {
     "data": {
      "text/plain": [
       "(91692, 45)"
      ]
     },
     "execution_count": 5,
     "metadata": {},
     "output_type": "execute_result"
    }
   ],
   "source": [
    "dataFrame.shape\n",
    "# (rows, columns)"
   ]
  },
  {
   "cell_type": "markdown",
   "metadata": {},
   "source": [
    "## Describing the Variables"
   ]
  },
  {
   "cell_type": "code",
   "execution_count": 6,
   "metadata": {},
   "outputs": [
    {
     "name": "stdout",
     "output_type": "stream",
     "text": [
      "<class 'pandas.core.frame.DataFrame'>\n",
      "RangeIndex: 91692 entries, 0 to 91691\n",
      "Data columns (total 45 columns):\n",
      " #   Column              Non-Null Count  Dtype  \n",
      "---  ------              --------------  -----  \n",
      " 0   OBJECTID            91692 non-null  int64  \n",
      " 1   COUNTY              91692 non-null  object \n",
      " 2   CNTY_FIPS           91692 non-null  int64  \n",
      " 3   DATESTAMP           91692 non-null  object \n",
      " 4   C_New               91692 non-null  int64  \n",
      " 5   C_Cum               91692 non-null  int64  \n",
      " 6   D_New               91692 non-null  int64  \n",
      " 7   D_Cum               91692 non-null  int64  \n",
      " 8   H_New               91692 non-null  int64  \n",
      " 9   H_Cum               91692 non-null  int64  \n",
      " 10  C_Rate              91692 non-null  int64  \n",
      " 11  C_Female            91692 non-null  int64  \n",
      " 12  C_Male              91692 non-null  int64  \n",
      " 13  C_SexUnkn           91692 non-null  int64  \n",
      " 14  C_UCon_Yes          91692 non-null  int64  \n",
      " 15  C_UCon_No           91692 non-null  int64  \n",
      " 16  C_UCon_Unk          91692 non-null  int64  \n",
      " 17  C_Age_0_4           91692 non-null  int64  \n",
      " 18  C_Age_5_14          91692 non-null  int64  \n",
      " 19  C_Age_15_24         91692 non-null  int64  \n",
      " 20  C_Age_25_34         91692 non-null  int64  \n",
      " 21  C_Age_35_44         91692 non-null  int64  \n",
      " 22  C_Age_45_54         91692 non-null  int64  \n",
      " 23  C_Age_55_64         91692 non-null  int64  \n",
      " 24  C_Age_65_74         91692 non-null  int64  \n",
      " 25  C_Age_75_84         91692 non-null  int64  \n",
      " 26  C_Age_85plus        91692 non-null  int64  \n",
      " 27  C_Age_Unkn          91692 non-null  int64  \n",
      " 28  C_Age_0             91692 non-null  int64  \n",
      " 29  C_Age_20            91692 non-null  int64  \n",
      " 30  C_RaceWh            91692 non-null  int64  \n",
      " 31  C_RaceBl            91692 non-null  int64  \n",
      " 32  C_RaceAs            91692 non-null  int64  \n",
      " 33  C_RaceOth           91692 non-null  int64  \n",
      " 34  C_RaceUnk           91692 non-null  int64  \n",
      " 35  C_His               91692 non-null  int64  \n",
      " 36  C_NonHis            91692 non-null  int64  \n",
      " 37  C_EthUnk            91692 non-null  int64  \n",
      " 38  GlobalID            91692 non-null  object \n",
      " 39  C_NEW_PERCT_CHG     31895 non-null  float64\n",
      " 40  D_NEW_PERCT_CHG     1149 non-null   float64\n",
      " 41  C_NEW_7D_MEAN       91692 non-null  float64\n",
      " 42  D_NEW_7D_MEAN       91692 non-null  float64\n",
      " 43  C_NEW_7D_PERCT_CHG  36111 non-null  float64\n",
      " 44  D_NEW_7D_PERCT_CHG  1276 non-null   float64\n",
      "dtypes: float64(6), int64(36), object(3)\n",
      "memory usage: 31.5+ MB\n"
     ]
    }
   ],
   "source": [
    "dataFrame.info()"
   ]
  },
  {
   "cell_type": "code",
   "execution_count": 7,
   "metadata": {},
   "outputs": [
    {
     "data": {
      "text/plain": [
       "['OBJECTID',\n",
       " 'COUNTY',\n",
       " 'CNTY_FIPS',\n",
       " 'DATESTAMP',\n",
       " 'C_New',\n",
       " 'C_Cum',\n",
       " 'D_New',\n",
       " 'D_Cum',\n",
       " 'H_New',\n",
       " 'H_Cum',\n",
       " 'C_Rate',\n",
       " 'C_Female',\n",
       " 'C_Male',\n",
       " 'C_SexUnkn',\n",
       " 'C_UCon_Yes',\n",
       " 'C_UCon_No',\n",
       " 'C_UCon_Unk',\n",
       " 'C_Age_0_4',\n",
       " 'C_Age_5_14',\n",
       " 'C_Age_15_24',\n",
       " 'C_Age_25_34',\n",
       " 'C_Age_35_44',\n",
       " 'C_Age_45_54',\n",
       " 'C_Age_55_64',\n",
       " 'C_Age_65_74',\n",
       " 'C_Age_75_84',\n",
       " 'C_Age_85plus',\n",
       " 'C_Age_Unkn',\n",
       " 'C_Age_0',\n",
       " 'C_Age_20',\n",
       " 'C_RaceWh',\n",
       " 'C_RaceBl',\n",
       " 'C_RaceAs',\n",
       " 'C_RaceOth',\n",
       " 'C_RaceUnk',\n",
       " 'C_His',\n",
       " 'C_NonHis',\n",
       " 'C_EthUnk',\n",
       " 'GlobalID',\n",
       " 'C_NEW_PERCT_CHG',\n",
       " 'D_NEW_PERCT_CHG',\n",
       " 'C_NEW_7D_MEAN',\n",
       " 'D_NEW_7D_MEAN',\n",
       " 'C_NEW_7D_PERCT_CHG',\n",
       " 'D_NEW_7D_PERCT_CHG']"
      ]
     },
     "execution_count": 7,
     "metadata": {},
     "output_type": "execute_result"
    }
   ],
   "source": [
    "list(dataFrame)"
   ]
  },
  {
   "cell_type": "code",
   "execution_count": 8,
   "metadata": {},
   "outputs": [
    {
     "data": {
      "text/plain": [
       "BALDWIN       566\n",
       "UNION         566\n",
       "COOK          566\n",
       "CARROLL       566\n",
       "EFFINGHAM     566\n",
       "             ... \n",
       "FORSYTH       566\n",
       "GILMER        566\n",
       "GLYNN         566\n",
       "GLASCOCK      566\n",
       "WASHINGTON    566\n",
       "Name: COUNTY, Length: 162, dtype: int64"
      ]
     },
     "execution_count": 8,
     "metadata": {},
     "output_type": "execute_result"
    }
   ],
   "source": [
    "dataFrame['COUNTY'].value_counts()"
   ]
  },
  {
   "cell_type": "code",
   "execution_count": 9,
   "metadata": {},
   "outputs": [
    {
     "data": {
      "text/plain": [
       "BALDWIN      566\n",
       "UNION        566\n",
       "COOK         566\n",
       "CARROLL      566\n",
       "EFFINGHAM    566\n",
       "GREENE       566\n",
       "HART         566\n",
       "BERRIEN      566\n",
       "CRAWFORD     566\n",
       "HANCOCK      566\n",
       "PIKE         566\n",
       "QUITMAN      566\n",
       "WARREN       566\n",
       "CAMDEN       566\n",
       "WILKINSON    566\n",
       "DEKALB       566\n",
       "PIERCE       566\n",
       "WORTH        566\n",
       "WEBSTER      566\n",
       "MADISON      566\n",
       "Name: COUNTY, dtype: int64"
      ]
     },
     "execution_count": 9,
     "metadata": {},
     "output_type": "execute_result"
    }
   ],
   "source": [
    "dataFrame_counties = dataFrame['COUNTY'].value_counts()\n",
    "dataFrame_counties.head(20)"
   ]
  },
  {
   "cell_type": "markdown",
   "metadata": {},
   "source": [
    "## Transforming Columns"
   ]
  },
  {
   "cell_type": "code",
   "execution_count": 10,
   "metadata": {},
   "outputs": [
    {
     "data": {
      "text/plain": [
       "0        2021/04/13 03:59:59+00\n",
       "1        2021/02/04 05:00:00+00\n",
       "2        2021/04/14 03:59:59+00\n",
       "3        2021/02/05 05:00:00+00\n",
       "4        2021/04/15 03:59:59+00\n",
       "                  ...          \n",
       "91687    2021/07/15 03:59:59+00\n",
       "91688    2021/07/16 03:59:59+00\n",
       "91689    2021/07/17 03:59:59+00\n",
       "91690    2021/07/18 03:59:59+00\n",
       "91691    2021/07/19 03:59:59+00\n",
       "Name: DATESTAMP, Length: 91692, dtype: object"
      ]
     },
     "execution_count": 10,
     "metadata": {},
     "output_type": "execute_result"
    }
   ],
   "source": [
    "dataFrame['DATESTAMP']"
   ]
  },
  {
   "cell_type": "code",
   "execution_count": 11,
   "metadata": {},
   "outputs": [
    {
     "name": "stdout",
     "output_type": "stream",
     "text": [
      "0    2021/04/13 03:59:59+00\n",
      "1    2021/02/04 05:00:00+00\n",
      "2    2021/04/14 03:59:59+00\n",
      "3    2021/02/05 05:00:00+00\n",
      "4    2021/04/15 03:59:59+00\n",
      "5    2021/02/06 05:00:00+00\n",
      "6    2021/02/07 05:00:00+00\n",
      "7    2021/04/16 03:59:59+00\n",
      "8    2021/04/17 03:59:59+00\n",
      "9    2021/02/08 05:00:00+00\n",
      "Name: DATESTAMP_MOD, dtype: object\n",
      "object\n"
     ]
    }
   ],
   "source": [
    "# creating a copy of the existing column so we can keep the original\n",
    "# we could also overwrite the the column if we wanted to, but because we are unsure\n",
    "# where we are going to take the analysis - lets just keep it\n",
    "\n",
    "dataFrame['DATESTAMP_MOD'] = dataFrame['DATESTAMP']\n",
    "print(dataFrame['DATESTAMP_MOD'].head(10))\n",
    "print(dataFrame['DATESTAMP_MOD'].dtypes)"
   ]
  },
  {
   "cell_type": "code",
   "execution_count": 14,
   "metadata": {},
   "outputs": [
    {
     "name": "stdout",
     "output_type": "stream",
     "text": [
      "datetime64[ns, UTC]\n"
     ]
    }
   ],
   "source": [
    "dataFrame['DATESTAMP_MOD'] = pd.to_datetime(dataFrame['DATESTAMP_MOD'])\n",
    "print(dataFrame['DATESTAMP_MOD'].dtypes)"
   ]
  },
  {
   "cell_type": "code",
   "execution_count": 16,
   "metadata": {},
   "outputs": [
    {
     "data": {
      "text/html": [
       "<div>\n",
       "<style scoped>\n",
       "    .dataframe tbody tr th:only-of-type {\n",
       "        vertical-align: middle;\n",
       "    }\n",
       "\n",
       "    .dataframe tbody tr th {\n",
       "        vertical-align: top;\n",
       "    }\n",
       "\n",
       "    .dataframe thead th {\n",
       "        text-align: right;\n",
       "    }\n",
       "</style>\n",
       "<table border=\"1\" class=\"dataframe\">\n",
       "  <thead>\n",
       "    <tr style=\"text-align: right;\">\n",
       "      <th></th>\n",
       "      <th>DATESTAMP</th>\n",
       "      <th>DATESTAMP_MOD</th>\n",
       "    </tr>\n",
       "  </thead>\n",
       "  <tbody>\n",
       "    <tr>\n",
       "      <th>0</th>\n",
       "      <td>2021/04/13 03:59:59+00</td>\n",
       "      <td>2021-04-13 03:59:59+00:00</td>\n",
       "    </tr>\n",
       "    <tr>\n",
       "      <th>1</th>\n",
       "      <td>2021/02/04 05:00:00+00</td>\n",
       "      <td>2021-02-04 05:00:00+00:00</td>\n",
       "    </tr>\n",
       "    <tr>\n",
       "      <th>2</th>\n",
       "      <td>2021/04/14 03:59:59+00</td>\n",
       "      <td>2021-04-14 03:59:59+00:00</td>\n",
       "    </tr>\n",
       "    <tr>\n",
       "      <th>3</th>\n",
       "      <td>2021/02/05 05:00:00+00</td>\n",
       "      <td>2021-02-05 05:00:00+00:00</td>\n",
       "    </tr>\n",
       "    <tr>\n",
       "      <th>4</th>\n",
       "      <td>2021/04/15 03:59:59+00</td>\n",
       "      <td>2021-04-15 03:59:59+00:00</td>\n",
       "    </tr>\n",
       "    <tr>\n",
       "      <th>...</th>\n",
       "      <td>...</td>\n",
       "      <td>...</td>\n",
       "    </tr>\n",
       "    <tr>\n",
       "      <th>91687</th>\n",
       "      <td>2021/07/15 03:59:59+00</td>\n",
       "      <td>2021-07-15 03:59:59+00:00</td>\n",
       "    </tr>\n",
       "    <tr>\n",
       "      <th>91688</th>\n",
       "      <td>2021/07/16 03:59:59+00</td>\n",
       "      <td>2021-07-16 03:59:59+00:00</td>\n",
       "    </tr>\n",
       "    <tr>\n",
       "      <th>91689</th>\n",
       "      <td>2021/07/17 03:59:59+00</td>\n",
       "      <td>2021-07-17 03:59:59+00:00</td>\n",
       "    </tr>\n",
       "    <tr>\n",
       "      <th>91690</th>\n",
       "      <td>2021/07/18 03:59:59+00</td>\n",
       "      <td>2021-07-18 03:59:59+00:00</td>\n",
       "    </tr>\n",
       "    <tr>\n",
       "      <th>91691</th>\n",
       "      <td>2021/07/19 03:59:59+00</td>\n",
       "      <td>2021-07-19 03:59:59+00:00</td>\n",
       "    </tr>\n",
       "  </tbody>\n",
       "</table>\n",
       "<p>91692 rows × 2 columns</p>\n",
       "</div>"
      ],
      "text/plain": [
       "                    DATESTAMP             DATESTAMP_MOD\n",
       "0      2021/04/13 03:59:59+00 2021-04-13 03:59:59+00:00\n",
       "1      2021/02/04 05:00:00+00 2021-02-04 05:00:00+00:00\n",
       "2      2021/04/14 03:59:59+00 2021-04-14 03:59:59+00:00\n",
       "3      2021/02/05 05:00:00+00 2021-02-05 05:00:00+00:00\n",
       "4      2021/04/15 03:59:59+00 2021-04-15 03:59:59+00:00\n",
       "...                       ...                       ...\n",
       "91687  2021/07/15 03:59:59+00 2021-07-15 03:59:59+00:00\n",
       "91688  2021/07/16 03:59:59+00 2021-07-16 03:59:59+00:00\n",
       "91689  2021/07/17 03:59:59+00 2021-07-17 03:59:59+00:00\n",
       "91690  2021/07/18 03:59:59+00 2021-07-18 03:59:59+00:00\n",
       "91691  2021/07/19 03:59:59+00 2021-07-19 03:59:59+00:00\n",
       "\n",
       "[91692 rows x 2 columns]"
      ]
     },
     "execution_count": 16,
     "metadata": {},
     "output_type": "execute_result"
    }
   ],
   "source": [
    "dataFrame[['DATESTAMP', 'DATESTAMP_MOD']]"
   ]
  },
  {
   "cell_type": "code",
   "execution_count": 17,
   "metadata": {},
   "outputs": [
    {
     "data": {
      "text/plain": [
       "0        2021-04-13\n",
       "1        2021-02-04\n",
       "2        2021-04-14\n",
       "3        2021-02-05\n",
       "4        2021-04-15\n",
       "            ...    \n",
       "91687    2021-07-15\n",
       "91688    2021-07-16\n",
       "91689    2021-07-17\n",
       "91690    2021-07-18\n",
       "91691    2021-07-19\n",
       "Name: DATESTAMP_MOD_DAY, Length: 91692, dtype: object"
      ]
     },
     "execution_count": 17,
     "metadata": {},
     "output_type": "execute_result"
    }
   ],
   "source": [
    "dataFrame['DATESTAMP_MOD_DAY'] = dataFrame['DATESTAMP_MOD'].dt.date\n",
    "dataFrame['DATESTAMP_MOD_DAY']"
   ]
  },
  {
   "cell_type": "code",
   "execution_count": 22,
   "metadata": {},
   "outputs": [],
   "source": [
    "dataFrame['DATESTAMP_MOD_YEAR'] = dataFrame['DATESTAMP_MOD'].dt.year\n",
    "dataFrame['DATESTAMP_MOD_MONTH'] = dataFrame['DATESTAMP_MOD'].dt.month"
   ]
  },
  {
   "cell_type": "code",
   "execution_count": 23,
   "metadata": {},
   "outputs": [
    {
     "data": {
      "text/plain": [
       "0        2021\n",
       "1        2021\n",
       "2        2021\n",
       "3        2021\n",
       "4        2021\n",
       "         ... \n",
       "91687    2021\n",
       "91688    2021\n",
       "91689    2021\n",
       "91690    2021\n",
       "91691    2021\n",
       "Name: DATESTAMP_MOD_YEAR, Length: 91692, dtype: int64"
      ]
     },
     "execution_count": 23,
     "metadata": {},
     "output_type": "execute_result"
    }
   ],
   "source": [
    "dataFrame['DATESTAMP_MOD_YEAR']"
   ]
  },
  {
   "cell_type": "code",
   "execution_count": 24,
   "metadata": {},
   "outputs": [
    {
     "data": {
      "text/plain": [
       "0        4\n",
       "1        2\n",
       "2        4\n",
       "3        2\n",
       "4        4\n",
       "        ..\n",
       "91687    7\n",
       "91688    7\n",
       "91689    7\n",
       "91690    7\n",
       "91691    7\n",
       "Name: DATESTAMP_MOD_MONTH, Length: 91692, dtype: int64"
      ]
     },
     "execution_count": 24,
     "metadata": {},
     "output_type": "execute_result"
    }
   ],
   "source": [
    "dataFrame['DATESTAMP_MOD_MONTH']"
   ]
  },
  {
   "cell_type": "code",
   "execution_count": 25,
   "metadata": {},
   "outputs": [
    {
     "data": {
      "text/html": [
       "<div>\n",
       "<style scoped>\n",
       "    .dataframe tbody tr th:only-of-type {\n",
       "        vertical-align: middle;\n",
       "    }\n",
       "\n",
       "    .dataframe tbody tr th {\n",
       "        vertical-align: top;\n",
       "    }\n",
       "\n",
       "    .dataframe thead th {\n",
       "        text-align: right;\n",
       "    }\n",
       "</style>\n",
       "<table border=\"1\" class=\"dataframe\">\n",
       "  <thead>\n",
       "    <tr style=\"text-align: right;\">\n",
       "      <th></th>\n",
       "      <th>OBJECTID</th>\n",
       "      <th>COUNTY</th>\n",
       "      <th>CNTY_FIPS</th>\n",
       "      <th>DATESTAMP</th>\n",
       "      <th>C_New</th>\n",
       "      <th>C_Cum</th>\n",
       "      <th>D_New</th>\n",
       "      <th>D_Cum</th>\n",
       "      <th>H_New</th>\n",
       "      <th>H_Cum</th>\n",
       "      <th>...</th>\n",
       "      <th>C_NEW_PERCT_CHG</th>\n",
       "      <th>D_NEW_PERCT_CHG</th>\n",
       "      <th>C_NEW_7D_MEAN</th>\n",
       "      <th>D_NEW_7D_MEAN</th>\n",
       "      <th>C_NEW_7D_PERCT_CHG</th>\n",
       "      <th>D_NEW_7D_PERCT_CHG</th>\n",
       "      <th>DATESTAMP_MOD</th>\n",
       "      <th>DATESTAMP_MOD_DAY</th>\n",
       "      <th>DATESTAMP_MOD_YEAR</th>\n",
       "      <th>DATESTAMP_MOD_MONTH</th>\n",
       "    </tr>\n",
       "  </thead>\n",
       "  <tbody>\n",
       "    <tr>\n",
       "      <th>0</th>\n",
       "      <td>1</td>\n",
       "      <td>BALDWIN</td>\n",
       "      <td>1003</td>\n",
       "      <td>2021/04/13 03:59:59+00</td>\n",
       "      <td>4</td>\n",
       "      <td>3795</td>\n",
       "      <td>0</td>\n",
       "      <td>115</td>\n",
       "      <td>0</td>\n",
       "      <td>318</td>\n",
       "      <td>...</td>\n",
       "      <td>NaN</td>\n",
       "      <td>NaN</td>\n",
       "      <td>1.857143</td>\n",
       "      <td>0.0</td>\n",
       "      <td>NaN</td>\n",
       "      <td>NaN</td>\n",
       "      <td>2021-04-13 03:59:59+00:00</td>\n",
       "      <td>2021-04-13</td>\n",
       "      <td>2021</td>\n",
       "      <td>4</td>\n",
       "    </tr>\n",
       "    <tr>\n",
       "      <th>1</th>\n",
       "      <td>2</td>\n",
       "      <td>UNKNOWN</td>\n",
       "      <td>1</td>\n",
       "      <td>2021/02/04 05:00:00+00</td>\n",
       "      <td>4</td>\n",
       "      <td>2158</td>\n",
       "      <td>0</td>\n",
       "      <td>4</td>\n",
       "      <td>0</td>\n",
       "      <td>36</td>\n",
       "      <td>...</td>\n",
       "      <td>-0.428571</td>\n",
       "      <td>NaN</td>\n",
       "      <td>2.714286</td>\n",
       "      <td>0.0</td>\n",
       "      <td>NaN</td>\n",
       "      <td>NaN</td>\n",
       "      <td>2021-02-04 05:00:00+00:00</td>\n",
       "      <td>2021-02-04</td>\n",
       "      <td>2021</td>\n",
       "      <td>2</td>\n",
       "    </tr>\n",
       "    <tr>\n",
       "      <th>2</th>\n",
       "      <td>3</td>\n",
       "      <td>BALDWIN</td>\n",
       "      <td>1003</td>\n",
       "      <td>2021/04/14 03:59:59+00</td>\n",
       "      <td>2</td>\n",
       "      <td>3797</td>\n",
       "      <td>0</td>\n",
       "      <td>115</td>\n",
       "      <td>0</td>\n",
       "      <td>318</td>\n",
       "      <td>...</td>\n",
       "      <td>NaN</td>\n",
       "      <td>NaN</td>\n",
       "      <td>1.857143</td>\n",
       "      <td>0.0</td>\n",
       "      <td>NaN</td>\n",
       "      <td>NaN</td>\n",
       "      <td>2021-04-14 03:59:59+00:00</td>\n",
       "      <td>2021-04-14</td>\n",
       "      <td>2021</td>\n",
       "      <td>4</td>\n",
       "    </tr>\n",
       "    <tr>\n",
       "      <th>3</th>\n",
       "      <td>4</td>\n",
       "      <td>UNKNOWN</td>\n",
       "      <td>1</td>\n",
       "      <td>2021/02/05 05:00:00+00</td>\n",
       "      <td>1</td>\n",
       "      <td>2159</td>\n",
       "      <td>0</td>\n",
       "      <td>4</td>\n",
       "      <td>0</td>\n",
       "      <td>36</td>\n",
       "      <td>...</td>\n",
       "      <td>NaN</td>\n",
       "      <td>NaN</td>\n",
       "      <td>2.857143</td>\n",
       "      <td>0.0</td>\n",
       "      <td>NaN</td>\n",
       "      <td>NaN</td>\n",
       "      <td>2021-02-05 05:00:00+00:00</td>\n",
       "      <td>2021-02-05</td>\n",
       "      <td>2021</td>\n",
       "      <td>2</td>\n",
       "    </tr>\n",
       "    <tr>\n",
       "      <th>4</th>\n",
       "      <td>5</td>\n",
       "      <td>BALDWIN</td>\n",
       "      <td>1003</td>\n",
       "      <td>2021/04/15 03:59:59+00</td>\n",
       "      <td>0</td>\n",
       "      <td>3797</td>\n",
       "      <td>0</td>\n",
       "      <td>115</td>\n",
       "      <td>0</td>\n",
       "      <td>318</td>\n",
       "      <td>...</td>\n",
       "      <td>NaN</td>\n",
       "      <td>NaN</td>\n",
       "      <td>1.857143</td>\n",
       "      <td>0.0</td>\n",
       "      <td>NaN</td>\n",
       "      <td>NaN</td>\n",
       "      <td>2021-04-15 03:59:59+00:00</td>\n",
       "      <td>2021-04-15</td>\n",
       "      <td>2021</td>\n",
       "      <td>4</td>\n",
       "    </tr>\n",
       "    <tr>\n",
       "      <th>...</th>\n",
       "      <td>...</td>\n",
       "      <td>...</td>\n",
       "      <td>...</td>\n",
       "      <td>...</td>\n",
       "      <td>...</td>\n",
       "      <td>...</td>\n",
       "      <td>...</td>\n",
       "      <td>...</td>\n",
       "      <td>...</td>\n",
       "      <td>...</td>\n",
       "      <td>...</td>\n",
       "      <td>...</td>\n",
       "      <td>...</td>\n",
       "      <td>...</td>\n",
       "      <td>...</td>\n",
       "      <td>...</td>\n",
       "      <td>...</td>\n",
       "      <td>...</td>\n",
       "      <td>...</td>\n",
       "      <td>...</td>\n",
       "      <td>...</td>\n",
       "    </tr>\n",
       "    <tr>\n",
       "      <th>91687</th>\n",
       "      <td>91688</td>\n",
       "      <td>WAYNE</td>\n",
       "      <td>49055</td>\n",
       "      <td>2021/07/15 03:59:59+00</td>\n",
       "      <td>0</td>\n",
       "      <td>2809</td>\n",
       "      <td>0</td>\n",
       "      <td>81</td>\n",
       "      <td>0</td>\n",
       "      <td>281</td>\n",
       "      <td>...</td>\n",
       "      <td>NaN</td>\n",
       "      <td>NaN</td>\n",
       "      <td>0.142857</td>\n",
       "      <td>0.0</td>\n",
       "      <td>NaN</td>\n",
       "      <td>NaN</td>\n",
       "      <td>2021-07-15 03:59:59+00:00</td>\n",
       "      <td>2021-07-15</td>\n",
       "      <td>2021</td>\n",
       "      <td>7</td>\n",
       "    </tr>\n",
       "    <tr>\n",
       "      <th>91688</th>\n",
       "      <td>91689</td>\n",
       "      <td>WAYNE</td>\n",
       "      <td>49055</td>\n",
       "      <td>2021/07/16 03:59:59+00</td>\n",
       "      <td>0</td>\n",
       "      <td>2809</td>\n",
       "      <td>0</td>\n",
       "      <td>81</td>\n",
       "      <td>0</td>\n",
       "      <td>281</td>\n",
       "      <td>...</td>\n",
       "      <td>NaN</td>\n",
       "      <td>NaN</td>\n",
       "      <td>0.000000</td>\n",
       "      <td>0.0</td>\n",
       "      <td>NaN</td>\n",
       "      <td>NaN</td>\n",
       "      <td>2021-07-16 03:59:59+00:00</td>\n",
       "      <td>2021-07-16</td>\n",
       "      <td>2021</td>\n",
       "      <td>7</td>\n",
       "    </tr>\n",
       "    <tr>\n",
       "      <th>91689</th>\n",
       "      <td>91690</td>\n",
       "      <td>WAYNE</td>\n",
       "      <td>49055</td>\n",
       "      <td>2021/07/17 03:59:59+00</td>\n",
       "      <td>0</td>\n",
       "      <td>2809</td>\n",
       "      <td>0</td>\n",
       "      <td>81</td>\n",
       "      <td>0</td>\n",
       "      <td>281</td>\n",
       "      <td>...</td>\n",
       "      <td>NaN</td>\n",
       "      <td>NaN</td>\n",
       "      <td>0.000000</td>\n",
       "      <td>0.0</td>\n",
       "      <td>NaN</td>\n",
       "      <td>NaN</td>\n",
       "      <td>2021-07-17 03:59:59+00:00</td>\n",
       "      <td>2021-07-17</td>\n",
       "      <td>2021</td>\n",
       "      <td>7</td>\n",
       "    </tr>\n",
       "    <tr>\n",
       "      <th>91690</th>\n",
       "      <td>91691</td>\n",
       "      <td>WAYNE</td>\n",
       "      <td>49055</td>\n",
       "      <td>2021/07/18 03:59:59+00</td>\n",
       "      <td>0</td>\n",
       "      <td>2809</td>\n",
       "      <td>0</td>\n",
       "      <td>81</td>\n",
       "      <td>0</td>\n",
       "      <td>281</td>\n",
       "      <td>...</td>\n",
       "      <td>NaN</td>\n",
       "      <td>NaN</td>\n",
       "      <td>0.000000</td>\n",
       "      <td>0.0</td>\n",
       "      <td>NaN</td>\n",
       "      <td>NaN</td>\n",
       "      <td>2021-07-18 03:59:59+00:00</td>\n",
       "      <td>2021-07-18</td>\n",
       "      <td>2021</td>\n",
       "      <td>7</td>\n",
       "    </tr>\n",
       "    <tr>\n",
       "      <th>91691</th>\n",
       "      <td>91692</td>\n",
       "      <td>WAYNE</td>\n",
       "      <td>49055</td>\n",
       "      <td>2021/07/19 03:59:59+00</td>\n",
       "      <td>0</td>\n",
       "      <td>2809</td>\n",
       "      <td>0</td>\n",
       "      <td>81</td>\n",
       "      <td>0</td>\n",
       "      <td>281</td>\n",
       "      <td>...</td>\n",
       "      <td>NaN</td>\n",
       "      <td>NaN</td>\n",
       "      <td>0.000000</td>\n",
       "      <td>0.0</td>\n",
       "      <td>NaN</td>\n",
       "      <td>NaN</td>\n",
       "      <td>2021-07-19 03:59:59+00:00</td>\n",
       "      <td>2021-07-19</td>\n",
       "      <td>2021</td>\n",
       "      <td>7</td>\n",
       "    </tr>\n",
       "  </tbody>\n",
       "</table>\n",
       "<p>91692 rows × 49 columns</p>\n",
       "</div>"
      ],
      "text/plain": [
       "       OBJECTID   COUNTY  CNTY_FIPS               DATESTAMP  C_New  C_Cum  \\\n",
       "0             1  BALDWIN       1003  2021/04/13 03:59:59+00      4   3795   \n",
       "1             2  UNKNOWN          1  2021/02/04 05:00:00+00      4   2158   \n",
       "2             3  BALDWIN       1003  2021/04/14 03:59:59+00      2   3797   \n",
       "3             4  UNKNOWN          1  2021/02/05 05:00:00+00      1   2159   \n",
       "4             5  BALDWIN       1003  2021/04/15 03:59:59+00      0   3797   \n",
       "...         ...      ...        ...                     ...    ...    ...   \n",
       "91687     91688    WAYNE      49055  2021/07/15 03:59:59+00      0   2809   \n",
       "91688     91689    WAYNE      49055  2021/07/16 03:59:59+00      0   2809   \n",
       "91689     91690    WAYNE      49055  2021/07/17 03:59:59+00      0   2809   \n",
       "91690     91691    WAYNE      49055  2021/07/18 03:59:59+00      0   2809   \n",
       "91691     91692    WAYNE      49055  2021/07/19 03:59:59+00      0   2809   \n",
       "\n",
       "       D_New  D_Cum  H_New  H_Cum  ...  C_NEW_PERCT_CHG  D_NEW_PERCT_CHG  \\\n",
       "0          0    115      0    318  ...              NaN              NaN   \n",
       "1          0      4      0     36  ...        -0.428571              NaN   \n",
       "2          0    115      0    318  ...              NaN              NaN   \n",
       "3          0      4      0     36  ...              NaN              NaN   \n",
       "4          0    115      0    318  ...              NaN              NaN   \n",
       "...      ...    ...    ...    ...  ...              ...              ...   \n",
       "91687      0     81      0    281  ...              NaN              NaN   \n",
       "91688      0     81      0    281  ...              NaN              NaN   \n",
       "91689      0     81      0    281  ...              NaN              NaN   \n",
       "91690      0     81      0    281  ...              NaN              NaN   \n",
       "91691      0     81      0    281  ...              NaN              NaN   \n",
       "\n",
       "       C_NEW_7D_MEAN  D_NEW_7D_MEAN  C_NEW_7D_PERCT_CHG  D_NEW_7D_PERCT_CHG  \\\n",
       "0           1.857143            0.0                 NaN                 NaN   \n",
       "1           2.714286            0.0                 NaN                 NaN   \n",
       "2           1.857143            0.0                 NaN                 NaN   \n",
       "3           2.857143            0.0                 NaN                 NaN   \n",
       "4           1.857143            0.0                 NaN                 NaN   \n",
       "...              ...            ...                 ...                 ...   \n",
       "91687       0.142857            0.0                 NaN                 NaN   \n",
       "91688       0.000000            0.0                 NaN                 NaN   \n",
       "91689       0.000000            0.0                 NaN                 NaN   \n",
       "91690       0.000000            0.0                 NaN                 NaN   \n",
       "91691       0.000000            0.0                 NaN                 NaN   \n",
       "\n",
       "                  DATESTAMP_MOD  DATESTAMP_MOD_DAY  DATESTAMP_MOD_YEAR  \\\n",
       "0     2021-04-13 03:59:59+00:00         2021-04-13                2021   \n",
       "1     2021-02-04 05:00:00+00:00         2021-02-04                2021   \n",
       "2     2021-04-14 03:59:59+00:00         2021-04-14                2021   \n",
       "3     2021-02-05 05:00:00+00:00         2021-02-05                2021   \n",
       "4     2021-04-15 03:59:59+00:00         2021-04-15                2021   \n",
       "...                         ...                ...                 ...   \n",
       "91687 2021-07-15 03:59:59+00:00         2021-07-15                2021   \n",
       "91688 2021-07-16 03:59:59+00:00         2021-07-16                2021   \n",
       "91689 2021-07-17 03:59:59+00:00         2021-07-17                2021   \n",
       "91690 2021-07-18 03:59:59+00:00         2021-07-18                2021   \n",
       "91691 2021-07-19 03:59:59+00:00         2021-07-19                2021   \n",
       "\n",
       "       DATESTAMP_MOD_MONTH  \n",
       "0                        4  \n",
       "1                        2  \n",
       "2                        4  \n",
       "3                        2  \n",
       "4                        4  \n",
       "...                    ...  \n",
       "91687                    7  \n",
       "91688                    7  \n",
       "91689                    7  \n",
       "91690                    7  \n",
       "91691                    7  \n",
       "\n",
       "[91692 rows x 49 columns]"
      ]
     },
     "execution_count": 25,
     "metadata": {},
     "output_type": "execute_result"
    }
   ],
   "source": [
    "dataFrame"
   ]
  },
  {
   "cell_type": "code",
   "execution_count": 29,
   "metadata": {},
   "outputs": [
    {
     "name": "stderr",
     "output_type": "stream",
     "text": [
      "/var/folders/t2/8w_43c7s0pz494_6j017xh4m0000gn/T/ipykernel_73182/883523641.py:1: UserWarning: Converting to PeriodArray/Index representation will drop timezone information.\n",
      "  dataFrame['DATESTAMP_MOD_MONTH_YEAR'] = dataFrame['DATESTAMP_MOD'].dt.to_period('M')\n"
     ]
    },
    {
     "data": {
      "text/plain": [
       "15942    2020-01\n",
       "26961    2020-01\n",
       "26960    2020-01\n",
       "26959    2020-01\n",
       "26958    2020-01\n",
       "          ...   \n",
       "32662    2021-07\n",
       "32663    2021-07\n",
       "32664    2021-07\n",
       "32184    2021-07\n",
       "91691    2021-07\n",
       "Name: DATESTAMP_MOD_MONTH_YEAR, Length: 91692, dtype: period[M]"
      ]
     },
     "execution_count": 29,
     "metadata": {},
     "output_type": "execute_result"
    }
   ],
   "source": [
    "dataFrame['DATESTAMP_MOD_MONTH_YEAR'] = dataFrame['DATESTAMP_MOD'].dt.to_period('M')\n",
    "dataFrame['DATESTAMP_MOD_MONTH_YEAR'].sort_values()"
   ]
  },
  {
   "cell_type": "code",
   "execution_count": 30,
   "metadata": {},
   "outputs": [
    {
     "data": {
      "text/html": [
       "<div>\n",
       "<style scoped>\n",
       "    .dataframe tbody tr th:only-of-type {\n",
       "        vertical-align: middle;\n",
       "    }\n",
       "\n",
       "    .dataframe tbody tr th {\n",
       "        vertical-align: top;\n",
       "    }\n",
       "\n",
       "    .dataframe thead th {\n",
       "        text-align: right;\n",
       "    }\n",
       "</style>\n",
       "<table border=\"1\" class=\"dataframe\">\n",
       "  <thead>\n",
       "    <tr style=\"text-align: right;\">\n",
       "      <th></th>\n",
       "      <th>OBJECTID</th>\n",
       "      <th>COUNTY</th>\n",
       "      <th>CNTY_FIPS</th>\n",
       "      <th>DATESTAMP</th>\n",
       "      <th>C_New</th>\n",
       "      <th>C_Cum</th>\n",
       "      <th>D_New</th>\n",
       "      <th>D_Cum</th>\n",
       "      <th>H_New</th>\n",
       "      <th>H_Cum</th>\n",
       "      <th>...</th>\n",
       "      <th>D_NEW_PERCT_CHG</th>\n",
       "      <th>C_NEW_7D_MEAN</th>\n",
       "      <th>D_NEW_7D_MEAN</th>\n",
       "      <th>C_NEW_7D_PERCT_CHG</th>\n",
       "      <th>D_NEW_7D_PERCT_CHG</th>\n",
       "      <th>DATESTAMP_MOD</th>\n",
       "      <th>DATESTAMP_MOD_DAY</th>\n",
       "      <th>DATESTAMP_MOD_YEAR</th>\n",
       "      <th>DATESTAMP_MOD_MONTH</th>\n",
       "      <th>DATESTAMP_MOD_MONTH_YEAR</th>\n",
       "    </tr>\n",
       "  </thead>\n",
       "  <tbody>\n",
       "    <tr>\n",
       "      <th>0</th>\n",
       "      <td>1</td>\n",
       "      <td>BALDWIN</td>\n",
       "      <td>1003</td>\n",
       "      <td>2021/04/13 03:59:59+00</td>\n",
       "      <td>4</td>\n",
       "      <td>3795</td>\n",
       "      <td>0</td>\n",
       "      <td>115</td>\n",
       "      <td>0</td>\n",
       "      <td>318</td>\n",
       "      <td>...</td>\n",
       "      <td>NaN</td>\n",
       "      <td>1.857143</td>\n",
       "      <td>0.0</td>\n",
       "      <td>NaN</td>\n",
       "      <td>NaN</td>\n",
       "      <td>2021-04-13 03:59:59+00:00</td>\n",
       "      <td>2021-04-13</td>\n",
       "      <td>2021</td>\n",
       "      <td>4</td>\n",
       "      <td>2021-04</td>\n",
       "    </tr>\n",
       "    <tr>\n",
       "      <th>1</th>\n",
       "      <td>2</td>\n",
       "      <td>UNKNOWN</td>\n",
       "      <td>1</td>\n",
       "      <td>2021/02/04 05:00:00+00</td>\n",
       "      <td>4</td>\n",
       "      <td>2158</td>\n",
       "      <td>0</td>\n",
       "      <td>4</td>\n",
       "      <td>0</td>\n",
       "      <td>36</td>\n",
       "      <td>...</td>\n",
       "      <td>NaN</td>\n",
       "      <td>2.714286</td>\n",
       "      <td>0.0</td>\n",
       "      <td>NaN</td>\n",
       "      <td>NaN</td>\n",
       "      <td>2021-02-04 05:00:00+00:00</td>\n",
       "      <td>2021-02-04</td>\n",
       "      <td>2021</td>\n",
       "      <td>2</td>\n",
       "      <td>2021-02</td>\n",
       "    </tr>\n",
       "    <tr>\n",
       "      <th>2</th>\n",
       "      <td>3</td>\n",
       "      <td>BALDWIN</td>\n",
       "      <td>1003</td>\n",
       "      <td>2021/04/14 03:59:59+00</td>\n",
       "      <td>2</td>\n",
       "      <td>3797</td>\n",
       "      <td>0</td>\n",
       "      <td>115</td>\n",
       "      <td>0</td>\n",
       "      <td>318</td>\n",
       "      <td>...</td>\n",
       "      <td>NaN</td>\n",
       "      <td>1.857143</td>\n",
       "      <td>0.0</td>\n",
       "      <td>NaN</td>\n",
       "      <td>NaN</td>\n",
       "      <td>2021-04-14 03:59:59+00:00</td>\n",
       "      <td>2021-04-14</td>\n",
       "      <td>2021</td>\n",
       "      <td>4</td>\n",
       "      <td>2021-04</td>\n",
       "    </tr>\n",
       "    <tr>\n",
       "      <th>3</th>\n",
       "      <td>4</td>\n",
       "      <td>UNKNOWN</td>\n",
       "      <td>1</td>\n",
       "      <td>2021/02/05 05:00:00+00</td>\n",
       "      <td>1</td>\n",
       "      <td>2159</td>\n",
       "      <td>0</td>\n",
       "      <td>4</td>\n",
       "      <td>0</td>\n",
       "      <td>36</td>\n",
       "      <td>...</td>\n",
       "      <td>NaN</td>\n",
       "      <td>2.857143</td>\n",
       "      <td>0.0</td>\n",
       "      <td>NaN</td>\n",
       "      <td>NaN</td>\n",
       "      <td>2021-02-05 05:00:00+00:00</td>\n",
       "      <td>2021-02-05</td>\n",
       "      <td>2021</td>\n",
       "      <td>2</td>\n",
       "      <td>2021-02</td>\n",
       "    </tr>\n",
       "    <tr>\n",
       "      <th>4</th>\n",
       "      <td>5</td>\n",
       "      <td>BALDWIN</td>\n",
       "      <td>1003</td>\n",
       "      <td>2021/04/15 03:59:59+00</td>\n",
       "      <td>0</td>\n",
       "      <td>3797</td>\n",
       "      <td>0</td>\n",
       "      <td>115</td>\n",
       "      <td>0</td>\n",
       "      <td>318</td>\n",
       "      <td>...</td>\n",
       "      <td>NaN</td>\n",
       "      <td>1.857143</td>\n",
       "      <td>0.0</td>\n",
       "      <td>NaN</td>\n",
       "      <td>NaN</td>\n",
       "      <td>2021-04-15 03:59:59+00:00</td>\n",
       "      <td>2021-04-15</td>\n",
       "      <td>2021</td>\n",
       "      <td>4</td>\n",
       "      <td>2021-04</td>\n",
       "    </tr>\n",
       "    <tr>\n",
       "      <th>...</th>\n",
       "      <td>...</td>\n",
       "      <td>...</td>\n",
       "      <td>...</td>\n",
       "      <td>...</td>\n",
       "      <td>...</td>\n",
       "      <td>...</td>\n",
       "      <td>...</td>\n",
       "      <td>...</td>\n",
       "      <td>...</td>\n",
       "      <td>...</td>\n",
       "      <td>...</td>\n",
       "      <td>...</td>\n",
       "      <td>...</td>\n",
       "      <td>...</td>\n",
       "      <td>...</td>\n",
       "      <td>...</td>\n",
       "      <td>...</td>\n",
       "      <td>...</td>\n",
       "      <td>...</td>\n",
       "      <td>...</td>\n",
       "      <td>...</td>\n",
       "    </tr>\n",
       "    <tr>\n",
       "      <th>91687</th>\n",
       "      <td>91688</td>\n",
       "      <td>WAYNE</td>\n",
       "      <td>49055</td>\n",
       "      <td>2021/07/15 03:59:59+00</td>\n",
       "      <td>0</td>\n",
       "      <td>2809</td>\n",
       "      <td>0</td>\n",
       "      <td>81</td>\n",
       "      <td>0</td>\n",
       "      <td>281</td>\n",
       "      <td>...</td>\n",
       "      <td>NaN</td>\n",
       "      <td>0.142857</td>\n",
       "      <td>0.0</td>\n",
       "      <td>NaN</td>\n",
       "      <td>NaN</td>\n",
       "      <td>2021-07-15 03:59:59+00:00</td>\n",
       "      <td>2021-07-15</td>\n",
       "      <td>2021</td>\n",
       "      <td>7</td>\n",
       "      <td>2021-07</td>\n",
       "    </tr>\n",
       "    <tr>\n",
       "      <th>91688</th>\n",
       "      <td>91689</td>\n",
       "      <td>WAYNE</td>\n",
       "      <td>49055</td>\n",
       "      <td>2021/07/16 03:59:59+00</td>\n",
       "      <td>0</td>\n",
       "      <td>2809</td>\n",
       "      <td>0</td>\n",
       "      <td>81</td>\n",
       "      <td>0</td>\n",
       "      <td>281</td>\n",
       "      <td>...</td>\n",
       "      <td>NaN</td>\n",
       "      <td>0.000000</td>\n",
       "      <td>0.0</td>\n",
       "      <td>NaN</td>\n",
       "      <td>NaN</td>\n",
       "      <td>2021-07-16 03:59:59+00:00</td>\n",
       "      <td>2021-07-16</td>\n",
       "      <td>2021</td>\n",
       "      <td>7</td>\n",
       "      <td>2021-07</td>\n",
       "    </tr>\n",
       "    <tr>\n",
       "      <th>91689</th>\n",
       "      <td>91690</td>\n",
       "      <td>WAYNE</td>\n",
       "      <td>49055</td>\n",
       "      <td>2021/07/17 03:59:59+00</td>\n",
       "      <td>0</td>\n",
       "      <td>2809</td>\n",
       "      <td>0</td>\n",
       "      <td>81</td>\n",
       "      <td>0</td>\n",
       "      <td>281</td>\n",
       "      <td>...</td>\n",
       "      <td>NaN</td>\n",
       "      <td>0.000000</td>\n",
       "      <td>0.0</td>\n",
       "      <td>NaN</td>\n",
       "      <td>NaN</td>\n",
       "      <td>2021-07-17 03:59:59+00:00</td>\n",
       "      <td>2021-07-17</td>\n",
       "      <td>2021</td>\n",
       "      <td>7</td>\n",
       "      <td>2021-07</td>\n",
       "    </tr>\n",
       "    <tr>\n",
       "      <th>91690</th>\n",
       "      <td>91691</td>\n",
       "      <td>WAYNE</td>\n",
       "      <td>49055</td>\n",
       "      <td>2021/07/18 03:59:59+00</td>\n",
       "      <td>0</td>\n",
       "      <td>2809</td>\n",
       "      <td>0</td>\n",
       "      <td>81</td>\n",
       "      <td>0</td>\n",
       "      <td>281</td>\n",
       "      <td>...</td>\n",
       "      <td>NaN</td>\n",
       "      <td>0.000000</td>\n",
       "      <td>0.0</td>\n",
       "      <td>NaN</td>\n",
       "      <td>NaN</td>\n",
       "      <td>2021-07-18 03:59:59+00:00</td>\n",
       "      <td>2021-07-18</td>\n",
       "      <td>2021</td>\n",
       "      <td>7</td>\n",
       "      <td>2021-07</td>\n",
       "    </tr>\n",
       "    <tr>\n",
       "      <th>91691</th>\n",
       "      <td>91692</td>\n",
       "      <td>WAYNE</td>\n",
       "      <td>49055</td>\n",
       "      <td>2021/07/19 03:59:59+00</td>\n",
       "      <td>0</td>\n",
       "      <td>2809</td>\n",
       "      <td>0</td>\n",
       "      <td>81</td>\n",
       "      <td>0</td>\n",
       "      <td>281</td>\n",
       "      <td>...</td>\n",
       "      <td>NaN</td>\n",
       "      <td>0.000000</td>\n",
       "      <td>0.0</td>\n",
       "      <td>NaN</td>\n",
       "      <td>NaN</td>\n",
       "      <td>2021-07-19 03:59:59+00:00</td>\n",
       "      <td>2021-07-19</td>\n",
       "      <td>2021</td>\n",
       "      <td>7</td>\n",
       "      <td>2021-07</td>\n",
       "    </tr>\n",
       "  </tbody>\n",
       "</table>\n",
       "<p>91692 rows × 50 columns</p>\n",
       "</div>"
      ],
      "text/plain": [
       "       OBJECTID   COUNTY  CNTY_FIPS               DATESTAMP  C_New  C_Cum  \\\n",
       "0             1  BALDWIN       1003  2021/04/13 03:59:59+00      4   3795   \n",
       "1             2  UNKNOWN          1  2021/02/04 05:00:00+00      4   2158   \n",
       "2             3  BALDWIN       1003  2021/04/14 03:59:59+00      2   3797   \n",
       "3             4  UNKNOWN          1  2021/02/05 05:00:00+00      1   2159   \n",
       "4             5  BALDWIN       1003  2021/04/15 03:59:59+00      0   3797   \n",
       "...         ...      ...        ...                     ...    ...    ...   \n",
       "91687     91688    WAYNE      49055  2021/07/15 03:59:59+00      0   2809   \n",
       "91688     91689    WAYNE      49055  2021/07/16 03:59:59+00      0   2809   \n",
       "91689     91690    WAYNE      49055  2021/07/17 03:59:59+00      0   2809   \n",
       "91690     91691    WAYNE      49055  2021/07/18 03:59:59+00      0   2809   \n",
       "91691     91692    WAYNE      49055  2021/07/19 03:59:59+00      0   2809   \n",
       "\n",
       "       D_New  D_Cum  H_New  H_Cum  ...  D_NEW_PERCT_CHG  C_NEW_7D_MEAN  \\\n",
       "0          0    115      0    318  ...              NaN       1.857143   \n",
       "1          0      4      0     36  ...              NaN       2.714286   \n",
       "2          0    115      0    318  ...              NaN       1.857143   \n",
       "3          0      4      0     36  ...              NaN       2.857143   \n",
       "4          0    115      0    318  ...              NaN       1.857143   \n",
       "...      ...    ...    ...    ...  ...              ...            ...   \n",
       "91687      0     81      0    281  ...              NaN       0.142857   \n",
       "91688      0     81      0    281  ...              NaN       0.000000   \n",
       "91689      0     81      0    281  ...              NaN       0.000000   \n",
       "91690      0     81      0    281  ...              NaN       0.000000   \n",
       "91691      0     81      0    281  ...              NaN       0.000000   \n",
       "\n",
       "       D_NEW_7D_MEAN  C_NEW_7D_PERCT_CHG  D_NEW_7D_PERCT_CHG  \\\n",
       "0                0.0                 NaN                 NaN   \n",
       "1                0.0                 NaN                 NaN   \n",
       "2                0.0                 NaN                 NaN   \n",
       "3                0.0                 NaN                 NaN   \n",
       "4                0.0                 NaN                 NaN   \n",
       "...              ...                 ...                 ...   \n",
       "91687            0.0                 NaN                 NaN   \n",
       "91688            0.0                 NaN                 NaN   \n",
       "91689            0.0                 NaN                 NaN   \n",
       "91690            0.0                 NaN                 NaN   \n",
       "91691            0.0                 NaN                 NaN   \n",
       "\n",
       "                  DATESTAMP_MOD  DATESTAMP_MOD_DAY  DATESTAMP_MOD_YEAR  \\\n",
       "0     2021-04-13 03:59:59+00:00         2021-04-13                2021   \n",
       "1     2021-02-04 05:00:00+00:00         2021-02-04                2021   \n",
       "2     2021-04-14 03:59:59+00:00         2021-04-14                2021   \n",
       "3     2021-02-05 05:00:00+00:00         2021-02-05                2021   \n",
       "4     2021-04-15 03:59:59+00:00         2021-04-15                2021   \n",
       "...                         ...                ...                 ...   \n",
       "91687 2021-07-15 03:59:59+00:00         2021-07-15                2021   \n",
       "91688 2021-07-16 03:59:59+00:00         2021-07-16                2021   \n",
       "91689 2021-07-17 03:59:59+00:00         2021-07-17                2021   \n",
       "91690 2021-07-18 03:59:59+00:00         2021-07-18                2021   \n",
       "91691 2021-07-19 03:59:59+00:00         2021-07-19                2021   \n",
       "\n",
       "       DATESTAMP_MOD_MONTH  DATESTAMP_MOD_MONTH_YEAR  \n",
       "0                        4                   2021-04  \n",
       "1                        2                   2021-02  \n",
       "2                        4                   2021-04  \n",
       "3                        2                   2021-02  \n",
       "4                        4                   2021-04  \n",
       "...                    ...                       ...  \n",
       "91687                    7                   2021-07  \n",
       "91688                    7                   2021-07  \n",
       "91689                    7                   2021-07  \n",
       "91690                    7                   2021-07  \n",
       "91691                    7                   2021-07  \n",
       "\n",
       "[91692 rows x 50 columns]"
      ]
     },
     "execution_count": 30,
     "metadata": {},
     "output_type": "execute_result"
    }
   ],
   "source": [
    "dataFrame"
   ]
  },
  {
   "cell_type": "code",
   "execution_count": 31,
   "metadata": {},
   "outputs": [
    {
     "name": "stderr",
     "output_type": "stream",
     "text": [
      "/var/folders/t2/8w_43c7s0pz494_6j017xh4m0000gn/T/ipykernel_73182/2357183044.py:1: FutureWarning: Series.dt.weekofyear and Series.dt.week have been deprecated. Please use Series.dt.isocalendar().week instead.\n",
      "  dataFrame['DATESTAMP_MOD_WEEK'] = dataFrame['DATESTAMP_MOD'].dt.week\n"
     ]
    },
    {
     "data": {
      "text/plain": [
       "0        15\n",
       "1         5\n",
       "2        15\n",
       "3         5\n",
       "4        15\n",
       "         ..\n",
       "91687    28\n",
       "91688    28\n",
       "91689    28\n",
       "91690    28\n",
       "91691    29\n",
       "Name: DATESTAMP_MOD_WEEK, Length: 91692, dtype: int64"
      ]
     },
     "execution_count": 31,
     "metadata": {},
     "output_type": "execute_result"
    }
   ],
   "source": [
    "dataFrame['DATESTAMP_MOD_WEEK'] = dataFrame['DATESTAMP_MOD'].dt.week\n",
    "dataFrame['DATESTAMP_MOD_WEEK']"
   ]
  },
  {
   "cell_type": "code",
   "execution_count": 36,
   "metadata": {},
   "outputs": [
    {
     "name": "stderr",
     "output_type": "stream",
     "text": [
      "/var/folders/t2/8w_43c7s0pz494_6j017xh4m0000gn/T/ipykernel_73182/2548059026.py:1: UserWarning: Converting to PeriodArray/Index representation will drop timezone information.\n",
      "  dataFrame['DATESTAMP_MOD_MONTH_QUARTER'] = dataFrame['DATESTAMP_MOD'].dt.to_period('Q')\n"
     ]
    },
    {
     "data": {
      "text/plain": [
       "0        2021Q2\n",
       "1        2021Q1\n",
       "2        2021Q2\n",
       "3        2021Q1\n",
       "4        2021Q2\n",
       "          ...  \n",
       "91687    2021Q3\n",
       "91688    2021Q3\n",
       "91689    2021Q3\n",
       "91690    2021Q3\n",
       "91691    2021Q3\n",
       "Name: DATESTAMP_MOD_MONTH_QUARTER, Length: 91692, dtype: period[Q-DEC]"
      ]
     },
     "execution_count": 36,
     "metadata": {},
     "output_type": "execute_result"
    }
   ],
   "source": [
    "dataFrame['DATESTAMP_MOD_MONTH_QUARTER'] = dataFrame['DATESTAMP_MOD'].dt.to_period('Q')\n",
    "dataFrame['DATESTAMP_MOD_MONTH_QUARTER']"
   ]
  },
  {
   "cell_type": "code",
   "execution_count": 37,
   "metadata": {},
   "outputs": [
    {
     "data": {
      "text/plain": [
       "76343    2020Q1\n",
       "46394    2020Q1\n",
       "46393    2020Q1\n",
       "46392    2020Q1\n",
       "46391    2020Q1\n",
       "          ...  \n",
       "32834    2021Q3\n",
       "32835    2021Q3\n",
       "32836    2021Q3\n",
       "33566    2021Q3\n",
       "91691    2021Q3\n",
       "Name: DATESTAMP_MOD_MONTH_QUARTER, Length: 91692, dtype: period[Q-DEC]"
      ]
     },
     "execution_count": 37,
     "metadata": {},
     "output_type": "execute_result"
    }
   ],
   "source": [
    "dataFrame['DATESTAMP_MOD_MONTH_QUARTER'].sort_values()"
   ]
  },
  {
   "cell_type": "code",
   "execution_count": 62,
   "metadata": {},
   "outputs": [],
   "source": [
    "dataFrame['DATESTAMP_MOD_DAY_STRING'] = dataFrame['DATESTAMP_MOD_DAY'].astype(str)\n",
    "dataFrame['DATESTAMP_MOD_WEEK_STRING'] = dataFrame['DATESTAMP_MOD_WEEK'].astype(str)\n",
    "dataFrame['DATETIME_STRING'] = dataFrame['DATESTAMP_MOD_MONTH_YEAR'].astype(str)"
   ]
  },
  {
   "cell_type": "code",
   "execution_count": 39,
   "metadata": {},
   "outputs": [
    {
     "data": {
      "text/html": [
       "<div>\n",
       "<style scoped>\n",
       "    .dataframe tbody tr th:only-of-type {\n",
       "        vertical-align: middle;\n",
       "    }\n",
       "\n",
       "    .dataframe tbody tr th {\n",
       "        vertical-align: top;\n",
       "    }\n",
       "\n",
       "    .dataframe thead th {\n",
       "        text-align: right;\n",
       "    }\n",
       "</style>\n",
       "<table border=\"1\" class=\"dataframe\">\n",
       "  <thead>\n",
       "    <tr style=\"text-align: right;\">\n",
       "      <th></th>\n",
       "      <th>OBJECTID</th>\n",
       "      <th>COUNTY</th>\n",
       "      <th>CNTY_FIPS</th>\n",
       "      <th>DATESTAMP</th>\n",
       "      <th>C_New</th>\n",
       "      <th>C_Cum</th>\n",
       "      <th>D_New</th>\n",
       "      <th>D_Cum</th>\n",
       "      <th>H_New</th>\n",
       "      <th>H_Cum</th>\n",
       "      <th>...</th>\n",
       "      <th>D_NEW_7D_PERCT_CHG</th>\n",
       "      <th>DATESTAMP_MOD</th>\n",
       "      <th>DATESTAMP_MOD_DAY</th>\n",
       "      <th>DATESTAMP_MOD_YEAR</th>\n",
       "      <th>DATESTAMP_MOD_MONTH</th>\n",
       "      <th>DATESTAMP_MOD_MONTH_YEAR</th>\n",
       "      <th>DATESTAMP_MOD_WEEK</th>\n",
       "      <th>DATESTAMP_MOD_MONTH_QUARTER</th>\n",
       "      <th>DATESTAMP_MOD_DAY_STRING</th>\n",
       "      <th>DATESTAMP_MOD_WEEK_STRING</th>\n",
       "    </tr>\n",
       "  </thead>\n",
       "  <tbody>\n",
       "    <tr>\n",
       "      <th>0</th>\n",
       "      <td>1</td>\n",
       "      <td>BALDWIN</td>\n",
       "      <td>1003</td>\n",
       "      <td>2021/04/13 03:59:59+00</td>\n",
       "      <td>4</td>\n",
       "      <td>3795</td>\n",
       "      <td>0</td>\n",
       "      <td>115</td>\n",
       "      <td>0</td>\n",
       "      <td>318</td>\n",
       "      <td>...</td>\n",
       "      <td>NaN</td>\n",
       "      <td>2021-04-13 03:59:59+00:00</td>\n",
       "      <td>2021-04-13</td>\n",
       "      <td>2021</td>\n",
       "      <td>4</td>\n",
       "      <td>2021-04</td>\n",
       "      <td>15</td>\n",
       "      <td>2021Q2</td>\n",
       "      <td>2021-04-13</td>\n",
       "      <td>15</td>\n",
       "    </tr>\n",
       "    <tr>\n",
       "      <th>1</th>\n",
       "      <td>2</td>\n",
       "      <td>UNKNOWN</td>\n",
       "      <td>1</td>\n",
       "      <td>2021/02/04 05:00:00+00</td>\n",
       "      <td>4</td>\n",
       "      <td>2158</td>\n",
       "      <td>0</td>\n",
       "      <td>4</td>\n",
       "      <td>0</td>\n",
       "      <td>36</td>\n",
       "      <td>...</td>\n",
       "      <td>NaN</td>\n",
       "      <td>2021-02-04 05:00:00+00:00</td>\n",
       "      <td>2021-02-04</td>\n",
       "      <td>2021</td>\n",
       "      <td>2</td>\n",
       "      <td>2021-02</td>\n",
       "      <td>5</td>\n",
       "      <td>2021Q1</td>\n",
       "      <td>2021-02-04</td>\n",
       "      <td>5</td>\n",
       "    </tr>\n",
       "    <tr>\n",
       "      <th>2</th>\n",
       "      <td>3</td>\n",
       "      <td>BALDWIN</td>\n",
       "      <td>1003</td>\n",
       "      <td>2021/04/14 03:59:59+00</td>\n",
       "      <td>2</td>\n",
       "      <td>3797</td>\n",
       "      <td>0</td>\n",
       "      <td>115</td>\n",
       "      <td>0</td>\n",
       "      <td>318</td>\n",
       "      <td>...</td>\n",
       "      <td>NaN</td>\n",
       "      <td>2021-04-14 03:59:59+00:00</td>\n",
       "      <td>2021-04-14</td>\n",
       "      <td>2021</td>\n",
       "      <td>4</td>\n",
       "      <td>2021-04</td>\n",
       "      <td>15</td>\n",
       "      <td>2021Q2</td>\n",
       "      <td>2021-04-14</td>\n",
       "      <td>15</td>\n",
       "    </tr>\n",
       "    <tr>\n",
       "      <th>3</th>\n",
       "      <td>4</td>\n",
       "      <td>UNKNOWN</td>\n",
       "      <td>1</td>\n",
       "      <td>2021/02/05 05:00:00+00</td>\n",
       "      <td>1</td>\n",
       "      <td>2159</td>\n",
       "      <td>0</td>\n",
       "      <td>4</td>\n",
       "      <td>0</td>\n",
       "      <td>36</td>\n",
       "      <td>...</td>\n",
       "      <td>NaN</td>\n",
       "      <td>2021-02-05 05:00:00+00:00</td>\n",
       "      <td>2021-02-05</td>\n",
       "      <td>2021</td>\n",
       "      <td>2</td>\n",
       "      <td>2021-02</td>\n",
       "      <td>5</td>\n",
       "      <td>2021Q1</td>\n",
       "      <td>2021-02-05</td>\n",
       "      <td>5</td>\n",
       "    </tr>\n",
       "    <tr>\n",
       "      <th>4</th>\n",
       "      <td>5</td>\n",
       "      <td>BALDWIN</td>\n",
       "      <td>1003</td>\n",
       "      <td>2021/04/15 03:59:59+00</td>\n",
       "      <td>0</td>\n",
       "      <td>3797</td>\n",
       "      <td>0</td>\n",
       "      <td>115</td>\n",
       "      <td>0</td>\n",
       "      <td>318</td>\n",
       "      <td>...</td>\n",
       "      <td>NaN</td>\n",
       "      <td>2021-04-15 03:59:59+00:00</td>\n",
       "      <td>2021-04-15</td>\n",
       "      <td>2021</td>\n",
       "      <td>4</td>\n",
       "      <td>2021-04</td>\n",
       "      <td>15</td>\n",
       "      <td>2021Q2</td>\n",
       "      <td>2021-04-15</td>\n",
       "      <td>15</td>\n",
       "    </tr>\n",
       "    <tr>\n",
       "      <th>...</th>\n",
       "      <td>...</td>\n",
       "      <td>...</td>\n",
       "      <td>...</td>\n",
       "      <td>...</td>\n",
       "      <td>...</td>\n",
       "      <td>...</td>\n",
       "      <td>...</td>\n",
       "      <td>...</td>\n",
       "      <td>...</td>\n",
       "      <td>...</td>\n",
       "      <td>...</td>\n",
       "      <td>...</td>\n",
       "      <td>...</td>\n",
       "      <td>...</td>\n",
       "      <td>...</td>\n",
       "      <td>...</td>\n",
       "      <td>...</td>\n",
       "      <td>...</td>\n",
       "      <td>...</td>\n",
       "      <td>...</td>\n",
       "      <td>...</td>\n",
       "    </tr>\n",
       "    <tr>\n",
       "      <th>91687</th>\n",
       "      <td>91688</td>\n",
       "      <td>WAYNE</td>\n",
       "      <td>49055</td>\n",
       "      <td>2021/07/15 03:59:59+00</td>\n",
       "      <td>0</td>\n",
       "      <td>2809</td>\n",
       "      <td>0</td>\n",
       "      <td>81</td>\n",
       "      <td>0</td>\n",
       "      <td>281</td>\n",
       "      <td>...</td>\n",
       "      <td>NaN</td>\n",
       "      <td>2021-07-15 03:59:59+00:00</td>\n",
       "      <td>2021-07-15</td>\n",
       "      <td>2021</td>\n",
       "      <td>7</td>\n",
       "      <td>2021-07</td>\n",
       "      <td>28</td>\n",
       "      <td>2021Q3</td>\n",
       "      <td>2021-07-15</td>\n",
       "      <td>28</td>\n",
       "    </tr>\n",
       "    <tr>\n",
       "      <th>91688</th>\n",
       "      <td>91689</td>\n",
       "      <td>WAYNE</td>\n",
       "      <td>49055</td>\n",
       "      <td>2021/07/16 03:59:59+00</td>\n",
       "      <td>0</td>\n",
       "      <td>2809</td>\n",
       "      <td>0</td>\n",
       "      <td>81</td>\n",
       "      <td>0</td>\n",
       "      <td>281</td>\n",
       "      <td>...</td>\n",
       "      <td>NaN</td>\n",
       "      <td>2021-07-16 03:59:59+00:00</td>\n",
       "      <td>2021-07-16</td>\n",
       "      <td>2021</td>\n",
       "      <td>7</td>\n",
       "      <td>2021-07</td>\n",
       "      <td>28</td>\n",
       "      <td>2021Q3</td>\n",
       "      <td>2021-07-16</td>\n",
       "      <td>28</td>\n",
       "    </tr>\n",
       "    <tr>\n",
       "      <th>91689</th>\n",
       "      <td>91690</td>\n",
       "      <td>WAYNE</td>\n",
       "      <td>49055</td>\n",
       "      <td>2021/07/17 03:59:59+00</td>\n",
       "      <td>0</td>\n",
       "      <td>2809</td>\n",
       "      <td>0</td>\n",
       "      <td>81</td>\n",
       "      <td>0</td>\n",
       "      <td>281</td>\n",
       "      <td>...</td>\n",
       "      <td>NaN</td>\n",
       "      <td>2021-07-17 03:59:59+00:00</td>\n",
       "      <td>2021-07-17</td>\n",
       "      <td>2021</td>\n",
       "      <td>7</td>\n",
       "      <td>2021-07</td>\n",
       "      <td>28</td>\n",
       "      <td>2021Q3</td>\n",
       "      <td>2021-07-17</td>\n",
       "      <td>28</td>\n",
       "    </tr>\n",
       "    <tr>\n",
       "      <th>91690</th>\n",
       "      <td>91691</td>\n",
       "      <td>WAYNE</td>\n",
       "      <td>49055</td>\n",
       "      <td>2021/07/18 03:59:59+00</td>\n",
       "      <td>0</td>\n",
       "      <td>2809</td>\n",
       "      <td>0</td>\n",
       "      <td>81</td>\n",
       "      <td>0</td>\n",
       "      <td>281</td>\n",
       "      <td>...</td>\n",
       "      <td>NaN</td>\n",
       "      <td>2021-07-18 03:59:59+00:00</td>\n",
       "      <td>2021-07-18</td>\n",
       "      <td>2021</td>\n",
       "      <td>7</td>\n",
       "      <td>2021-07</td>\n",
       "      <td>28</td>\n",
       "      <td>2021Q3</td>\n",
       "      <td>2021-07-18</td>\n",
       "      <td>28</td>\n",
       "    </tr>\n",
       "    <tr>\n",
       "      <th>91691</th>\n",
       "      <td>91692</td>\n",
       "      <td>WAYNE</td>\n",
       "      <td>49055</td>\n",
       "      <td>2021/07/19 03:59:59+00</td>\n",
       "      <td>0</td>\n",
       "      <td>2809</td>\n",
       "      <td>0</td>\n",
       "      <td>81</td>\n",
       "      <td>0</td>\n",
       "      <td>281</td>\n",
       "      <td>...</td>\n",
       "      <td>NaN</td>\n",
       "      <td>2021-07-19 03:59:59+00:00</td>\n",
       "      <td>2021-07-19</td>\n",
       "      <td>2021</td>\n",
       "      <td>7</td>\n",
       "      <td>2021-07</td>\n",
       "      <td>29</td>\n",
       "      <td>2021Q3</td>\n",
       "      <td>2021-07-19</td>\n",
       "      <td>29</td>\n",
       "    </tr>\n",
       "  </tbody>\n",
       "</table>\n",
       "<p>91692 rows × 54 columns</p>\n",
       "</div>"
      ],
      "text/plain": [
       "       OBJECTID   COUNTY  CNTY_FIPS               DATESTAMP  C_New  C_Cum  \\\n",
       "0             1  BALDWIN       1003  2021/04/13 03:59:59+00      4   3795   \n",
       "1             2  UNKNOWN          1  2021/02/04 05:00:00+00      4   2158   \n",
       "2             3  BALDWIN       1003  2021/04/14 03:59:59+00      2   3797   \n",
       "3             4  UNKNOWN          1  2021/02/05 05:00:00+00      1   2159   \n",
       "4             5  BALDWIN       1003  2021/04/15 03:59:59+00      0   3797   \n",
       "...         ...      ...        ...                     ...    ...    ...   \n",
       "91687     91688    WAYNE      49055  2021/07/15 03:59:59+00      0   2809   \n",
       "91688     91689    WAYNE      49055  2021/07/16 03:59:59+00      0   2809   \n",
       "91689     91690    WAYNE      49055  2021/07/17 03:59:59+00      0   2809   \n",
       "91690     91691    WAYNE      49055  2021/07/18 03:59:59+00      0   2809   \n",
       "91691     91692    WAYNE      49055  2021/07/19 03:59:59+00      0   2809   \n",
       "\n",
       "       D_New  D_Cum  H_New  H_Cum  ...  D_NEW_7D_PERCT_CHG  \\\n",
       "0          0    115      0    318  ...                 NaN   \n",
       "1          0      4      0     36  ...                 NaN   \n",
       "2          0    115      0    318  ...                 NaN   \n",
       "3          0      4      0     36  ...                 NaN   \n",
       "4          0    115      0    318  ...                 NaN   \n",
       "...      ...    ...    ...    ...  ...                 ...   \n",
       "91687      0     81      0    281  ...                 NaN   \n",
       "91688      0     81      0    281  ...                 NaN   \n",
       "91689      0     81      0    281  ...                 NaN   \n",
       "91690      0     81      0    281  ...                 NaN   \n",
       "91691      0     81      0    281  ...                 NaN   \n",
       "\n",
       "                  DATESTAMP_MOD  DATESTAMP_MOD_DAY  DATESTAMP_MOD_YEAR  \\\n",
       "0     2021-04-13 03:59:59+00:00         2021-04-13                2021   \n",
       "1     2021-02-04 05:00:00+00:00         2021-02-04                2021   \n",
       "2     2021-04-14 03:59:59+00:00         2021-04-14                2021   \n",
       "3     2021-02-05 05:00:00+00:00         2021-02-05                2021   \n",
       "4     2021-04-15 03:59:59+00:00         2021-04-15                2021   \n",
       "...                         ...                ...                 ...   \n",
       "91687 2021-07-15 03:59:59+00:00         2021-07-15                2021   \n",
       "91688 2021-07-16 03:59:59+00:00         2021-07-16                2021   \n",
       "91689 2021-07-17 03:59:59+00:00         2021-07-17                2021   \n",
       "91690 2021-07-18 03:59:59+00:00         2021-07-18                2021   \n",
       "91691 2021-07-19 03:59:59+00:00         2021-07-19                2021   \n",
       "\n",
       "       DATESTAMP_MOD_MONTH  DATESTAMP_MOD_MONTH_YEAR  DATESTAMP_MOD_WEEK  \\\n",
       "0                        4                   2021-04                  15   \n",
       "1                        2                   2021-02                   5   \n",
       "2                        4                   2021-04                  15   \n",
       "3                        2                   2021-02                   5   \n",
       "4                        4                   2021-04                  15   \n",
       "...                    ...                       ...                 ...   \n",
       "91687                    7                   2021-07                  28   \n",
       "91688                    7                   2021-07                  28   \n",
       "91689                    7                   2021-07                  28   \n",
       "91690                    7                   2021-07                  28   \n",
       "91691                    7                   2021-07                  29   \n",
       "\n",
       "       DATESTAMP_MOD_MONTH_QUARTER  DATESTAMP_MOD_DAY_STRING  \\\n",
       "0                           2021Q2                2021-04-13   \n",
       "1                           2021Q1                2021-02-04   \n",
       "2                           2021Q2                2021-04-14   \n",
       "3                           2021Q1                2021-02-05   \n",
       "4                           2021Q2                2021-04-15   \n",
       "...                            ...                       ...   \n",
       "91687                       2021Q3                2021-07-15   \n",
       "91688                       2021Q3                2021-07-16   \n",
       "91689                       2021Q3                2021-07-17   \n",
       "91690                       2021Q3                2021-07-18   \n",
       "91691                       2021Q3                2021-07-19   \n",
       "\n",
       "       DATESTAMP_MOD_WEEK_STRING  \n",
       "0                             15  \n",
       "1                              5  \n",
       "2                             15  \n",
       "3                              5  \n",
       "4                             15  \n",
       "...                          ...  \n",
       "91687                         28  \n",
       "91688                         28  \n",
       "91689                         28  \n",
       "91690                         28  \n",
       "91691                         29  \n",
       "\n",
       "[91692 rows x 54 columns]"
      ]
     },
     "execution_count": 39,
     "metadata": {},
     "output_type": "execute_result"
    }
   ],
   "source": [
    "dataFrame"
   ]
  },
  {
   "cell_type": "markdown",
   "metadata": {},
   "source": [
    "## Getting the counties required for analysis"
   ]
  },
  {
   "cell_type": "markdown",
   "metadata": {},
   "source": [
    "We know that the counties we want to analyze are:\n",
    "- Cobb\n",
    "- DeKalb\n",
    "- Fulton\n",
    "- Gwinnett\n",
    "- Hall"
   ]
  },
  {
   "cell_type": "code",
   "execution_count": 40,
   "metadata": {},
   "outputs": [
    {
     "data": {
      "text/plain": [
       "0        BALDWIN\n",
       "1        UNKNOWN\n",
       "2        BALDWIN\n",
       "3        UNKNOWN\n",
       "4        BALDWIN\n",
       "          ...   \n",
       "91687      WAYNE\n",
       "91688      WAYNE\n",
       "91689      WAYNE\n",
       "91690      WAYNE\n",
       "91691      WAYNE\n",
       "Name: COUNTY, Length: 91692, dtype: object"
      ]
     },
     "execution_count": 40,
     "metadata": {},
     "output_type": "execute_result"
    }
   ],
   "source": [
    "dataFrame['COUNTY']"
   ]
  },
  {
   "cell_type": "code",
   "execution_count": 42,
   "metadata": {},
   "outputs": [
    {
     "data": {
      "text/plain": [
       "['COBB', 'DEKALB', 'FULTON', 'GWINNETT', 'HALL']"
      ]
     },
     "execution_count": 42,
     "metadata": {},
     "output_type": "execute_result"
    }
   ],
   "source": [
    "countList = ['COBB', 'DEKALB', 'FULTON', 'GWINNETT', 'HALL']\n",
    "countList"
   ]
  },
  {
   "cell_type": "code",
   "execution_count": 63,
   "metadata": {},
   "outputs": [
    {
     "data": {
      "text/plain": [
       "2830"
      ]
     },
     "execution_count": 63,
     "metadata": {},
     "output_type": "execute_result"
    }
   ],
   "source": [
    "selectCounties = dataFrame[dataFrame['COUNTY'].isin(countList)]\n",
    "len(selectCounties)"
   ]
  },
  {
   "cell_type": "markdown",
   "metadata": {},
   "source": [
    "## Getting just the specific date/time frame we want"
   ]
  },
  {
   "cell_type": "markdown",
   "metadata": {},
   "source": [
    "`dataFrame` = length ~91,692\n",
    "\n",
    "`selectCounties` = length 2,830\n",
    "\n",
    "`selectCountyTime` = ???"
   ]
  },
  {
   "cell_type": "code",
   "execution_count": 64,
   "metadata": {},
   "outputs": [],
   "source": [
    "selectCountyTime = selectCounties"
   ]
  },
  {
   "cell_type": "code",
   "execution_count": 65,
   "metadata": {},
   "outputs": [
    {
     "data": {
      "text/plain": [
       "6056     2020-08\n",
       "6414     2020-08\n",
       "6417     2020-09\n",
       "6422     2020-09\n",
       "6823     2020-09\n",
       "          ...   \n",
       "79995    2020-05\n",
       "79996    2020-05\n",
       "79997    2020-05\n",
       "79998    2020-05\n",
       "79999    2020-05\n",
       "Name: DATESTAMP_MOD_MONTH_YEAR, Length: 2830, dtype: period[M]"
      ]
     },
     "execution_count": 65,
     "metadata": {},
     "output_type": "execute_result"
    }
   ],
   "source": [
    "selectCountyTime['DATESTAMP_MOD_MONTH_YEAR']"
   ]
  },
  {
   "cell_type": "code",
   "execution_count": 66,
   "metadata": {},
   "outputs": [
    {
     "data": {
      "text/plain": [
       "150"
      ]
     },
     "execution_count": 66,
     "metadata": {},
     "output_type": "execute_result"
    }
   ],
   "source": [
    "selectCountyTime_april2020 = selectCountyTime[selectCountyTime['DATESTAMP_MOD_MONTH_YEAR'] == '2020-04']\n",
    "len(selectCountyTime_april2020)"
   ]
  },
  {
   "cell_type": "code",
   "execution_count": 67,
   "metadata": {},
   "outputs": [
    {
     "data": {
      "text/plain": [
       "305"
      ]
     },
     "execution_count": 67,
     "metadata": {},
     "output_type": "execute_result"
    }
   ],
   "source": [
    "selectCountyTime_aprilmay2020 = selectCountyTime[(selectCountyTime['DATESTAMP_MOD_MONTH_YEAR'] == '2020-04') | (selectCountyTime['DATESTAMP_MOD_MONTH_YEAR'] == '2020-05')]\n",
    "len(selectCountyTime_aprilmay2020)"
   ]
  },
  {
   "cell_type": "code",
   "execution_count": 68,
   "metadata": {},
   "outputs": [
    {
     "data": {
      "text/html": [
       "<div>\n",
       "<style scoped>\n",
       "    .dataframe tbody tr th:only-of-type {\n",
       "        vertical-align: middle;\n",
       "    }\n",
       "\n",
       "    .dataframe tbody tr th {\n",
       "        vertical-align: top;\n",
       "    }\n",
       "\n",
       "    .dataframe thead th {\n",
       "        text-align: right;\n",
       "    }\n",
       "</style>\n",
       "<table border=\"1\" class=\"dataframe\">\n",
       "  <thead>\n",
       "    <tr style=\"text-align: right;\">\n",
       "      <th></th>\n",
       "      <th>OBJECTID</th>\n",
       "      <th>COUNTY</th>\n",
       "      <th>CNTY_FIPS</th>\n",
       "      <th>DATESTAMP</th>\n",
       "      <th>C_New</th>\n",
       "      <th>C_Cum</th>\n",
       "      <th>D_New</th>\n",
       "      <th>D_Cum</th>\n",
       "      <th>H_New</th>\n",
       "      <th>H_Cum</th>\n",
       "      <th>...</th>\n",
       "      <th>DATESTAMP_MOD</th>\n",
       "      <th>DATESTAMP_MOD_DAY</th>\n",
       "      <th>DATESTAMP_MOD_YEAR</th>\n",
       "      <th>DATESTAMP_MOD_MONTH</th>\n",
       "      <th>DATESTAMP_MOD_MONTH_YEAR</th>\n",
       "      <th>DATESTAMP_MOD_WEEK</th>\n",
       "      <th>DATESTAMP_MOD_MONTH_QUARTER</th>\n",
       "      <th>DATESTAMP_MOD_DAY_STRING</th>\n",
       "      <th>DATESTAMP_MOD_WEEK_STRING</th>\n",
       "      <th>DATETIME_STRING</th>\n",
       "    </tr>\n",
       "  </thead>\n",
       "  <tbody>\n",
       "    <tr>\n",
       "      <th>7464</th>\n",
       "      <td>7465</td>\n",
       "      <td>FULTON</td>\n",
       "      <td>5049</td>\n",
       "      <td>2020/04/01 03:59:59+00</td>\n",
       "      <td>97</td>\n",
       "      <td>1499</td>\n",
       "      <td>10</td>\n",
       "      <td>109</td>\n",
       "      <td>22</td>\n",
       "      <td>460</td>\n",
       "      <td>...</td>\n",
       "      <td>2020-04-01 03:59:59+00:00</td>\n",
       "      <td>2020-04-01</td>\n",
       "      <td>2020</td>\n",
       "      <td>4</td>\n",
       "      <td>2020-04</td>\n",
       "      <td>14</td>\n",
       "      <td>2020Q2</td>\n",
       "      <td>2020-04-01</td>\n",
       "      <td>14</td>\n",
       "      <td>2020-04</td>\n",
       "    </tr>\n",
       "    <tr>\n",
       "      <th>7465</th>\n",
       "      <td>7466</td>\n",
       "      <td>FULTON</td>\n",
       "      <td>5049</td>\n",
       "      <td>2020/04/02 03:59:59+00</td>\n",
       "      <td>50</td>\n",
       "      <td>1549</td>\n",
       "      <td>3</td>\n",
       "      <td>112</td>\n",
       "      <td>9</td>\n",
       "      <td>469</td>\n",
       "      <td>...</td>\n",
       "      <td>2020-04-02 03:59:59+00:00</td>\n",
       "      <td>2020-04-02</td>\n",
       "      <td>2020</td>\n",
       "      <td>4</td>\n",
       "      <td>2020-04</td>\n",
       "      <td>14</td>\n",
       "      <td>2020Q2</td>\n",
       "      <td>2020-04-02</td>\n",
       "      <td>14</td>\n",
       "      <td>2020-04</td>\n",
       "    </tr>\n",
       "    <tr>\n",
       "      <th>7466</th>\n",
       "      <td>7467</td>\n",
       "      <td>FULTON</td>\n",
       "      <td>5049</td>\n",
       "      <td>2020/04/03 03:59:59+00</td>\n",
       "      <td>68</td>\n",
       "      <td>1617</td>\n",
       "      <td>10</td>\n",
       "      <td>122</td>\n",
       "      <td>17</td>\n",
       "      <td>486</td>\n",
       "      <td>...</td>\n",
       "      <td>2020-04-03 03:59:59+00:00</td>\n",
       "      <td>2020-04-03</td>\n",
       "      <td>2020</td>\n",
       "      <td>4</td>\n",
       "      <td>2020-04</td>\n",
       "      <td>14</td>\n",
       "      <td>2020Q2</td>\n",
       "      <td>2020-04-03</td>\n",
       "      <td>14</td>\n",
       "      <td>2020-04</td>\n",
       "    </tr>\n",
       "    <tr>\n",
       "      <th>7467</th>\n",
       "      <td>7468</td>\n",
       "      <td>FULTON</td>\n",
       "      <td>5049</td>\n",
       "      <td>2020/04/04 03:59:59+00</td>\n",
       "      <td>38</td>\n",
       "      <td>1655</td>\n",
       "      <td>5</td>\n",
       "      <td>127</td>\n",
       "      <td>10</td>\n",
       "      <td>496</td>\n",
       "      <td>...</td>\n",
       "      <td>2020-04-04 03:59:59+00:00</td>\n",
       "      <td>2020-04-04</td>\n",
       "      <td>2020</td>\n",
       "      <td>4</td>\n",
       "      <td>2020-04</td>\n",
       "      <td>14</td>\n",
       "      <td>2020Q2</td>\n",
       "      <td>2020-04-04</td>\n",
       "      <td>14</td>\n",
       "      <td>2020-04</td>\n",
       "    </tr>\n",
       "    <tr>\n",
       "      <th>7468</th>\n",
       "      <td>7469</td>\n",
       "      <td>FULTON</td>\n",
       "      <td>5049</td>\n",
       "      <td>2020/04/05 03:59:59+00</td>\n",
       "      <td>30</td>\n",
       "      <td>1685</td>\n",
       "      <td>1</td>\n",
       "      <td>128</td>\n",
       "      <td>12</td>\n",
       "      <td>508</td>\n",
       "      <td>...</td>\n",
       "      <td>2020-04-05 03:59:59+00:00</td>\n",
       "      <td>2020-04-05</td>\n",
       "      <td>2020</td>\n",
       "      <td>4</td>\n",
       "      <td>2020-04</td>\n",
       "      <td>14</td>\n",
       "      <td>2020Q2</td>\n",
       "      <td>2020-04-05</td>\n",
       "      <td>14</td>\n",
       "      <td>2020-04</td>\n",
       "    </tr>\n",
       "    <tr>\n",
       "      <th>7469</th>\n",
       "      <td>7470</td>\n",
       "      <td>FULTON</td>\n",
       "      <td>5049</td>\n",
       "      <td>2020/04/06 03:59:59+00</td>\n",
       "      <td>62</td>\n",
       "      <td>1747</td>\n",
       "      <td>0</td>\n",
       "      <td>128</td>\n",
       "      <td>11</td>\n",
       "      <td>519</td>\n",
       "      <td>...</td>\n",
       "      <td>2020-04-06 03:59:59+00:00</td>\n",
       "      <td>2020-04-06</td>\n",
       "      <td>2020</td>\n",
       "      <td>4</td>\n",
       "      <td>2020-04</td>\n",
       "      <td>15</td>\n",
       "      <td>2020Q2</td>\n",
       "      <td>2020-04-06</td>\n",
       "      <td>15</td>\n",
       "      <td>2020-04</td>\n",
       "    </tr>\n",
       "    <tr>\n",
       "      <th>7470</th>\n",
       "      <td>7471</td>\n",
       "      <td>FULTON</td>\n",
       "      <td>5049</td>\n",
       "      <td>2020/04/07 03:59:59+00</td>\n",
       "      <td>77</td>\n",
       "      <td>1824</td>\n",
       "      <td>7</td>\n",
       "      <td>135</td>\n",
       "      <td>11</td>\n",
       "      <td>530</td>\n",
       "      <td>...</td>\n",
       "      <td>2020-04-07 03:59:59+00:00</td>\n",
       "      <td>2020-04-07</td>\n",
       "      <td>2020</td>\n",
       "      <td>4</td>\n",
       "      <td>2020-04</td>\n",
       "      <td>15</td>\n",
       "      <td>2020Q2</td>\n",
       "      <td>2020-04-07</td>\n",
       "      <td>15</td>\n",
       "      <td>2020-04</td>\n",
       "    </tr>\n",
       "    <tr>\n",
       "      <th>7471</th>\n",
       "      <td>7472</td>\n",
       "      <td>FULTON</td>\n",
       "      <td>5049</td>\n",
       "      <td>2020/04/08 03:59:59+00</td>\n",
       "      <td>69</td>\n",
       "      <td>1893</td>\n",
       "      <td>5</td>\n",
       "      <td>140</td>\n",
       "      <td>13</td>\n",
       "      <td>543</td>\n",
       "      <td>...</td>\n",
       "      <td>2020-04-08 03:59:59+00:00</td>\n",
       "      <td>2020-04-08</td>\n",
       "      <td>2020</td>\n",
       "      <td>4</td>\n",
       "      <td>2020-04</td>\n",
       "      <td>15</td>\n",
       "      <td>2020Q2</td>\n",
       "      <td>2020-04-08</td>\n",
       "      <td>15</td>\n",
       "      <td>2020-04</td>\n",
       "    </tr>\n",
       "    <tr>\n",
       "      <th>7472</th>\n",
       "      <td>7473</td>\n",
       "      <td>FULTON</td>\n",
       "      <td>5049</td>\n",
       "      <td>2020/04/09 03:59:59+00</td>\n",
       "      <td>59</td>\n",
       "      <td>1952</td>\n",
       "      <td>4</td>\n",
       "      <td>144</td>\n",
       "      <td>7</td>\n",
       "      <td>550</td>\n",
       "      <td>...</td>\n",
       "      <td>2020-04-09 03:59:59+00:00</td>\n",
       "      <td>2020-04-09</td>\n",
       "      <td>2020</td>\n",
       "      <td>4</td>\n",
       "      <td>2020-04</td>\n",
       "      <td>15</td>\n",
       "      <td>2020Q2</td>\n",
       "      <td>2020-04-09</td>\n",
       "      <td>15</td>\n",
       "      <td>2020-04</td>\n",
       "    </tr>\n",
       "    <tr>\n",
       "      <th>7473</th>\n",
       "      <td>7474</td>\n",
       "      <td>FULTON</td>\n",
       "      <td>5049</td>\n",
       "      <td>2020/04/10 03:59:59+00</td>\n",
       "      <td>55</td>\n",
       "      <td>2007</td>\n",
       "      <td>3</td>\n",
       "      <td>147</td>\n",
       "      <td>10</td>\n",
       "      <td>560</td>\n",
       "      <td>...</td>\n",
       "      <td>2020-04-10 03:59:59+00:00</td>\n",
       "      <td>2020-04-10</td>\n",
       "      <td>2020</td>\n",
       "      <td>4</td>\n",
       "      <td>2020-04</td>\n",
       "      <td>15</td>\n",
       "      <td>2020Q2</td>\n",
       "      <td>2020-04-10</td>\n",
       "      <td>15</td>\n",
       "      <td>2020-04</td>\n",
       "    </tr>\n",
       "    <tr>\n",
       "      <th>7474</th>\n",
       "      <td>7475</td>\n",
       "      <td>FULTON</td>\n",
       "      <td>5049</td>\n",
       "      <td>2020/04/11 03:59:59+00</td>\n",
       "      <td>53</td>\n",
       "      <td>2060</td>\n",
       "      <td>10</td>\n",
       "      <td>157</td>\n",
       "      <td>20</td>\n",
       "      <td>580</td>\n",
       "      <td>...</td>\n",
       "      <td>2020-04-11 03:59:59+00:00</td>\n",
       "      <td>2020-04-11</td>\n",
       "      <td>2020</td>\n",
       "      <td>4</td>\n",
       "      <td>2020-04</td>\n",
       "      <td>15</td>\n",
       "      <td>2020Q2</td>\n",
       "      <td>2020-04-11</td>\n",
       "      <td>15</td>\n",
       "      <td>2020-04</td>\n",
       "    </tr>\n",
       "    <tr>\n",
       "      <th>7475</th>\n",
       "      <td>7476</td>\n",
       "      <td>FULTON</td>\n",
       "      <td>5049</td>\n",
       "      <td>2020/04/12 03:59:59+00</td>\n",
       "      <td>39</td>\n",
       "      <td>2099</td>\n",
       "      <td>4</td>\n",
       "      <td>161</td>\n",
       "      <td>8</td>\n",
       "      <td>588</td>\n",
       "      <td>...</td>\n",
       "      <td>2020-04-12 03:59:59+00:00</td>\n",
       "      <td>2020-04-12</td>\n",
       "      <td>2020</td>\n",
       "      <td>4</td>\n",
       "      <td>2020-04</td>\n",
       "      <td>15</td>\n",
       "      <td>2020Q2</td>\n",
       "      <td>2020-04-12</td>\n",
       "      <td>15</td>\n",
       "      <td>2020-04</td>\n",
       "    </tr>\n",
       "    <tr>\n",
       "      <th>7476</th>\n",
       "      <td>7477</td>\n",
       "      <td>FULTON</td>\n",
       "      <td>5049</td>\n",
       "      <td>2020/04/13 03:59:59+00</td>\n",
       "      <td>54</td>\n",
       "      <td>2153</td>\n",
       "      <td>8</td>\n",
       "      <td>169</td>\n",
       "      <td>9</td>\n",
       "      <td>597</td>\n",
       "      <td>...</td>\n",
       "      <td>2020-04-13 03:59:59+00:00</td>\n",
       "      <td>2020-04-13</td>\n",
       "      <td>2020</td>\n",
       "      <td>4</td>\n",
       "      <td>2020-04</td>\n",
       "      <td>16</td>\n",
       "      <td>2020Q2</td>\n",
       "      <td>2020-04-13</td>\n",
       "      <td>16</td>\n",
       "      <td>2020-04</td>\n",
       "    </tr>\n",
       "    <tr>\n",
       "      <th>7477</th>\n",
       "      <td>7478</td>\n",
       "      <td>FULTON</td>\n",
       "      <td>5049</td>\n",
       "      <td>2020/04/14 03:59:59+00</td>\n",
       "      <td>60</td>\n",
       "      <td>2213</td>\n",
       "      <td>7</td>\n",
       "      <td>176</td>\n",
       "      <td>13</td>\n",
       "      <td>610</td>\n",
       "      <td>...</td>\n",
       "      <td>2020-04-14 03:59:59+00:00</td>\n",
       "      <td>2020-04-14</td>\n",
       "      <td>2020</td>\n",
       "      <td>4</td>\n",
       "      <td>2020-04</td>\n",
       "      <td>16</td>\n",
       "      <td>2020Q2</td>\n",
       "      <td>2020-04-14</td>\n",
       "      <td>16</td>\n",
       "      <td>2020-04</td>\n",
       "    </tr>\n",
       "    <tr>\n",
       "      <th>7478</th>\n",
       "      <td>7479</td>\n",
       "      <td>FULTON</td>\n",
       "      <td>5049</td>\n",
       "      <td>2020/04/15 03:59:59+00</td>\n",
       "      <td>83</td>\n",
       "      <td>2296</td>\n",
       "      <td>6</td>\n",
       "      <td>182</td>\n",
       "      <td>14</td>\n",
       "      <td>624</td>\n",
       "      <td>...</td>\n",
       "      <td>2020-04-15 03:59:59+00:00</td>\n",
       "      <td>2020-04-15</td>\n",
       "      <td>2020</td>\n",
       "      <td>4</td>\n",
       "      <td>2020-04</td>\n",
       "      <td>16</td>\n",
       "      <td>2020Q2</td>\n",
       "      <td>2020-04-15</td>\n",
       "      <td>16</td>\n",
       "      <td>2020-04</td>\n",
       "    </tr>\n",
       "    <tr>\n",
       "      <th>7479</th>\n",
       "      <td>7480</td>\n",
       "      <td>FULTON</td>\n",
       "      <td>5049</td>\n",
       "      <td>2020/04/16 03:59:59+00</td>\n",
       "      <td>57</td>\n",
       "      <td>2353</td>\n",
       "      <td>6</td>\n",
       "      <td>188</td>\n",
       "      <td>12</td>\n",
       "      <td>636</td>\n",
       "      <td>...</td>\n",
       "      <td>2020-04-16 03:59:59+00:00</td>\n",
       "      <td>2020-04-16</td>\n",
       "      <td>2020</td>\n",
       "      <td>4</td>\n",
       "      <td>2020-04</td>\n",
       "      <td>16</td>\n",
       "      <td>2020Q2</td>\n",
       "      <td>2020-04-16</td>\n",
       "      <td>16</td>\n",
       "      <td>2020-04</td>\n",
       "    </tr>\n",
       "    <tr>\n",
       "      <th>7480</th>\n",
       "      <td>7481</td>\n",
       "      <td>FULTON</td>\n",
       "      <td>5049</td>\n",
       "      <td>2020/04/17 03:59:59+00</td>\n",
       "      <td>67</td>\n",
       "      <td>2420</td>\n",
       "      <td>4</td>\n",
       "      <td>192</td>\n",
       "      <td>12</td>\n",
       "      <td>648</td>\n",
       "      <td>...</td>\n",
       "      <td>2020-04-17 03:59:59+00:00</td>\n",
       "      <td>2020-04-17</td>\n",
       "      <td>2020</td>\n",
       "      <td>4</td>\n",
       "      <td>2020-04</td>\n",
       "      <td>16</td>\n",
       "      <td>2020Q2</td>\n",
       "      <td>2020-04-17</td>\n",
       "      <td>16</td>\n",
       "      <td>2020-04</td>\n",
       "    </tr>\n",
       "    <tr>\n",
       "      <th>7481</th>\n",
       "      <td>7482</td>\n",
       "      <td>FULTON</td>\n",
       "      <td>5049</td>\n",
       "      <td>2020/04/18 03:59:59+00</td>\n",
       "      <td>39</td>\n",
       "      <td>2459</td>\n",
       "      <td>1</td>\n",
       "      <td>193</td>\n",
       "      <td>9</td>\n",
       "      <td>657</td>\n",
       "      <td>...</td>\n",
       "      <td>2020-04-18 03:59:59+00:00</td>\n",
       "      <td>2020-04-18</td>\n",
       "      <td>2020</td>\n",
       "      <td>4</td>\n",
       "      <td>2020-04</td>\n",
       "      <td>16</td>\n",
       "      <td>2020Q2</td>\n",
       "      <td>2020-04-18</td>\n",
       "      <td>16</td>\n",
       "      <td>2020-04</td>\n",
       "    </tr>\n",
       "    <tr>\n",
       "      <th>7482</th>\n",
       "      <td>7483</td>\n",
       "      <td>FULTON</td>\n",
       "      <td>5049</td>\n",
       "      <td>2020/04/19 03:59:59+00</td>\n",
       "      <td>73</td>\n",
       "      <td>2532</td>\n",
       "      <td>6</td>\n",
       "      <td>199</td>\n",
       "      <td>10</td>\n",
       "      <td>667</td>\n",
       "      <td>...</td>\n",
       "      <td>2020-04-19 03:59:59+00:00</td>\n",
       "      <td>2020-04-19</td>\n",
       "      <td>2020</td>\n",
       "      <td>4</td>\n",
       "      <td>2020-04</td>\n",
       "      <td>16</td>\n",
       "      <td>2020Q2</td>\n",
       "      <td>2020-04-19</td>\n",
       "      <td>16</td>\n",
       "      <td>2020-04</td>\n",
       "    </tr>\n",
       "    <tr>\n",
       "      <th>7483</th>\n",
       "      <td>7484</td>\n",
       "      <td>FULTON</td>\n",
       "      <td>5049</td>\n",
       "      <td>2020/04/20 03:59:59+00</td>\n",
       "      <td>84</td>\n",
       "      <td>2616</td>\n",
       "      <td>13</td>\n",
       "      <td>212</td>\n",
       "      <td>20</td>\n",
       "      <td>687</td>\n",
       "      <td>...</td>\n",
       "      <td>2020-04-20 03:59:59+00:00</td>\n",
       "      <td>2020-04-20</td>\n",
       "      <td>2020</td>\n",
       "      <td>4</td>\n",
       "      <td>2020-04</td>\n",
       "      <td>17</td>\n",
       "      <td>2020Q2</td>\n",
       "      <td>2020-04-20</td>\n",
       "      <td>17</td>\n",
       "      <td>2020-04</td>\n",
       "    </tr>\n",
       "    <tr>\n",
       "      <th>7484</th>\n",
       "      <td>7485</td>\n",
       "      <td>FULTON</td>\n",
       "      <td>5049</td>\n",
       "      <td>2020/04/21 03:59:59+00</td>\n",
       "      <td>60</td>\n",
       "      <td>2676</td>\n",
       "      <td>4</td>\n",
       "      <td>216</td>\n",
       "      <td>17</td>\n",
       "      <td>704</td>\n",
       "      <td>...</td>\n",
       "      <td>2020-04-21 03:59:59+00:00</td>\n",
       "      <td>2020-04-21</td>\n",
       "      <td>2020</td>\n",
       "      <td>4</td>\n",
       "      <td>2020-04</td>\n",
       "      <td>17</td>\n",
       "      <td>2020Q2</td>\n",
       "      <td>2020-04-21</td>\n",
       "      <td>17</td>\n",
       "      <td>2020-04</td>\n",
       "    </tr>\n",
       "    <tr>\n",
       "      <th>7485</th>\n",
       "      <td>7486</td>\n",
       "      <td>FULTON</td>\n",
       "      <td>5049</td>\n",
       "      <td>2020/04/22 03:59:59+00</td>\n",
       "      <td>59</td>\n",
       "      <td>2735</td>\n",
       "      <td>5</td>\n",
       "      <td>221</td>\n",
       "      <td>12</td>\n",
       "      <td>716</td>\n",
       "      <td>...</td>\n",
       "      <td>2020-04-22 03:59:59+00:00</td>\n",
       "      <td>2020-04-22</td>\n",
       "      <td>2020</td>\n",
       "      <td>4</td>\n",
       "      <td>2020-04</td>\n",
       "      <td>17</td>\n",
       "      <td>2020Q2</td>\n",
       "      <td>2020-04-22</td>\n",
       "      <td>17</td>\n",
       "      <td>2020-04</td>\n",
       "    </tr>\n",
       "    <tr>\n",
       "      <th>7486</th>\n",
       "      <td>7487</td>\n",
       "      <td>FULTON</td>\n",
       "      <td>5049</td>\n",
       "      <td>2020/04/23 03:59:59+00</td>\n",
       "      <td>35</td>\n",
       "      <td>2770</td>\n",
       "      <td>7</td>\n",
       "      <td>228</td>\n",
       "      <td>9</td>\n",
       "      <td>725</td>\n",
       "      <td>...</td>\n",
       "      <td>2020-04-23 03:59:59+00:00</td>\n",
       "      <td>2020-04-23</td>\n",
       "      <td>2020</td>\n",
       "      <td>4</td>\n",
       "      <td>2020-04</td>\n",
       "      <td>17</td>\n",
       "      <td>2020Q2</td>\n",
       "      <td>2020-04-23</td>\n",
       "      <td>17</td>\n",
       "      <td>2020-04</td>\n",
       "    </tr>\n",
       "    <tr>\n",
       "      <th>7487</th>\n",
       "      <td>7488</td>\n",
       "      <td>FULTON</td>\n",
       "      <td>5049</td>\n",
       "      <td>2020/04/24 03:59:59+00</td>\n",
       "      <td>65</td>\n",
       "      <td>2835</td>\n",
       "      <td>7</td>\n",
       "      <td>235</td>\n",
       "      <td>9</td>\n",
       "      <td>734</td>\n",
       "      <td>...</td>\n",
       "      <td>2020-04-24 03:59:59+00:00</td>\n",
       "      <td>2020-04-24</td>\n",
       "      <td>2020</td>\n",
       "      <td>4</td>\n",
       "      <td>2020-04</td>\n",
       "      <td>17</td>\n",
       "      <td>2020Q2</td>\n",
       "      <td>2020-04-24</td>\n",
       "      <td>17</td>\n",
       "      <td>2020-04</td>\n",
       "    </tr>\n",
       "    <tr>\n",
       "      <th>7488</th>\n",
       "      <td>7489</td>\n",
       "      <td>FULTON</td>\n",
       "      <td>5049</td>\n",
       "      <td>2020/04/25 03:59:59+00</td>\n",
       "      <td>39</td>\n",
       "      <td>2874</td>\n",
       "      <td>3</td>\n",
       "      <td>238</td>\n",
       "      <td>8</td>\n",
       "      <td>742</td>\n",
       "      <td>...</td>\n",
       "      <td>2020-04-25 03:59:59+00:00</td>\n",
       "      <td>2020-04-25</td>\n",
       "      <td>2020</td>\n",
       "      <td>4</td>\n",
       "      <td>2020-04</td>\n",
       "      <td>17</td>\n",
       "      <td>2020Q2</td>\n",
       "      <td>2020-04-25</td>\n",
       "      <td>17</td>\n",
       "      <td>2020-04</td>\n",
       "    </tr>\n",
       "    <tr>\n",
       "      <th>7489</th>\n",
       "      <td>7490</td>\n",
       "      <td>FULTON</td>\n",
       "      <td>5049</td>\n",
       "      <td>2020/04/26 03:59:59+00</td>\n",
       "      <td>36</td>\n",
       "      <td>2910</td>\n",
       "      <td>6</td>\n",
       "      <td>244</td>\n",
       "      <td>10</td>\n",
       "      <td>752</td>\n",
       "      <td>...</td>\n",
       "      <td>2020-04-26 03:59:59+00:00</td>\n",
       "      <td>2020-04-26</td>\n",
       "      <td>2020</td>\n",
       "      <td>4</td>\n",
       "      <td>2020-04</td>\n",
       "      <td>17</td>\n",
       "      <td>2020Q2</td>\n",
       "      <td>2020-04-26</td>\n",
       "      <td>17</td>\n",
       "      <td>2020-04</td>\n",
       "    </tr>\n",
       "    <tr>\n",
       "      <th>7490</th>\n",
       "      <td>7491</td>\n",
       "      <td>FULTON</td>\n",
       "      <td>5049</td>\n",
       "      <td>2020/04/27 03:59:59+00</td>\n",
       "      <td>51</td>\n",
       "      <td>2961</td>\n",
       "      <td>4</td>\n",
       "      <td>248</td>\n",
       "      <td>8</td>\n",
       "      <td>760</td>\n",
       "      <td>...</td>\n",
       "      <td>2020-04-27 03:59:59+00:00</td>\n",
       "      <td>2020-04-27</td>\n",
       "      <td>2020</td>\n",
       "      <td>4</td>\n",
       "      <td>2020-04</td>\n",
       "      <td>18</td>\n",
       "      <td>2020Q2</td>\n",
       "      <td>2020-04-27</td>\n",
       "      <td>18</td>\n",
       "      <td>2020-04</td>\n",
       "    </tr>\n",
       "    <tr>\n",
       "      <th>7491</th>\n",
       "      <td>7492</td>\n",
       "      <td>FULTON</td>\n",
       "      <td>5049</td>\n",
       "      <td>2020/04/28 03:59:59+00</td>\n",
       "      <td>77</td>\n",
       "      <td>3038</td>\n",
       "      <td>3</td>\n",
       "      <td>251</td>\n",
       "      <td>10</td>\n",
       "      <td>770</td>\n",
       "      <td>...</td>\n",
       "      <td>2020-04-28 03:59:59+00:00</td>\n",
       "      <td>2020-04-28</td>\n",
       "      <td>2020</td>\n",
       "      <td>4</td>\n",
       "      <td>2020-04</td>\n",
       "      <td>18</td>\n",
       "      <td>2020Q2</td>\n",
       "      <td>2020-04-28</td>\n",
       "      <td>18</td>\n",
       "      <td>2020-04</td>\n",
       "    </tr>\n",
       "    <tr>\n",
       "      <th>7492</th>\n",
       "      <td>7493</td>\n",
       "      <td>FULTON</td>\n",
       "      <td>5049</td>\n",
       "      <td>2020/04/29 03:59:59+00</td>\n",
       "      <td>78</td>\n",
       "      <td>3116</td>\n",
       "      <td>8</td>\n",
       "      <td>259</td>\n",
       "      <td>17</td>\n",
       "      <td>787</td>\n",
       "      <td>...</td>\n",
       "      <td>2020-04-29 03:59:59+00:00</td>\n",
       "      <td>2020-04-29</td>\n",
       "      <td>2020</td>\n",
       "      <td>4</td>\n",
       "      <td>2020-04</td>\n",
       "      <td>18</td>\n",
       "      <td>2020Q2</td>\n",
       "      <td>2020-04-29</td>\n",
       "      <td>18</td>\n",
       "      <td>2020-04</td>\n",
       "    </tr>\n",
       "    <tr>\n",
       "      <th>7493</th>\n",
       "      <td>7494</td>\n",
       "      <td>FULTON</td>\n",
       "      <td>5049</td>\n",
       "      <td>2020/04/30 03:59:59+00</td>\n",
       "      <td>73</td>\n",
       "      <td>3189</td>\n",
       "      <td>5</td>\n",
       "      <td>264</td>\n",
       "      <td>5</td>\n",
       "      <td>792</td>\n",
       "      <td>...</td>\n",
       "      <td>2020-04-30 03:59:59+00:00</td>\n",
       "      <td>2020-04-30</td>\n",
       "      <td>2020</td>\n",
       "      <td>4</td>\n",
       "      <td>2020-04</td>\n",
       "      <td>18</td>\n",
       "      <td>2020Q2</td>\n",
       "      <td>2020-04-30</td>\n",
       "      <td>18</td>\n",
       "      <td>2020-04</td>\n",
       "    </tr>\n",
       "    <tr>\n",
       "      <th>7494</th>\n",
       "      <td>7495</td>\n",
       "      <td>FULTON</td>\n",
       "      <td>5049</td>\n",
       "      <td>2020/05/01 03:59:59+00</td>\n",
       "      <td>54</td>\n",
       "      <td>3243</td>\n",
       "      <td>4</td>\n",
       "      <td>268</td>\n",
       "      <td>15</td>\n",
       "      <td>807</td>\n",
       "      <td>...</td>\n",
       "      <td>2020-05-01 03:59:59+00:00</td>\n",
       "      <td>2020-05-01</td>\n",
       "      <td>2020</td>\n",
       "      <td>5</td>\n",
       "      <td>2020-05</td>\n",
       "      <td>18</td>\n",
       "      <td>2020Q2</td>\n",
       "      <td>2020-05-01</td>\n",
       "      <td>18</td>\n",
       "      <td>2020-05</td>\n",
       "    </tr>\n",
       "    <tr>\n",
       "      <th>7495</th>\n",
       "      <td>7496</td>\n",
       "      <td>FULTON</td>\n",
       "      <td>5049</td>\n",
       "      <td>2020/05/02 03:59:59+00</td>\n",
       "      <td>29</td>\n",
       "      <td>3272</td>\n",
       "      <td>3</td>\n",
       "      <td>271</td>\n",
       "      <td>4</td>\n",
       "      <td>811</td>\n",
       "      <td>...</td>\n",
       "      <td>2020-05-02 03:59:59+00:00</td>\n",
       "      <td>2020-05-02</td>\n",
       "      <td>2020</td>\n",
       "      <td>5</td>\n",
       "      <td>2020-05</td>\n",
       "      <td>18</td>\n",
       "      <td>2020Q2</td>\n",
       "      <td>2020-05-02</td>\n",
       "      <td>18</td>\n",
       "      <td>2020-05</td>\n",
       "    </tr>\n",
       "    <tr>\n",
       "      <th>7496</th>\n",
       "      <td>7497</td>\n",
       "      <td>FULTON</td>\n",
       "      <td>5049</td>\n",
       "      <td>2020/05/03 03:59:59+00</td>\n",
       "      <td>33</td>\n",
       "      <td>3305</td>\n",
       "      <td>6</td>\n",
       "      <td>277</td>\n",
       "      <td>8</td>\n",
       "      <td>819</td>\n",
       "      <td>...</td>\n",
       "      <td>2020-05-03 03:59:59+00:00</td>\n",
       "      <td>2020-05-03</td>\n",
       "      <td>2020</td>\n",
       "      <td>5</td>\n",
       "      <td>2020-05</td>\n",
       "      <td>18</td>\n",
       "      <td>2020Q2</td>\n",
       "      <td>2020-05-03</td>\n",
       "      <td>18</td>\n",
       "      <td>2020-05</td>\n",
       "    </tr>\n",
       "    <tr>\n",
       "      <th>7497</th>\n",
       "      <td>7498</td>\n",
       "      <td>FULTON</td>\n",
       "      <td>5049</td>\n",
       "      <td>2020/05/04 03:59:59+00</td>\n",
       "      <td>47</td>\n",
       "      <td>3352</td>\n",
       "      <td>3</td>\n",
       "      <td>280</td>\n",
       "      <td>7</td>\n",
       "      <td>826</td>\n",
       "      <td>...</td>\n",
       "      <td>2020-05-04 03:59:59+00:00</td>\n",
       "      <td>2020-05-04</td>\n",
       "      <td>2020</td>\n",
       "      <td>5</td>\n",
       "      <td>2020-05</td>\n",
       "      <td>19</td>\n",
       "      <td>2020Q2</td>\n",
       "      <td>2020-05-04</td>\n",
       "      <td>19</td>\n",
       "      <td>2020-05</td>\n",
       "    </tr>\n",
       "    <tr>\n",
       "      <th>7498</th>\n",
       "      <td>7499</td>\n",
       "      <td>FULTON</td>\n",
       "      <td>5049</td>\n",
       "      <td>2020/05/05 03:59:59+00</td>\n",
       "      <td>60</td>\n",
       "      <td>3412</td>\n",
       "      <td>1</td>\n",
       "      <td>281</td>\n",
       "      <td>5</td>\n",
       "      <td>831</td>\n",
       "      <td>...</td>\n",
       "      <td>2020-05-05 03:59:59+00:00</td>\n",
       "      <td>2020-05-05</td>\n",
       "      <td>2020</td>\n",
       "      <td>5</td>\n",
       "      <td>2020-05</td>\n",
       "      <td>19</td>\n",
       "      <td>2020Q2</td>\n",
       "      <td>2020-05-05</td>\n",
       "      <td>19</td>\n",
       "      <td>2020-05</td>\n",
       "    </tr>\n",
       "    <tr>\n",
       "      <th>7499</th>\n",
       "      <td>7500</td>\n",
       "      <td>FULTON</td>\n",
       "      <td>5049</td>\n",
       "      <td>2020/05/06 03:59:59+00</td>\n",
       "      <td>58</td>\n",
       "      <td>3470</td>\n",
       "      <td>4</td>\n",
       "      <td>285</td>\n",
       "      <td>8</td>\n",
       "      <td>839</td>\n",
       "      <td>...</td>\n",
       "      <td>2020-05-06 03:59:59+00:00</td>\n",
       "      <td>2020-05-06</td>\n",
       "      <td>2020</td>\n",
       "      <td>5</td>\n",
       "      <td>2020-05</td>\n",
       "      <td>19</td>\n",
       "      <td>2020Q2</td>\n",
       "      <td>2020-05-06</td>\n",
       "      <td>19</td>\n",
       "      <td>2020-05</td>\n",
       "    </tr>\n",
       "    <tr>\n",
       "      <th>7500</th>\n",
       "      <td>7501</td>\n",
       "      <td>FULTON</td>\n",
       "      <td>5049</td>\n",
       "      <td>2020/05/07 03:59:59+00</td>\n",
       "      <td>75</td>\n",
       "      <td>3545</td>\n",
       "      <td>1</td>\n",
       "      <td>286</td>\n",
       "      <td>1</td>\n",
       "      <td>840</td>\n",
       "      <td>...</td>\n",
       "      <td>2020-05-07 03:59:59+00:00</td>\n",
       "      <td>2020-05-07</td>\n",
       "      <td>2020</td>\n",
       "      <td>5</td>\n",
       "      <td>2020-05</td>\n",
       "      <td>19</td>\n",
       "      <td>2020Q2</td>\n",
       "      <td>2020-05-07</td>\n",
       "      <td>19</td>\n",
       "      <td>2020-05</td>\n",
       "    </tr>\n",
       "    <tr>\n",
       "      <th>7501</th>\n",
       "      <td>7502</td>\n",
       "      <td>FULTON</td>\n",
       "      <td>5049</td>\n",
       "      <td>2020/05/08 03:59:59+00</td>\n",
       "      <td>47</td>\n",
       "      <td>3592</td>\n",
       "      <td>5</td>\n",
       "      <td>291</td>\n",
       "      <td>13</td>\n",
       "      <td>853</td>\n",
       "      <td>...</td>\n",
       "      <td>2020-05-08 03:59:59+00:00</td>\n",
       "      <td>2020-05-08</td>\n",
       "      <td>2020</td>\n",
       "      <td>5</td>\n",
       "      <td>2020-05</td>\n",
       "      <td>19</td>\n",
       "      <td>2020Q2</td>\n",
       "      <td>2020-05-08</td>\n",
       "      <td>19</td>\n",
       "      <td>2020-05</td>\n",
       "    </tr>\n",
       "    <tr>\n",
       "      <th>7502</th>\n",
       "      <td>7503</td>\n",
       "      <td>FULTON</td>\n",
       "      <td>5049</td>\n",
       "      <td>2020/05/09 03:59:59+00</td>\n",
       "      <td>20</td>\n",
       "      <td>3612</td>\n",
       "      <td>2</td>\n",
       "      <td>293</td>\n",
       "      <td>3</td>\n",
       "      <td>856</td>\n",
       "      <td>...</td>\n",
       "      <td>2020-05-09 03:59:59+00:00</td>\n",
       "      <td>2020-05-09</td>\n",
       "      <td>2020</td>\n",
       "      <td>5</td>\n",
       "      <td>2020-05</td>\n",
       "      <td>19</td>\n",
       "      <td>2020Q2</td>\n",
       "      <td>2020-05-09</td>\n",
       "      <td>19</td>\n",
       "      <td>2020-05</td>\n",
       "    </tr>\n",
       "    <tr>\n",
       "      <th>7503</th>\n",
       "      <td>7504</td>\n",
       "      <td>FULTON</td>\n",
       "      <td>5049</td>\n",
       "      <td>2020/05/10 03:59:59+00</td>\n",
       "      <td>31</td>\n",
       "      <td>3643</td>\n",
       "      <td>1</td>\n",
       "      <td>294</td>\n",
       "      <td>4</td>\n",
       "      <td>860</td>\n",
       "      <td>...</td>\n",
       "      <td>2020-05-10 03:59:59+00:00</td>\n",
       "      <td>2020-05-10</td>\n",
       "      <td>2020</td>\n",
       "      <td>5</td>\n",
       "      <td>2020-05</td>\n",
       "      <td>19</td>\n",
       "      <td>2020Q2</td>\n",
       "      <td>2020-05-10</td>\n",
       "      <td>19</td>\n",
       "      <td>2020-05</td>\n",
       "    </tr>\n",
       "    <tr>\n",
       "      <th>7504</th>\n",
       "      <td>7505</td>\n",
       "      <td>FULTON</td>\n",
       "      <td>5049</td>\n",
       "      <td>2020/05/11 03:59:59+00</td>\n",
       "      <td>75</td>\n",
       "      <td>3718</td>\n",
       "      <td>8</td>\n",
       "      <td>302</td>\n",
       "      <td>9</td>\n",
       "      <td>869</td>\n",
       "      <td>...</td>\n",
       "      <td>2020-05-11 03:59:59+00:00</td>\n",
       "      <td>2020-05-11</td>\n",
       "      <td>2020</td>\n",
       "      <td>5</td>\n",
       "      <td>2020-05</td>\n",
       "      <td>20</td>\n",
       "      <td>2020Q2</td>\n",
       "      <td>2020-05-11</td>\n",
       "      <td>20</td>\n",
       "      <td>2020-05</td>\n",
       "    </tr>\n",
       "    <tr>\n",
       "      <th>7505</th>\n",
       "      <td>7506</td>\n",
       "      <td>FULTON</td>\n",
       "      <td>5049</td>\n",
       "      <td>2020/05/12 03:59:59+00</td>\n",
       "      <td>50</td>\n",
       "      <td>3768</td>\n",
       "      <td>2</td>\n",
       "      <td>304</td>\n",
       "      <td>5</td>\n",
       "      <td>874</td>\n",
       "      <td>...</td>\n",
       "      <td>2020-05-12 03:59:59+00:00</td>\n",
       "      <td>2020-05-12</td>\n",
       "      <td>2020</td>\n",
       "      <td>5</td>\n",
       "      <td>2020-05</td>\n",
       "      <td>20</td>\n",
       "      <td>2020Q2</td>\n",
       "      <td>2020-05-12</td>\n",
       "      <td>20</td>\n",
       "      <td>2020-05</td>\n",
       "    </tr>\n",
       "    <tr>\n",
       "      <th>7506</th>\n",
       "      <td>7507</td>\n",
       "      <td>FULTON</td>\n",
       "      <td>5049</td>\n",
       "      <td>2020/05/13 03:59:59+00</td>\n",
       "      <td>55</td>\n",
       "      <td>3823</td>\n",
       "      <td>5</td>\n",
       "      <td>309</td>\n",
       "      <td>10</td>\n",
       "      <td>884</td>\n",
       "      <td>...</td>\n",
       "      <td>2020-05-13 03:59:59+00:00</td>\n",
       "      <td>2020-05-13</td>\n",
       "      <td>2020</td>\n",
       "      <td>5</td>\n",
       "      <td>2020-05</td>\n",
       "      <td>20</td>\n",
       "      <td>2020Q2</td>\n",
       "      <td>2020-05-13</td>\n",
       "      <td>20</td>\n",
       "      <td>2020-05</td>\n",
       "    </tr>\n",
       "    <tr>\n",
       "      <th>7507</th>\n",
       "      <td>7508</td>\n",
       "      <td>FULTON</td>\n",
       "      <td>5049</td>\n",
       "      <td>2020/05/14 03:59:59+00</td>\n",
       "      <td>76</td>\n",
       "      <td>3899</td>\n",
       "      <td>10</td>\n",
       "      <td>319</td>\n",
       "      <td>16</td>\n",
       "      <td>900</td>\n",
       "      <td>...</td>\n",
       "      <td>2020-05-14 03:59:59+00:00</td>\n",
       "      <td>2020-05-14</td>\n",
       "      <td>2020</td>\n",
       "      <td>5</td>\n",
       "      <td>2020-05</td>\n",
       "      <td>20</td>\n",
       "      <td>2020Q2</td>\n",
       "      <td>2020-05-14</td>\n",
       "      <td>20</td>\n",
       "      <td>2020-05</td>\n",
       "    </tr>\n",
       "    <tr>\n",
       "      <th>7508</th>\n",
       "      <td>7509</td>\n",
       "      <td>FULTON</td>\n",
       "      <td>5049</td>\n",
       "      <td>2020/05/15 03:59:59+00</td>\n",
       "      <td>63</td>\n",
       "      <td>3962</td>\n",
       "      <td>1</td>\n",
       "      <td>320</td>\n",
       "      <td>7</td>\n",
       "      <td>907</td>\n",
       "      <td>...</td>\n",
       "      <td>2020-05-15 03:59:59+00:00</td>\n",
       "      <td>2020-05-15</td>\n",
       "      <td>2020</td>\n",
       "      <td>5</td>\n",
       "      <td>2020-05</td>\n",
       "      <td>20</td>\n",
       "      <td>2020Q2</td>\n",
       "      <td>2020-05-15</td>\n",
       "      <td>20</td>\n",
       "      <td>2020-05</td>\n",
       "    </tr>\n",
       "    <tr>\n",
       "      <th>7509</th>\n",
       "      <td>7510</td>\n",
       "      <td>FULTON</td>\n",
       "      <td>5049</td>\n",
       "      <td>2020/05/16 03:59:59+00</td>\n",
       "      <td>30</td>\n",
       "      <td>3992</td>\n",
       "      <td>1</td>\n",
       "      <td>321</td>\n",
       "      <td>8</td>\n",
       "      <td>915</td>\n",
       "      <td>...</td>\n",
       "      <td>2020-05-16 03:59:59+00:00</td>\n",
       "      <td>2020-05-16</td>\n",
       "      <td>2020</td>\n",
       "      <td>5</td>\n",
       "      <td>2020-05</td>\n",
       "      <td>20</td>\n",
       "      <td>2020Q2</td>\n",
       "      <td>2020-05-16</td>\n",
       "      <td>20</td>\n",
       "      <td>2020-05</td>\n",
       "    </tr>\n",
       "    <tr>\n",
       "      <th>7510</th>\n",
       "      <td>7511</td>\n",
       "      <td>FULTON</td>\n",
       "      <td>5049</td>\n",
       "      <td>2020/05/17 03:59:59+00</td>\n",
       "      <td>24</td>\n",
       "      <td>4016</td>\n",
       "      <td>0</td>\n",
       "      <td>321</td>\n",
       "      <td>1</td>\n",
       "      <td>916</td>\n",
       "      <td>...</td>\n",
       "      <td>2020-05-17 03:59:59+00:00</td>\n",
       "      <td>2020-05-17</td>\n",
       "      <td>2020</td>\n",
       "      <td>5</td>\n",
       "      <td>2020-05</td>\n",
       "      <td>20</td>\n",
       "      <td>2020Q2</td>\n",
       "      <td>2020-05-17</td>\n",
       "      <td>20</td>\n",
       "      <td>2020-05</td>\n",
       "    </tr>\n",
       "    <tr>\n",
       "      <th>7511</th>\n",
       "      <td>7512</td>\n",
       "      <td>FULTON</td>\n",
       "      <td>5049</td>\n",
       "      <td>2020/05/18 03:59:59+00</td>\n",
       "      <td>73</td>\n",
       "      <td>4089</td>\n",
       "      <td>3</td>\n",
       "      <td>324</td>\n",
       "      <td>15</td>\n",
       "      <td>931</td>\n",
       "      <td>...</td>\n",
       "      <td>2020-05-18 03:59:59+00:00</td>\n",
       "      <td>2020-05-18</td>\n",
       "      <td>2020</td>\n",
       "      <td>5</td>\n",
       "      <td>2020-05</td>\n",
       "      <td>21</td>\n",
       "      <td>2020Q2</td>\n",
       "      <td>2020-05-18</td>\n",
       "      <td>21</td>\n",
       "      <td>2020-05</td>\n",
       "    </tr>\n",
       "    <tr>\n",
       "      <th>7512</th>\n",
       "      <td>7513</td>\n",
       "      <td>FULTON</td>\n",
       "      <td>5049</td>\n",
       "      <td>2020/05/19 03:59:59+00</td>\n",
       "      <td>51</td>\n",
       "      <td>4140</td>\n",
       "      <td>3</td>\n",
       "      <td>327</td>\n",
       "      <td>6</td>\n",
       "      <td>937</td>\n",
       "      <td>...</td>\n",
       "      <td>2020-05-19 03:59:59+00:00</td>\n",
       "      <td>2020-05-19</td>\n",
       "      <td>2020</td>\n",
       "      <td>5</td>\n",
       "      <td>2020-05</td>\n",
       "      <td>21</td>\n",
       "      <td>2020Q2</td>\n",
       "      <td>2020-05-19</td>\n",
       "      <td>21</td>\n",
       "      <td>2020-05</td>\n",
       "    </tr>\n",
       "    <tr>\n",
       "      <th>7513</th>\n",
       "      <td>7514</td>\n",
       "      <td>FULTON</td>\n",
       "      <td>5049</td>\n",
       "      <td>2020/05/20 03:59:59+00</td>\n",
       "      <td>36</td>\n",
       "      <td>4176</td>\n",
       "      <td>0</td>\n",
       "      <td>327</td>\n",
       "      <td>5</td>\n",
       "      <td>942</td>\n",
       "      <td>...</td>\n",
       "      <td>2020-05-20 03:59:59+00:00</td>\n",
       "      <td>2020-05-20</td>\n",
       "      <td>2020</td>\n",
       "      <td>5</td>\n",
       "      <td>2020-05</td>\n",
       "      <td>21</td>\n",
       "      <td>2020Q2</td>\n",
       "      <td>2020-05-20</td>\n",
       "      <td>21</td>\n",
       "      <td>2020-05</td>\n",
       "    </tr>\n",
       "  </tbody>\n",
       "</table>\n",
       "<p>50 rows × 55 columns</p>\n",
       "</div>"
      ],
      "text/plain": [
       "      OBJECTID  COUNTY  CNTY_FIPS               DATESTAMP  C_New  C_Cum  \\\n",
       "7464      7465  FULTON       5049  2020/04/01 03:59:59+00     97   1499   \n",
       "7465      7466  FULTON       5049  2020/04/02 03:59:59+00     50   1549   \n",
       "7466      7467  FULTON       5049  2020/04/03 03:59:59+00     68   1617   \n",
       "7467      7468  FULTON       5049  2020/04/04 03:59:59+00     38   1655   \n",
       "7468      7469  FULTON       5049  2020/04/05 03:59:59+00     30   1685   \n",
       "7469      7470  FULTON       5049  2020/04/06 03:59:59+00     62   1747   \n",
       "7470      7471  FULTON       5049  2020/04/07 03:59:59+00     77   1824   \n",
       "7471      7472  FULTON       5049  2020/04/08 03:59:59+00     69   1893   \n",
       "7472      7473  FULTON       5049  2020/04/09 03:59:59+00     59   1952   \n",
       "7473      7474  FULTON       5049  2020/04/10 03:59:59+00     55   2007   \n",
       "7474      7475  FULTON       5049  2020/04/11 03:59:59+00     53   2060   \n",
       "7475      7476  FULTON       5049  2020/04/12 03:59:59+00     39   2099   \n",
       "7476      7477  FULTON       5049  2020/04/13 03:59:59+00     54   2153   \n",
       "7477      7478  FULTON       5049  2020/04/14 03:59:59+00     60   2213   \n",
       "7478      7479  FULTON       5049  2020/04/15 03:59:59+00     83   2296   \n",
       "7479      7480  FULTON       5049  2020/04/16 03:59:59+00     57   2353   \n",
       "7480      7481  FULTON       5049  2020/04/17 03:59:59+00     67   2420   \n",
       "7481      7482  FULTON       5049  2020/04/18 03:59:59+00     39   2459   \n",
       "7482      7483  FULTON       5049  2020/04/19 03:59:59+00     73   2532   \n",
       "7483      7484  FULTON       5049  2020/04/20 03:59:59+00     84   2616   \n",
       "7484      7485  FULTON       5049  2020/04/21 03:59:59+00     60   2676   \n",
       "7485      7486  FULTON       5049  2020/04/22 03:59:59+00     59   2735   \n",
       "7486      7487  FULTON       5049  2020/04/23 03:59:59+00     35   2770   \n",
       "7487      7488  FULTON       5049  2020/04/24 03:59:59+00     65   2835   \n",
       "7488      7489  FULTON       5049  2020/04/25 03:59:59+00     39   2874   \n",
       "7489      7490  FULTON       5049  2020/04/26 03:59:59+00     36   2910   \n",
       "7490      7491  FULTON       5049  2020/04/27 03:59:59+00     51   2961   \n",
       "7491      7492  FULTON       5049  2020/04/28 03:59:59+00     77   3038   \n",
       "7492      7493  FULTON       5049  2020/04/29 03:59:59+00     78   3116   \n",
       "7493      7494  FULTON       5049  2020/04/30 03:59:59+00     73   3189   \n",
       "7494      7495  FULTON       5049  2020/05/01 03:59:59+00     54   3243   \n",
       "7495      7496  FULTON       5049  2020/05/02 03:59:59+00     29   3272   \n",
       "7496      7497  FULTON       5049  2020/05/03 03:59:59+00     33   3305   \n",
       "7497      7498  FULTON       5049  2020/05/04 03:59:59+00     47   3352   \n",
       "7498      7499  FULTON       5049  2020/05/05 03:59:59+00     60   3412   \n",
       "7499      7500  FULTON       5049  2020/05/06 03:59:59+00     58   3470   \n",
       "7500      7501  FULTON       5049  2020/05/07 03:59:59+00     75   3545   \n",
       "7501      7502  FULTON       5049  2020/05/08 03:59:59+00     47   3592   \n",
       "7502      7503  FULTON       5049  2020/05/09 03:59:59+00     20   3612   \n",
       "7503      7504  FULTON       5049  2020/05/10 03:59:59+00     31   3643   \n",
       "7504      7505  FULTON       5049  2020/05/11 03:59:59+00     75   3718   \n",
       "7505      7506  FULTON       5049  2020/05/12 03:59:59+00     50   3768   \n",
       "7506      7507  FULTON       5049  2020/05/13 03:59:59+00     55   3823   \n",
       "7507      7508  FULTON       5049  2020/05/14 03:59:59+00     76   3899   \n",
       "7508      7509  FULTON       5049  2020/05/15 03:59:59+00     63   3962   \n",
       "7509      7510  FULTON       5049  2020/05/16 03:59:59+00     30   3992   \n",
       "7510      7511  FULTON       5049  2020/05/17 03:59:59+00     24   4016   \n",
       "7511      7512  FULTON       5049  2020/05/18 03:59:59+00     73   4089   \n",
       "7512      7513  FULTON       5049  2020/05/19 03:59:59+00     51   4140   \n",
       "7513      7514  FULTON       5049  2020/05/20 03:59:59+00     36   4176   \n",
       "\n",
       "      D_New  D_Cum  H_New  H_Cum  ...             DATESTAMP_MOD  \\\n",
       "7464     10    109     22    460  ... 2020-04-01 03:59:59+00:00   \n",
       "7465      3    112      9    469  ... 2020-04-02 03:59:59+00:00   \n",
       "7466     10    122     17    486  ... 2020-04-03 03:59:59+00:00   \n",
       "7467      5    127     10    496  ... 2020-04-04 03:59:59+00:00   \n",
       "7468      1    128     12    508  ... 2020-04-05 03:59:59+00:00   \n",
       "7469      0    128     11    519  ... 2020-04-06 03:59:59+00:00   \n",
       "7470      7    135     11    530  ... 2020-04-07 03:59:59+00:00   \n",
       "7471      5    140     13    543  ... 2020-04-08 03:59:59+00:00   \n",
       "7472      4    144      7    550  ... 2020-04-09 03:59:59+00:00   \n",
       "7473      3    147     10    560  ... 2020-04-10 03:59:59+00:00   \n",
       "7474     10    157     20    580  ... 2020-04-11 03:59:59+00:00   \n",
       "7475      4    161      8    588  ... 2020-04-12 03:59:59+00:00   \n",
       "7476      8    169      9    597  ... 2020-04-13 03:59:59+00:00   \n",
       "7477      7    176     13    610  ... 2020-04-14 03:59:59+00:00   \n",
       "7478      6    182     14    624  ... 2020-04-15 03:59:59+00:00   \n",
       "7479      6    188     12    636  ... 2020-04-16 03:59:59+00:00   \n",
       "7480      4    192     12    648  ... 2020-04-17 03:59:59+00:00   \n",
       "7481      1    193      9    657  ... 2020-04-18 03:59:59+00:00   \n",
       "7482      6    199     10    667  ... 2020-04-19 03:59:59+00:00   \n",
       "7483     13    212     20    687  ... 2020-04-20 03:59:59+00:00   \n",
       "7484      4    216     17    704  ... 2020-04-21 03:59:59+00:00   \n",
       "7485      5    221     12    716  ... 2020-04-22 03:59:59+00:00   \n",
       "7486      7    228      9    725  ... 2020-04-23 03:59:59+00:00   \n",
       "7487      7    235      9    734  ... 2020-04-24 03:59:59+00:00   \n",
       "7488      3    238      8    742  ... 2020-04-25 03:59:59+00:00   \n",
       "7489      6    244     10    752  ... 2020-04-26 03:59:59+00:00   \n",
       "7490      4    248      8    760  ... 2020-04-27 03:59:59+00:00   \n",
       "7491      3    251     10    770  ... 2020-04-28 03:59:59+00:00   \n",
       "7492      8    259     17    787  ... 2020-04-29 03:59:59+00:00   \n",
       "7493      5    264      5    792  ... 2020-04-30 03:59:59+00:00   \n",
       "7494      4    268     15    807  ... 2020-05-01 03:59:59+00:00   \n",
       "7495      3    271      4    811  ... 2020-05-02 03:59:59+00:00   \n",
       "7496      6    277      8    819  ... 2020-05-03 03:59:59+00:00   \n",
       "7497      3    280      7    826  ... 2020-05-04 03:59:59+00:00   \n",
       "7498      1    281      5    831  ... 2020-05-05 03:59:59+00:00   \n",
       "7499      4    285      8    839  ... 2020-05-06 03:59:59+00:00   \n",
       "7500      1    286      1    840  ... 2020-05-07 03:59:59+00:00   \n",
       "7501      5    291     13    853  ... 2020-05-08 03:59:59+00:00   \n",
       "7502      2    293      3    856  ... 2020-05-09 03:59:59+00:00   \n",
       "7503      1    294      4    860  ... 2020-05-10 03:59:59+00:00   \n",
       "7504      8    302      9    869  ... 2020-05-11 03:59:59+00:00   \n",
       "7505      2    304      5    874  ... 2020-05-12 03:59:59+00:00   \n",
       "7506      5    309     10    884  ... 2020-05-13 03:59:59+00:00   \n",
       "7507     10    319     16    900  ... 2020-05-14 03:59:59+00:00   \n",
       "7508      1    320      7    907  ... 2020-05-15 03:59:59+00:00   \n",
       "7509      1    321      8    915  ... 2020-05-16 03:59:59+00:00   \n",
       "7510      0    321      1    916  ... 2020-05-17 03:59:59+00:00   \n",
       "7511      3    324     15    931  ... 2020-05-18 03:59:59+00:00   \n",
       "7512      3    327      6    937  ... 2020-05-19 03:59:59+00:00   \n",
       "7513      0    327      5    942  ... 2020-05-20 03:59:59+00:00   \n",
       "\n",
       "      DATESTAMP_MOD_DAY  DATESTAMP_MOD_YEAR  DATESTAMP_MOD_MONTH  \\\n",
       "7464         2020-04-01                2020                    4   \n",
       "7465         2020-04-02                2020                    4   \n",
       "7466         2020-04-03                2020                    4   \n",
       "7467         2020-04-04                2020                    4   \n",
       "7468         2020-04-05                2020                    4   \n",
       "7469         2020-04-06                2020                    4   \n",
       "7470         2020-04-07                2020                    4   \n",
       "7471         2020-04-08                2020                    4   \n",
       "7472         2020-04-09                2020                    4   \n",
       "7473         2020-04-10                2020                    4   \n",
       "7474         2020-04-11                2020                    4   \n",
       "7475         2020-04-12                2020                    4   \n",
       "7476         2020-04-13                2020                    4   \n",
       "7477         2020-04-14                2020                    4   \n",
       "7478         2020-04-15                2020                    4   \n",
       "7479         2020-04-16                2020                    4   \n",
       "7480         2020-04-17                2020                    4   \n",
       "7481         2020-04-18                2020                    4   \n",
       "7482         2020-04-19                2020                    4   \n",
       "7483         2020-04-20                2020                    4   \n",
       "7484         2020-04-21                2020                    4   \n",
       "7485         2020-04-22                2020                    4   \n",
       "7486         2020-04-23                2020                    4   \n",
       "7487         2020-04-24                2020                    4   \n",
       "7488         2020-04-25                2020                    4   \n",
       "7489         2020-04-26                2020                    4   \n",
       "7490         2020-04-27                2020                    4   \n",
       "7491         2020-04-28                2020                    4   \n",
       "7492         2020-04-29                2020                    4   \n",
       "7493         2020-04-30                2020                    4   \n",
       "7494         2020-05-01                2020                    5   \n",
       "7495         2020-05-02                2020                    5   \n",
       "7496         2020-05-03                2020                    5   \n",
       "7497         2020-05-04                2020                    5   \n",
       "7498         2020-05-05                2020                    5   \n",
       "7499         2020-05-06                2020                    5   \n",
       "7500         2020-05-07                2020                    5   \n",
       "7501         2020-05-08                2020                    5   \n",
       "7502         2020-05-09                2020                    5   \n",
       "7503         2020-05-10                2020                    5   \n",
       "7504         2020-05-11                2020                    5   \n",
       "7505         2020-05-12                2020                    5   \n",
       "7506         2020-05-13                2020                    5   \n",
       "7507         2020-05-14                2020                    5   \n",
       "7508         2020-05-15                2020                    5   \n",
       "7509         2020-05-16                2020                    5   \n",
       "7510         2020-05-17                2020                    5   \n",
       "7511         2020-05-18                2020                    5   \n",
       "7512         2020-05-19                2020                    5   \n",
       "7513         2020-05-20                2020                    5   \n",
       "\n",
       "      DATESTAMP_MOD_MONTH_YEAR  DATESTAMP_MOD_WEEK  \\\n",
       "7464                   2020-04                  14   \n",
       "7465                   2020-04                  14   \n",
       "7466                   2020-04                  14   \n",
       "7467                   2020-04                  14   \n",
       "7468                   2020-04                  14   \n",
       "7469                   2020-04                  15   \n",
       "7470                   2020-04                  15   \n",
       "7471                   2020-04                  15   \n",
       "7472                   2020-04                  15   \n",
       "7473                   2020-04                  15   \n",
       "7474                   2020-04                  15   \n",
       "7475                   2020-04                  15   \n",
       "7476                   2020-04                  16   \n",
       "7477                   2020-04                  16   \n",
       "7478                   2020-04                  16   \n",
       "7479                   2020-04                  16   \n",
       "7480                   2020-04                  16   \n",
       "7481                   2020-04                  16   \n",
       "7482                   2020-04                  16   \n",
       "7483                   2020-04                  17   \n",
       "7484                   2020-04                  17   \n",
       "7485                   2020-04                  17   \n",
       "7486                   2020-04                  17   \n",
       "7487                   2020-04                  17   \n",
       "7488                   2020-04                  17   \n",
       "7489                   2020-04                  17   \n",
       "7490                   2020-04                  18   \n",
       "7491                   2020-04                  18   \n",
       "7492                   2020-04                  18   \n",
       "7493                   2020-04                  18   \n",
       "7494                   2020-05                  18   \n",
       "7495                   2020-05                  18   \n",
       "7496                   2020-05                  18   \n",
       "7497                   2020-05                  19   \n",
       "7498                   2020-05                  19   \n",
       "7499                   2020-05                  19   \n",
       "7500                   2020-05                  19   \n",
       "7501                   2020-05                  19   \n",
       "7502                   2020-05                  19   \n",
       "7503                   2020-05                  19   \n",
       "7504                   2020-05                  20   \n",
       "7505                   2020-05                  20   \n",
       "7506                   2020-05                  20   \n",
       "7507                   2020-05                  20   \n",
       "7508                   2020-05                  20   \n",
       "7509                   2020-05                  20   \n",
       "7510                   2020-05                  20   \n",
       "7511                   2020-05                  21   \n",
       "7512                   2020-05                  21   \n",
       "7513                   2020-05                  21   \n",
       "\n",
       "      DATESTAMP_MOD_MONTH_QUARTER  DATESTAMP_MOD_DAY_STRING  \\\n",
       "7464                       2020Q2                2020-04-01   \n",
       "7465                       2020Q2                2020-04-02   \n",
       "7466                       2020Q2                2020-04-03   \n",
       "7467                       2020Q2                2020-04-04   \n",
       "7468                       2020Q2                2020-04-05   \n",
       "7469                       2020Q2                2020-04-06   \n",
       "7470                       2020Q2                2020-04-07   \n",
       "7471                       2020Q2                2020-04-08   \n",
       "7472                       2020Q2                2020-04-09   \n",
       "7473                       2020Q2                2020-04-10   \n",
       "7474                       2020Q2                2020-04-11   \n",
       "7475                       2020Q2                2020-04-12   \n",
       "7476                       2020Q2                2020-04-13   \n",
       "7477                       2020Q2                2020-04-14   \n",
       "7478                       2020Q2                2020-04-15   \n",
       "7479                       2020Q2                2020-04-16   \n",
       "7480                       2020Q2                2020-04-17   \n",
       "7481                       2020Q2                2020-04-18   \n",
       "7482                       2020Q2                2020-04-19   \n",
       "7483                       2020Q2                2020-04-20   \n",
       "7484                       2020Q2                2020-04-21   \n",
       "7485                       2020Q2                2020-04-22   \n",
       "7486                       2020Q2                2020-04-23   \n",
       "7487                       2020Q2                2020-04-24   \n",
       "7488                       2020Q2                2020-04-25   \n",
       "7489                       2020Q2                2020-04-26   \n",
       "7490                       2020Q2                2020-04-27   \n",
       "7491                       2020Q2                2020-04-28   \n",
       "7492                       2020Q2                2020-04-29   \n",
       "7493                       2020Q2                2020-04-30   \n",
       "7494                       2020Q2                2020-05-01   \n",
       "7495                       2020Q2                2020-05-02   \n",
       "7496                       2020Q2                2020-05-03   \n",
       "7497                       2020Q2                2020-05-04   \n",
       "7498                       2020Q2                2020-05-05   \n",
       "7499                       2020Q2                2020-05-06   \n",
       "7500                       2020Q2                2020-05-07   \n",
       "7501                       2020Q2                2020-05-08   \n",
       "7502                       2020Q2                2020-05-09   \n",
       "7503                       2020Q2                2020-05-10   \n",
       "7504                       2020Q2                2020-05-11   \n",
       "7505                       2020Q2                2020-05-12   \n",
       "7506                       2020Q2                2020-05-13   \n",
       "7507                       2020Q2                2020-05-14   \n",
       "7508                       2020Q2                2020-05-15   \n",
       "7509                       2020Q2                2020-05-16   \n",
       "7510                       2020Q2                2020-05-17   \n",
       "7511                       2020Q2                2020-05-18   \n",
       "7512                       2020Q2                2020-05-19   \n",
       "7513                       2020Q2                2020-05-20   \n",
       "\n",
       "      DATESTAMP_MOD_WEEK_STRING  DATETIME_STRING  \n",
       "7464                         14          2020-04  \n",
       "7465                         14          2020-04  \n",
       "7466                         14          2020-04  \n",
       "7467                         14          2020-04  \n",
       "7468                         14          2020-04  \n",
       "7469                         15          2020-04  \n",
       "7470                         15          2020-04  \n",
       "7471                         15          2020-04  \n",
       "7472                         15          2020-04  \n",
       "7473                         15          2020-04  \n",
       "7474                         15          2020-04  \n",
       "7475                         15          2020-04  \n",
       "7476                         16          2020-04  \n",
       "7477                         16          2020-04  \n",
       "7478                         16          2020-04  \n",
       "7479                         16          2020-04  \n",
       "7480                         16          2020-04  \n",
       "7481                         16          2020-04  \n",
       "7482                         16          2020-04  \n",
       "7483                         17          2020-04  \n",
       "7484                         17          2020-04  \n",
       "7485                         17          2020-04  \n",
       "7486                         17          2020-04  \n",
       "7487                         17          2020-04  \n",
       "7488                         17          2020-04  \n",
       "7489                         17          2020-04  \n",
       "7490                         18          2020-04  \n",
       "7491                         18          2020-04  \n",
       "7492                         18          2020-04  \n",
       "7493                         18          2020-04  \n",
       "7494                         18          2020-05  \n",
       "7495                         18          2020-05  \n",
       "7496                         18          2020-05  \n",
       "7497                         19          2020-05  \n",
       "7498                         19          2020-05  \n",
       "7499                         19          2020-05  \n",
       "7500                         19          2020-05  \n",
       "7501                         19          2020-05  \n",
       "7502                         19          2020-05  \n",
       "7503                         19          2020-05  \n",
       "7504                         20          2020-05  \n",
       "7505                         20          2020-05  \n",
       "7506                         20          2020-05  \n",
       "7507                         20          2020-05  \n",
       "7508                         20          2020-05  \n",
       "7509                         20          2020-05  \n",
       "7510                         20          2020-05  \n",
       "7511                         21          2020-05  \n",
       "7512                         21          2020-05  \n",
       "7513                         21          2020-05  \n",
       "\n",
       "[50 rows x 55 columns]"
      ]
     },
     "execution_count": 68,
     "metadata": {},
     "output_type": "execute_result"
    }
   ],
   "source": [
    "selectCountyTime_aprilmay2020.head(50)"
   ]
  },
  {
   "cell_type": "markdown",
   "metadata": {},
   "source": [
    "## Creating the final DataFrame / specific columns features-attributes that we care about"
   ]
  },
  {
   "cell_type": "code",
   "execution_count": 75,
   "metadata": {},
   "outputs": [],
   "source": [
    "finalDF = selectCountyTime_aprilmay2020[[\n",
    "    'COUNTY',\n",
    "    'DATESTAMP_MOD',\n",
    "    'DATESTAMP_MOD_DAY',\n",
    "    'DATESTAMP_MOD_DAY_STRING',\n",
    "    'DATETIME_STRING',\n",
    "    'DATESTAMP_MOD_MONTH_YEAR',\n",
    "    'C_New', # new cases\n",
    "    'C_Cum', # total cases\n",
    "    'H_New', # new hospitalizations\n",
    "    'H_Cum', # total hospitalizations\n",
    "    'D_New', # new deaths\n",
    "    'D_Cum', # total deaths\n",
    "]]"
   ]
  },
  {
   "cell_type": "code",
   "execution_count": 76,
   "metadata": {},
   "outputs": [
    {
     "data": {
      "text/html": [
       "<div>\n",
       "<style scoped>\n",
       "    .dataframe tbody tr th:only-of-type {\n",
       "        vertical-align: middle;\n",
       "    }\n",
       "\n",
       "    .dataframe tbody tr th {\n",
       "        vertical-align: top;\n",
       "    }\n",
       "\n",
       "    .dataframe thead th {\n",
       "        text-align: right;\n",
       "    }\n",
       "</style>\n",
       "<table border=\"1\" class=\"dataframe\">\n",
       "  <thead>\n",
       "    <tr style=\"text-align: right;\">\n",
       "      <th></th>\n",
       "      <th>COUNTY</th>\n",
       "      <th>DATESTAMP_MOD</th>\n",
       "      <th>DATESTAMP_MOD_DAY</th>\n",
       "      <th>DATESTAMP_MOD_DAY_STRING</th>\n",
       "      <th>DATETIME_STRING</th>\n",
       "      <th>DATESTAMP_MOD_MONTH_YEAR</th>\n",
       "      <th>C_New</th>\n",
       "      <th>C_Cum</th>\n",
       "      <th>H_New</th>\n",
       "      <th>H_Cum</th>\n",
       "      <th>D_New</th>\n",
       "      <th>D_Cum</th>\n",
       "    </tr>\n",
       "  </thead>\n",
       "  <tbody>\n",
       "    <tr>\n",
       "      <th>7464</th>\n",
       "      <td>FULTON</td>\n",
       "      <td>2020-04-01 03:59:59+00:00</td>\n",
       "      <td>2020-04-01</td>\n",
       "      <td>2020-04-01</td>\n",
       "      <td>2020-04</td>\n",
       "      <td>2020-04</td>\n",
       "      <td>97</td>\n",
       "      <td>1499</td>\n",
       "      <td>22</td>\n",
       "      <td>460</td>\n",
       "      <td>10</td>\n",
       "      <td>109</td>\n",
       "    </tr>\n",
       "    <tr>\n",
       "      <th>7465</th>\n",
       "      <td>FULTON</td>\n",
       "      <td>2020-04-02 03:59:59+00:00</td>\n",
       "      <td>2020-04-02</td>\n",
       "      <td>2020-04-02</td>\n",
       "      <td>2020-04</td>\n",
       "      <td>2020-04</td>\n",
       "      <td>50</td>\n",
       "      <td>1549</td>\n",
       "      <td>9</td>\n",
       "      <td>469</td>\n",
       "      <td>3</td>\n",
       "      <td>112</td>\n",
       "    </tr>\n",
       "    <tr>\n",
       "      <th>7466</th>\n",
       "      <td>FULTON</td>\n",
       "      <td>2020-04-03 03:59:59+00:00</td>\n",
       "      <td>2020-04-03</td>\n",
       "      <td>2020-04-03</td>\n",
       "      <td>2020-04</td>\n",
       "      <td>2020-04</td>\n",
       "      <td>68</td>\n",
       "      <td>1617</td>\n",
       "      <td>17</td>\n",
       "      <td>486</td>\n",
       "      <td>10</td>\n",
       "      <td>122</td>\n",
       "    </tr>\n",
       "    <tr>\n",
       "      <th>7467</th>\n",
       "      <td>FULTON</td>\n",
       "      <td>2020-04-04 03:59:59+00:00</td>\n",
       "      <td>2020-04-04</td>\n",
       "      <td>2020-04-04</td>\n",
       "      <td>2020-04</td>\n",
       "      <td>2020-04</td>\n",
       "      <td>38</td>\n",
       "      <td>1655</td>\n",
       "      <td>10</td>\n",
       "      <td>496</td>\n",
       "      <td>5</td>\n",
       "      <td>127</td>\n",
       "    </tr>\n",
       "    <tr>\n",
       "      <th>7468</th>\n",
       "      <td>FULTON</td>\n",
       "      <td>2020-04-05 03:59:59+00:00</td>\n",
       "      <td>2020-04-05</td>\n",
       "      <td>2020-04-05</td>\n",
       "      <td>2020-04</td>\n",
       "      <td>2020-04</td>\n",
       "      <td>30</td>\n",
       "      <td>1685</td>\n",
       "      <td>12</td>\n",
       "      <td>508</td>\n",
       "      <td>1</td>\n",
       "      <td>128</td>\n",
       "    </tr>\n",
       "    <tr>\n",
       "      <th>...</th>\n",
       "      <td>...</td>\n",
       "      <td>...</td>\n",
       "      <td>...</td>\n",
       "      <td>...</td>\n",
       "      <td>...</td>\n",
       "      <td>...</td>\n",
       "      <td>...</td>\n",
       "      <td>...</td>\n",
       "      <td>...</td>\n",
       "      <td>...</td>\n",
       "      <td>...</td>\n",
       "      <td>...</td>\n",
       "    </tr>\n",
       "    <tr>\n",
       "      <th>79995</th>\n",
       "      <td>HALL</td>\n",
       "      <td>2020-05-01 03:59:59+00:00</td>\n",
       "      <td>2020-05-01</td>\n",
       "      <td>2020-05-01</td>\n",
       "      <td>2020-05</td>\n",
       "      <td>2020-05</td>\n",
       "      <td>47</td>\n",
       "      <td>2069</td>\n",
       "      <td>8</td>\n",
       "      <td>305</td>\n",
       "      <td>1</td>\n",
       "      <td>63</td>\n",
       "    </tr>\n",
       "    <tr>\n",
       "      <th>79996</th>\n",
       "      <td>HALL</td>\n",
       "      <td>2020-05-02 03:59:59+00:00</td>\n",
       "      <td>2020-05-02</td>\n",
       "      <td>2020-05-02</td>\n",
       "      <td>2020-05</td>\n",
       "      <td>2020-05</td>\n",
       "      <td>26</td>\n",
       "      <td>2095</td>\n",
       "      <td>7</td>\n",
       "      <td>312</td>\n",
       "      <td>3</td>\n",
       "      <td>66</td>\n",
       "    </tr>\n",
       "    <tr>\n",
       "      <th>79997</th>\n",
       "      <td>HALL</td>\n",
       "      <td>2020-05-03 03:59:59+00:00</td>\n",
       "      <td>2020-05-03</td>\n",
       "      <td>2020-05-03</td>\n",
       "      <td>2020-05</td>\n",
       "      <td>2020-05</td>\n",
       "      <td>12</td>\n",
       "      <td>2107</td>\n",
       "      <td>4</td>\n",
       "      <td>316</td>\n",
       "      <td>0</td>\n",
       "      <td>66</td>\n",
       "    </tr>\n",
       "    <tr>\n",
       "      <th>79998</th>\n",
       "      <td>HALL</td>\n",
       "      <td>2020-05-04 03:59:59+00:00</td>\n",
       "      <td>2020-05-04</td>\n",
       "      <td>2020-05-04</td>\n",
       "      <td>2020-05</td>\n",
       "      <td>2020-05</td>\n",
       "      <td>35</td>\n",
       "      <td>2142</td>\n",
       "      <td>4</td>\n",
       "      <td>320</td>\n",
       "      <td>1</td>\n",
       "      <td>67</td>\n",
       "    </tr>\n",
       "    <tr>\n",
       "      <th>79999</th>\n",
       "      <td>HALL</td>\n",
       "      <td>2020-05-05 03:59:59+00:00</td>\n",
       "      <td>2020-05-05</td>\n",
       "      <td>2020-05-05</td>\n",
       "      <td>2020-05</td>\n",
       "      <td>2020-05</td>\n",
       "      <td>21</td>\n",
       "      <td>2163</td>\n",
       "      <td>2</td>\n",
       "      <td>322</td>\n",
       "      <td>1</td>\n",
       "      <td>68</td>\n",
       "    </tr>\n",
       "  </tbody>\n",
       "</table>\n",
       "<p>305 rows × 12 columns</p>\n",
       "</div>"
      ],
      "text/plain": [
       "       COUNTY             DATESTAMP_MOD DATESTAMP_MOD_DAY  \\\n",
       "7464   FULTON 2020-04-01 03:59:59+00:00        2020-04-01   \n",
       "7465   FULTON 2020-04-02 03:59:59+00:00        2020-04-02   \n",
       "7466   FULTON 2020-04-03 03:59:59+00:00        2020-04-03   \n",
       "7467   FULTON 2020-04-04 03:59:59+00:00        2020-04-04   \n",
       "7468   FULTON 2020-04-05 03:59:59+00:00        2020-04-05   \n",
       "...       ...                       ...               ...   \n",
       "79995    HALL 2020-05-01 03:59:59+00:00        2020-05-01   \n",
       "79996    HALL 2020-05-02 03:59:59+00:00        2020-05-02   \n",
       "79997    HALL 2020-05-03 03:59:59+00:00        2020-05-03   \n",
       "79998    HALL 2020-05-04 03:59:59+00:00        2020-05-04   \n",
       "79999    HALL 2020-05-05 03:59:59+00:00        2020-05-05   \n",
       "\n",
       "      DATESTAMP_MOD_DAY_STRING DATETIME_STRING DATESTAMP_MOD_MONTH_YEAR  \\\n",
       "7464                2020-04-01         2020-04                  2020-04   \n",
       "7465                2020-04-02         2020-04                  2020-04   \n",
       "7466                2020-04-03         2020-04                  2020-04   \n",
       "7467                2020-04-04         2020-04                  2020-04   \n",
       "7468                2020-04-05         2020-04                  2020-04   \n",
       "...                        ...             ...                      ...   \n",
       "79995               2020-05-01         2020-05                  2020-05   \n",
       "79996               2020-05-02         2020-05                  2020-05   \n",
       "79997               2020-05-03         2020-05                  2020-05   \n",
       "79998               2020-05-04         2020-05                  2020-05   \n",
       "79999               2020-05-05         2020-05                  2020-05   \n",
       "\n",
       "       C_New  C_Cum  H_New  H_Cum  D_New  D_Cum  \n",
       "7464      97   1499     22    460     10    109  \n",
       "7465      50   1549      9    469      3    112  \n",
       "7466      68   1617     17    486     10    122  \n",
       "7467      38   1655     10    496      5    127  \n",
       "7468      30   1685     12    508      1    128  \n",
       "...      ...    ...    ...    ...    ...    ...  \n",
       "79995     47   2069      8    305      1     63  \n",
       "79996     26   2095      7    312      3     66  \n",
       "79997     12   2107      4    316      0     66  \n",
       "79998     35   2142      4    320      1     67  \n",
       "79999     21   2163      2    322      1     68  \n",
       "\n",
       "[305 rows x 12 columns]"
      ]
     },
     "execution_count": 76,
     "metadata": {},
     "output_type": "execute_result"
    }
   ],
   "source": [
    "finalDF"
   ]
  },
  {
   "cell_type": "markdown",
   "metadata": {},
   "source": [
    "# Looking at the total COVID-19 cases by month"
   ]
  },
  {
   "cell_type": "code",
   "execution_count": 81,
   "metadata": {},
   "outputs": [
    {
     "data": {
      "text/html": [
       "<div>\n",
       "<style scoped>\n",
       "    .dataframe tbody tr th:only-of-type {\n",
       "        vertical-align: middle;\n",
       "    }\n",
       "\n",
       "    .dataframe tbody tr th {\n",
       "        vertical-align: top;\n",
       "    }\n",
       "\n",
       "    .dataframe thead th {\n",
       "        text-align: right;\n",
       "    }\n",
       "</style>\n",
       "<table border=\"1\" class=\"dataframe\">\n",
       "  <thead>\n",
       "    <tr style=\"text-align: right;\">\n",
       "      <th></th>\n",
       "      <th>COUNTY</th>\n",
       "      <th>DATESTAMP_MOD</th>\n",
       "      <th>DATESTAMP_MOD_DAY</th>\n",
       "      <th>DATESTAMP_MOD_DAY_STRING</th>\n",
       "      <th>DATETIME_STRING</th>\n",
       "      <th>DATESTAMP_MOD_MONTH_YEAR</th>\n",
       "      <th>C_New</th>\n",
       "      <th>C_Cum</th>\n",
       "      <th>H_New</th>\n",
       "      <th>H_Cum</th>\n",
       "      <th>D_New</th>\n",
       "      <th>D_Cum</th>\n",
       "    </tr>\n",
       "  </thead>\n",
       "  <tbody>\n",
       "    <tr>\n",
       "      <th>7493</th>\n",
       "      <td>FULTON</td>\n",
       "      <td>2020-04-30 03:59:59+00:00</td>\n",
       "      <td>2020-04-30</td>\n",
       "      <td>2020-04-30</td>\n",
       "      <td>2020-04</td>\n",
       "      <td>2020-04</td>\n",
       "      <td>73</td>\n",
       "      <td>3189</td>\n",
       "      <td>5</td>\n",
       "      <td>792</td>\n",
       "      <td>5</td>\n",
       "      <td>264</td>\n",
       "    </tr>\n",
       "    <tr>\n",
       "      <th>7524</th>\n",
       "      <td>FULTON</td>\n",
       "      <td>2020-05-31 03:59:59+00:00</td>\n",
       "      <td>2020-05-31</td>\n",
       "      <td>2020-05-31</td>\n",
       "      <td>2020-05</td>\n",
       "      <td>2020-05</td>\n",
       "      <td>20</td>\n",
       "      <td>4657</td>\n",
       "      <td>2</td>\n",
       "      <td>998</td>\n",
       "      <td>0</td>\n",
       "      <td>344</td>\n",
       "    </tr>\n",
       "    <tr>\n",
       "      <th>25266</th>\n",
       "      <td>COBB</td>\n",
       "      <td>2020-04-30 03:59:59+00:00</td>\n",
       "      <td>2020-04-30</td>\n",
       "      <td>2020-04-30</td>\n",
       "      <td>2020-04</td>\n",
       "      <td>2020-04</td>\n",
       "      <td>64</td>\n",
       "      <td>2167</td>\n",
       "      <td>15</td>\n",
       "      <td>636</td>\n",
       "      <td>8</td>\n",
       "      <td>213</td>\n",
       "    </tr>\n",
       "    <tr>\n",
       "      <th>25297</th>\n",
       "      <td>COBB</td>\n",
       "      <td>2020-05-31 03:59:59+00:00</td>\n",
       "      <td>2020-05-31</td>\n",
       "      <td>2020-05-31</td>\n",
       "      <td>2020-05</td>\n",
       "      <td>2020-05</td>\n",
       "      <td>21</td>\n",
       "      <td>3386</td>\n",
       "      <td>2</td>\n",
       "      <td>816</td>\n",
       "      <td>0</td>\n",
       "      <td>281</td>\n",
       "    </tr>\n",
       "    <tr>\n",
       "      <th>34666</th>\n",
       "      <td>GWINNETT</td>\n",
       "      <td>2020-04-30 03:59:59+00:00</td>\n",
       "      <td>2020-04-30</td>\n",
       "      <td>2020-04-30</td>\n",
       "      <td>2020-04</td>\n",
       "      <td>2020-04</td>\n",
       "      <td>74</td>\n",
       "      <td>2242</td>\n",
       "      <td>7</td>\n",
       "      <td>484</td>\n",
       "      <td>0</td>\n",
       "      <td>138</td>\n",
       "    </tr>\n",
       "    <tr>\n",
       "      <th>34697</th>\n",
       "      <td>GWINNETT</td>\n",
       "      <td>2020-05-31 03:59:59+00:00</td>\n",
       "      <td>2020-05-31</td>\n",
       "      <td>2020-05-31</td>\n",
       "      <td>2020-05</td>\n",
       "      <td>2020-05</td>\n",
       "      <td>41</td>\n",
       "      <td>4544</td>\n",
       "      <td>8</td>\n",
       "      <td>722</td>\n",
       "      <td>0</td>\n",
       "      <td>184</td>\n",
       "    </tr>\n",
       "    <tr>\n",
       "      <th>64593</th>\n",
       "      <td>DEKALB</td>\n",
       "      <td>2020-04-30 03:59:59+00:00</td>\n",
       "      <td>2020-04-30</td>\n",
       "      <td>2020-04-30</td>\n",
       "      <td>2020-04</td>\n",
       "      <td>2020-04</td>\n",
       "      <td>66</td>\n",
       "      <td>2517</td>\n",
       "      <td>10</td>\n",
       "      <td>607</td>\n",
       "      <td>0</td>\n",
       "      <td>159</td>\n",
       "    </tr>\n",
       "    <tr>\n",
       "      <th>64624</th>\n",
       "      <td>DEKALB</td>\n",
       "      <td>2020-05-31 03:59:59+00:00</td>\n",
       "      <td>2020-05-31</td>\n",
       "      <td>2020-05-31</td>\n",
       "      <td>2020-05</td>\n",
       "      <td>2020-05</td>\n",
       "      <td>31</td>\n",
       "      <td>4271</td>\n",
       "      <td>6</td>\n",
       "      <td>855</td>\n",
       "      <td>1</td>\n",
       "      <td>217</td>\n",
       "    </tr>\n",
       "    <tr>\n",
       "      <th>79994</th>\n",
       "      <td>HALL</td>\n",
       "      <td>2020-04-30 03:59:59+00:00</td>\n",
       "      <td>2020-04-30</td>\n",
       "      <td>2020-04-30</td>\n",
       "      <td>2020-04</td>\n",
       "      <td>2020-04</td>\n",
       "      <td>28</td>\n",
       "      <td>2022</td>\n",
       "      <td>6</td>\n",
       "      <td>297</td>\n",
       "      <td>2</td>\n",
       "      <td>62</td>\n",
       "    </tr>\n",
       "    <tr>\n",
       "      <th>79999</th>\n",
       "      <td>HALL</td>\n",
       "      <td>2020-05-05 03:59:59+00:00</td>\n",
       "      <td>2020-05-05</td>\n",
       "      <td>2020-05-05</td>\n",
       "      <td>2020-05</td>\n",
       "      <td>2020-05</td>\n",
       "      <td>21</td>\n",
       "      <td>2163</td>\n",
       "      <td>2</td>\n",
       "      <td>322</td>\n",
       "      <td>1</td>\n",
       "      <td>68</td>\n",
       "    </tr>\n",
       "  </tbody>\n",
       "</table>\n",
       "</div>"
      ],
      "text/plain": [
       "         COUNTY             DATESTAMP_MOD DATESTAMP_MOD_DAY  \\\n",
       "7493     FULTON 2020-04-30 03:59:59+00:00        2020-04-30   \n",
       "7524     FULTON 2020-05-31 03:59:59+00:00        2020-05-31   \n",
       "25266      COBB 2020-04-30 03:59:59+00:00        2020-04-30   \n",
       "25297      COBB 2020-05-31 03:59:59+00:00        2020-05-31   \n",
       "34666  GWINNETT 2020-04-30 03:59:59+00:00        2020-04-30   \n",
       "34697  GWINNETT 2020-05-31 03:59:59+00:00        2020-05-31   \n",
       "64593    DEKALB 2020-04-30 03:59:59+00:00        2020-04-30   \n",
       "64624    DEKALB 2020-05-31 03:59:59+00:00        2020-05-31   \n",
       "79994      HALL 2020-04-30 03:59:59+00:00        2020-04-30   \n",
       "79999      HALL 2020-05-05 03:59:59+00:00        2020-05-05   \n",
       "\n",
       "      DATESTAMP_MOD_DAY_STRING DATETIME_STRING DATESTAMP_MOD_MONTH_YEAR  \\\n",
       "7493                2020-04-30         2020-04                  2020-04   \n",
       "7524                2020-05-31         2020-05                  2020-05   \n",
       "25266               2020-04-30         2020-04                  2020-04   \n",
       "25297               2020-05-31         2020-05                  2020-05   \n",
       "34666               2020-04-30         2020-04                  2020-04   \n",
       "34697               2020-05-31         2020-05                  2020-05   \n",
       "64593               2020-04-30         2020-04                  2020-04   \n",
       "64624               2020-05-31         2020-05                  2020-05   \n",
       "79994               2020-04-30         2020-04                  2020-04   \n",
       "79999               2020-05-05         2020-05                  2020-05   \n",
       "\n",
       "       C_New  C_Cum  H_New  H_Cum  D_New  D_Cum  \n",
       "7493      73   3189      5    792      5    264  \n",
       "7524      20   4657      2    998      0    344  \n",
       "25266     64   2167     15    636      8    213  \n",
       "25297     21   3386      2    816      0    281  \n",
       "34666     74   2242      7    484      0    138  \n",
       "34697     41   4544      8    722      0    184  \n",
       "64593     66   2517     10    607      0    159  \n",
       "64624     31   4271      6    855      1    217  \n",
       "79994     28   2022      6    297      2     62  \n",
       "79999     21   2163      2    322      1     68  "
      ]
     },
     "execution_count": 81,
     "metadata": {},
     "output_type": "execute_result"
    }
   ],
   "source": [
    "finalDF_dropdups = finalDF.drop_duplicates(subset=['COUNTY', 'DATETIME_STRING'], keep='last')\n",
    "finalDF_dropdups"
   ]
  },
  {
   "cell_type": "code",
   "execution_count": 82,
   "metadata": {},
   "outputs": [
    {
     "data": {
      "text/html": [
       "<div>\n",
       "<style scoped>\n",
       "    .dataframe tbody tr th:only-of-type {\n",
       "        vertical-align: middle;\n",
       "    }\n",
       "\n",
       "    .dataframe tbody tr th {\n",
       "        vertical-align: top;\n",
       "    }\n",
       "\n",
       "    .dataframe thead th {\n",
       "        text-align: right;\n",
       "    }\n",
       "</style>\n",
       "<table border=\"1\" class=\"dataframe\">\n",
       "  <thead>\n",
       "    <tr style=\"text-align: right;\">\n",
       "      <th>DATESTAMP_MOD_MONTH_YEAR</th>\n",
       "      <th>2020-04</th>\n",
       "      <th>2020-05</th>\n",
       "    </tr>\n",
       "    <tr>\n",
       "      <th>COUNTY</th>\n",
       "      <th></th>\n",
       "      <th></th>\n",
       "    </tr>\n",
       "  </thead>\n",
       "  <tbody>\n",
       "    <tr>\n",
       "      <th>COBB</th>\n",
       "      <td>2167</td>\n",
       "      <td>3386</td>\n",
       "    </tr>\n",
       "    <tr>\n",
       "      <th>DEKALB</th>\n",
       "      <td>2517</td>\n",
       "      <td>4271</td>\n",
       "    </tr>\n",
       "    <tr>\n",
       "      <th>FULTON</th>\n",
       "      <td>3189</td>\n",
       "      <td>4657</td>\n",
       "    </tr>\n",
       "    <tr>\n",
       "      <th>GWINNETT</th>\n",
       "      <td>2242</td>\n",
       "      <td>4544</td>\n",
       "    </tr>\n",
       "    <tr>\n",
       "      <th>HALL</th>\n",
       "      <td>2022</td>\n",
       "      <td>2163</td>\n",
       "    </tr>\n",
       "  </tbody>\n",
       "</table>\n",
       "</div>"
      ],
      "text/plain": [
       "DATESTAMP_MOD_MONTH_YEAR  2020-04  2020-05\n",
       "COUNTY                                    \n",
       "COBB                         2167     3386\n",
       "DEKALB                       2517     4271\n",
       "FULTON                       3189     4657\n",
       "GWINNETT                     2242     4544\n",
       "HALL                         2022     2163"
      ]
     },
     "execution_count": 82,
     "metadata": {},
     "output_type": "execute_result"
    }
   ],
   "source": [
    "pd.pivot_table(finalDF_dropdups, values='C_Cum', index=['COUNTY'],\n",
    "                columns=['DATESTAMP_MOD_MONTH_YEAR'], aggfunc=np.sum)"
   ]
  },
  {
   "cell_type": "code",
   "execution_count": 83,
   "metadata": {},
   "outputs": [
    {
     "data": {
      "image/png": "[encoded data removed]",
      "text/plain": [
       "<Figure size 640x480 with 1 Axes>"
      ]
     },
     "metadata": {},
     "output_type": "display_data"
    }
   ],
   "source": [
    "vis1 = sns.barplot(x='DATESTAMP_MOD_MONTH_YEAR', y='C_Cum', data=finalDF_dropdups)"
   ]
  },
  {
   "cell_type": "code",
   "execution_count": 84,
   "metadata": {},
   "outputs": [
    {
     "data": {
      "image/png": "[encoded data removed]",
      "text/plain": [
       "<Figure size 640x480 with 1 Axes>"
      ]
     },
     "metadata": {},
     "output_type": "display_data"
    }
   ],
   "source": [
    "vis2 = sns.barplot(x='DATESTAMP_MOD_MONTH_YEAR', y='C_Cum', hue='COUNTY', data=finalDF_dropdups)"
   ]
  },
  {
   "cell_type": "code",
   "execution_count": 90,
   "metadata": {},
   "outputs": [
    {
     "data": {
      "application/vnd.plotly.v1+json": {
       "config": {
        "plotlyServerURL": "https://plot.ly"
       },
       "data": [
        {
         "alignmentgroup": "True",
         "hovertemplate": "COUNTY=FULTON<br>DATETIME_STRING=%{x}<br>C_Cum=%{y}<extra></extra>",
         "legendgroup": "FULTON",
         "marker": {
          "color": "#636efa",
          "pattern": {
           "shape": ""
          }
         },
         "name": "FULTON",
         "offsetgroup": "FULTON",
         "orientation": "v",
         "showlegend": true,
         "textposition": "auto",
         "type": "bar",
         "x": [
          "2020-04",
          "2020-05"
         ],
         "xaxis": "x",
         "y": [
          3189,
          4657
         ],
         "yaxis": "y"
        },
        {
         "alignmentgroup": "True",
         "hovertemplate": "COUNTY=COBB<br>DATETIME_STRING=%{x}<br>C_Cum=%{y}<extra></extra>",
         "legendgroup": "COBB",
         "marker": {
          "color": "#EF553B",
          "pattern": {
           "shape": ""
          }
         },
         "name": "COBB",
         "offsetgroup": "COBB",
         "orientation": "v",
         "showlegend": true,
         "textposition": "auto",
         "type": "bar",
         "x": [
          "2020-04",
          "2020-05"
         ],
         "xaxis": "x",
         "y": [
          2167,
          3386
         ],
         "yaxis": "y"
        },
        {
         "alignmentgroup": "True",
         "hovertemplate": "COUNTY=GWINNETT<br>DATETIME_STRING=%{x}<br>C_Cum=%{y}<extra></extra>",
         "legendgroup": "GWINNETT",
         "marker": {
          "color": "#00cc96",
          "pattern": {
           "shape": ""
          }
         },
         "name": "GWINNETT",
         "offsetgroup": "GWINNETT",
         "orientation": "v",
         "showlegend": true,
         "textposition": "auto",
         "type": "bar",
         "x": [
          "2020-04",
          "2020-05"
         ],
         "xaxis": "x",
         "y": [
          2242,
          4544
         ],
         "yaxis": "y"
        },
        {
         "alignmentgroup": "True",
         "hovertemplate": "COUNTY=DEKALB<br>DATETIME_STRING=%{x}<br>C_Cum=%{y}<extra></extra>",
         "legendgroup": "DEKALB",
         "marker": {
          "color": "#ab63fa",
          "pattern": {
           "shape": ""
          }
         },
         "name": "DEKALB",
         "offsetgroup": "DEKALB",
         "orientation": "v",
         "showlegend": true,
         "textposition": "auto",
         "type": "bar",
         "x": [
          "2020-04",
          "2020-05"
         ],
         "xaxis": "x",
         "y": [
          2517,
          4271
         ],
         "yaxis": "y"
        },
        {
         "alignmentgroup": "True",
         "hovertemplate": "COUNTY=HALL<br>DATETIME_STRING=%{x}<br>C_Cum=%{y}<extra></extra>",
         "legendgroup": "HALL",
         "marker": {
          "color": "#FFA15A",
          "pattern": {
           "shape": ""
          }
         },
         "name": "HALL",
         "offsetgroup": "HALL",
         "orientation": "v",
         "showlegend": true,
         "textposition": "auto",
         "type": "bar",
         "x": [
          "2020-04",
          "2020-05"
         ],
         "xaxis": "x",
         "y": [
          2022,
          2163
         ],
         "yaxis": "y"
        }
       ],
       "layout": {
        "barmode": "group",
        "legend": {
         "title": {
          "text": "COUNTY"
         },
         "tracegroupgap": 0
        },
        "margin": {
         "t": 60
        },
        "template": {
         "data": {
          "bar": [
           {
            "error_x": {
             "color": "#2a3f5f"
            },
            "error_y": {
             "color": "#2a3f5f"
            },
            "marker": {
             "line": {
              "color": "#E5ECF6",
              "width": 0.5
             },
             "pattern": {
              "fillmode": "overlay",
              "size": 10,
              "solidity": 0.2
             }
            },
            "type": "bar"
           }
          ],
          "barpolar": [
           {
            "marker": {
             "line": {
              "color": "#E5ECF6",
              "width": 0.5
             },
             "pattern": {
              "fillmode": "overlay",
              "size": 10,
              "solidity": 0.2
             }
            },
            "type": "barpolar"
           }
          ],
          "carpet": [
           {
            "aaxis": {
             "endlinecolor": "#2a3f5f",
             "gridcolor": "white",
             "linecolor": "white",
             "minorgridcolor": "white",
             "startlinecolor": "#2a3f5f"
            },
            "baxis": {
             "endlinecolor": "#2a3f5f",
             "gridcolor": "white",
             "linecolor": "white",
             "minorgridcolor": "white",
             "startlinecolor": "#2a3f5f"
            },
            "type": "carpet"
           }
          ],
          "choropleth": [
           {
            "colorbar": {
             "outlinewidth": 0,
             "ticks": ""
            },
            "type": "choropleth"
           }
          ],
          "contour": [
           {
            "colorbar": {
             "outlinewidth": 0,
             "ticks": ""
            },
            "colorscale": [
             [
              0,
              "#0d0887"
             ],
             [
              0.1111111111111111,
              "#46039f"
             ],
             [
              0.2222222222222222,
              "#7201a8"
             ],
             [
              0.3333333333333333,
              "#9c179e"
             ],
             [
              0.4444444444444444,
              "#bd3786"
             ],
             [
              0.5555555555555556,
              "#d8576b"
             ],
             [
              0.6666666666666666,
              "#ed7953"
             ],
             [
              0.7777777777777778,
              "#fb9f3a"
             ],
             [
              0.8888888888888888,
              "#fdca26"
             ],
             [
              1,
              "#f0f921"
             ]
            ],
            "type": "contour"
           }
          ],
          "contourcarpet": [
           {
            "colorbar": {
             "outlinewidth": 0,
             "ticks": ""
            },
            "type": "contourcarpet"
           }
          ],
          "heatmap": [
           {
            "colorbar": {
             "outlinewidth": 0,
             "ticks": ""
            },
            "colorscale": [
             [
              0,
              "#0d0887"
             ],
             [
              0.1111111111111111,
              "#46039f"
             ],
             [
              0.2222222222222222,
              "#7201a8"
             ],
             [
              0.3333333333333333,
              "#9c179e"
             ],
             [
              0.4444444444444444,
              "#bd3786"
             ],
             [
              0.5555555555555556,
              "#d8576b"
             ],
             [
              0.6666666666666666,
              "#ed7953"
             ],
             [
              0.7777777777777778,
              "#fb9f3a"
             ],
             [
              0.8888888888888888,
              "#fdca26"
             ],
             [
              1,
              "#f0f921"
             ]
            ],
            "type": "heatmap"
           }
          ],
          "heatmapgl": [
           {
            "colorbar": {
             "outlinewidth": 0,
             "ticks": ""
            },
            "colorscale": [
             [
              0,
              "#0d0887"
             ],
             [
              0.1111111111111111,
              "#46039f"
             ],
             [
              0.2222222222222222,
              "#7201a8"
             ],
             [
              0.3333333333333333,
              "#9c179e"
             ],
             [
              0.4444444444444444,
              "#bd3786"
             ],
             [
              0.5555555555555556,
              "#d8576b"
             ],
             [
              0.6666666666666666,
              "#ed7953"
             ],
             [
              0.7777777777777778,
              "#fb9f3a"
             ],
             [
              0.8888888888888888,
              "#fdca26"
             ],
             [
              1,
              "#f0f921"
             ]
            ],
            "type": "heatmapgl"
           }
          ],
          "histogram": [
           {
            "marker": {
             "pattern": {
              "fillmode": "overlay",
              "size": 10,
              "solidity": 0.2
             }
            },
            "type": "histogram"
           }
          ],
          "histogram2d": [
           {
            "colorbar": {
             "outlinewidth": 0,
             "ticks": ""
            },
            "colorscale": [
             [
              0,
              "#0d0887"
             ],
             [
              0.1111111111111111,
              "#46039f"
             ],
             [
              0.2222222222222222,
              "#7201a8"
             ],
             [
              0.3333333333333333,
              "#9c179e"
             ],
             [
              0.4444444444444444,
              "#bd3786"
             ],
             [
              0.5555555555555556,
              "#d8576b"
             ],
             [
              0.6666666666666666,
              "#ed7953"
             ],
             [
              0.7777777777777778,
              "#fb9f3a"
             ],
             [
              0.8888888888888888,
              "#fdca26"
             ],
             [
              1,
              "#f0f921"
             ]
            ],
            "type": "histogram2d"
           }
          ],
          "histogram2dcontour": [
           {
            "colorbar": {
             "outlinewidth": 0,
             "ticks": ""
            },
            "colorscale": [
             [
              0,
              "#0d0887"
             ],
             [
              0.1111111111111111,
              "#46039f"
             ],
             [
              0.2222222222222222,
              "#7201a8"
             ],
             [
              0.3333333333333333,
              "#9c179e"
             ],
             [
              0.4444444444444444,
              "#bd3786"
             ],
             [
              0.5555555555555556,
              "#d8576b"
             ],
             [
              0.6666666666666666,
              "#ed7953"
             ],
             [
              0.7777777777777778,
              "#fb9f3a"
             ],
             [
              0.8888888888888888,
              "#fdca26"
             ],
             [
              1,
              "#f0f921"
             ]
            ],
            "type": "histogram2dcontour"
           }
          ],
          "mesh3d": [
           {
            "colorbar": {
             "outlinewidth": 0,
             "ticks": ""
            },
            "type": "mesh3d"
           }
          ],
          "parcoords": [
           {
            "line": {
             "colorbar": {
              "outlinewidth": 0,
              "ticks": ""
             }
            },
            "type": "parcoords"
           }
          ],
          "pie": [
           {
            "automargin": true,
            "type": "pie"
           }
          ],
          "scatter": [
           {
            "fillpattern": {
             "fillmode": "overlay",
             "size": 10,
             "solidity": 0.2
            },
            "type": "scatter"
           }
          ],
          "scatter3d": [
           {
            "line": {
             "colorbar": {
              "outlinewidth": 0,
              "ticks": ""
             }
            },
            "marker": {
             "colorbar": {
              "outlinewidth": 0,
              "ticks": ""
             }
            },
            "type": "scatter3d"
           }
          ],
          "scattercarpet": [
           {
            "marker": {
             "colorbar": {
              "outlinewidth": 0,
              "ticks": ""
             }
            },
            "type": "scattercarpet"
           }
          ],
          "scattergeo": [
           {
            "marker": {
             "colorbar": {
              "outlinewidth": 0,
              "ticks": ""
             }
            },
            "type": "scattergeo"
           }
          ],
          "scattergl": [
           {
            "marker": {
             "colorbar": {
              "outlinewidth": 0,
              "ticks": ""
             }
            },
            "type": "scattergl"
           }
          ],
          "scattermapbox": [
           {
            "marker": {
             "colorbar": {
              "outlinewidth": 0,
              "ticks": ""
             }
            },
            "type": "scattermapbox"
           }
          ],
          "scatterpolar": [
           {
            "marker": {
             "colorbar": {
              "outlinewidth": 0,
              "ticks": ""
             }
            },
            "type": "scatterpolar"
           }
          ],
          "scatterpolargl": [
           {
            "marker": {
             "colorbar": {
              "outlinewidth": 0,
              "ticks": ""
             }
            },
            "type": "scatterpolargl"
           }
          ],
          "scatterternary": [
           {
            "marker": {
             "colorbar": {
              "outlinewidth": 0,
              "ticks": ""
             }
            },
            "type": "scatterternary"
           }
          ],
          "surface": [
           {
            "colorbar": {
             "outlinewidth": 0,
             "ticks": ""
            },
            "colorscale": [
             [
              0,
              "#0d0887"
             ],
             [
              0.1111111111111111,
              "#46039f"
             ],
             [
              0.2222222222222222,
              "#7201a8"
             ],
             [
              0.3333333333333333,
              "#9c179e"
             ],
             [
              0.4444444444444444,
              "#bd3786"
             ],
             [
              0.5555555555555556,
              "#d8576b"
             ],
             [
              0.6666666666666666,
              "#ed7953"
             ],
             [
              0.7777777777777778,
              "#fb9f3a"
             ],
             [
              0.8888888888888888,
              "#fdca26"
             ],
             [
              1,
              "#f0f921"
             ]
            ],
            "type": "surface"
           }
          ],
          "table": [
           {
            "cells": {
             "fill": {
              "color": "#EBF0F8"
             },
             "line": {
              "color": "white"
             }
            },
            "header": {
             "fill": {
              "color": "#C8D4E3"
             },
             "line": {
              "color": "white"
             }
            },
            "type": "table"
           }
          ]
         },
         "layout": {
          "annotationdefaults": {
           "arrowcolor": "#2a3f5f",
           "arrowhead": 0,
           "arrowwidth": 1
          },
          "autotypenumbers": "strict",
          "coloraxis": {
           "colorbar": {
            "outlinewidth": 0,
            "ticks": ""
           }
          },
          "colorscale": {
           "diverging": [
            [
             0,
             "#8e0152"
            ],
            [
             0.1,
             "#c51b7d"
            ],
            [
             0.2,
             "#de77ae"
            ],
            [
             0.3,
             "#f1b6da"
            ],
            [
             0.4,
             "#fde0ef"
            ],
            [
             0.5,
             "#f7f7f7"
            ],
            [
             0.6,
             "#e6f5d0"
            ],
            [
             0.7,
             "#b8e186"
            ],
            [
             0.8,
             "#7fbc41"
            ],
            [
             0.9,
             "#4d9221"
            ],
            [
             1,
             "#276419"
            ]
           ],
           "sequential": [
            [
             0,
             "#0d0887"
            ],
            [
             0.1111111111111111,
             "#46039f"
            ],
            [
             0.2222222222222222,
             "#7201a8"
            ],
            [
             0.3333333333333333,
             "#9c179e"
            ],
            [
             0.4444444444444444,
             "#bd3786"
            ],
            [
             0.5555555555555556,
             "#d8576b"
            ],
            [
             0.6666666666666666,
             "#ed7953"
            ],
            [
             0.7777777777777778,
             "#fb9f3a"
            ],
            [
             0.8888888888888888,
             "#fdca26"
            ],
            [
             1,
             "#f0f921"
            ]
           ],
           "sequentialminus": [
            [
             0,
             "#0d0887"
            ],
            [
             0.1111111111111111,
             "#46039f"
            ],
            [
             0.2222222222222222,
             "#7201a8"
            ],
            [
             0.3333333333333333,
             "#9c179e"
            ],
            [
             0.4444444444444444,
             "#bd3786"
            ],
            [
             0.5555555555555556,
             "#d8576b"
            ],
            [
             0.6666666666666666,
             "#ed7953"
            ],
            [
             0.7777777777777778,
             "#fb9f3a"
            ],
            [
             0.8888888888888888,
             "#fdca26"
            ],
            [
             1,
             "#f0f921"
            ]
           ]
          },
          "colorway": [
           "#636efa",
           "#EF553B",
           "#00cc96",
           "#ab63fa",
           "#FFA15A",
           "#19d3f3",
           "#FF6692",
           "#B6E880",
           "#FF97FF",
           "#FECB52"
          ],
          "font": {
           "color": "#2a3f5f"
          },
          "geo": {
           "bgcolor": "white",
           "lakecolor": "white",
           "landcolor": "#E5ECF6",
           "showlakes": true,
           "showland": true,
           "subunitcolor": "white"
          },
          "hoverlabel": {
           "align": "left"
          },
          "hovermode": "closest",
          "mapbox": {
           "style": "light"
          },
          "paper_bgcolor": "white",
          "plot_bgcolor": "#E5ECF6",
          "polar": {
           "angularaxis": {
            "gridcolor": "white",
            "linecolor": "white",
            "ticks": ""
           },
           "bgcolor": "#E5ECF6",
           "radialaxis": {
            "gridcolor": "white",
            "linecolor": "white",
            "ticks": ""
           }
          },
          "scene": {
           "xaxis": {
            "backgroundcolor": "#E5ECF6",
            "gridcolor": "white",
            "gridwidth": 2,
            "linecolor": "white",
            "showbackground": true,
            "ticks": "",
            "zerolinecolor": "white"
           },
           "yaxis": {
            "backgroundcolor": "#E5ECF6",
            "gridcolor": "white",
            "gridwidth": 2,
            "linecolor": "white",
            "showbackground": true,
            "ticks": "",
            "zerolinecolor": "white"
           },
           "zaxis": {
            "backgroundcolor": "#E5ECF6",
            "gridcolor": "white",
            "gridwidth": 2,
            "linecolor": "white",
            "showbackground": true,
            "ticks": "",
            "zerolinecolor": "white"
           }
          },
          "shapedefaults": {
           "line": {
            "color": "#2a3f5f"
           }
          },
          "ternary": {
           "aaxis": {
            "gridcolor": "white",
            "linecolor": "white",
            "ticks": ""
           },
           "baxis": {
            "gridcolor": "white",
            "linecolor": "white",
            "ticks": ""
           },
           "bgcolor": "#E5ECF6",
           "caxis": {
            "gridcolor": "white",
            "linecolor": "white",
            "ticks": ""
           }
          },
          "title": {
           "x": 0.05
          },
          "xaxis": {
           "automargin": true,
           "gridcolor": "white",
           "linecolor": "white",
           "ticks": "",
           "title": {
            "standoff": 15
           },
           "zerolinecolor": "white",
           "zerolinewidth": 2
          },
          "yaxis": {
           "automargin": true,
           "gridcolor": "white",
           "linecolor": "white",
           "ticks": "",
           "title": {
            "standoff": 15
           },
           "zerolinecolor": "white",
           "zerolinewidth": 2
          }
         }
        },
        "xaxis": {
         "anchor": "y",
         "domain": [
          0,
          1
         ],
         "title": {
          "text": "DATETIME_STRING"
         }
        },
        "yaxis": {
         "anchor": "x",
         "domain": [
          0,
          1
         ],
         "title": {
          "text": "C_Cum"
         }
        }
       }
      }
     },
     "metadata": {},
     "output_type": "display_data"
    }
   ],
   "source": [
    "plotly1 = px.bar(finalDF_dropdups, x='DATETIME_STRING', y='C_Cum', color='COUNTY', barmode='group')\n",
    "plotly1.show()"
   ]
  },
  {
   "cell_type": "code",
   "execution_count": 94,
   "metadata": {},
   "outputs": [
    {
     "data": {
      "application/vnd.plotly.v1+json": {
       "config": {
        "plotlyServerURL": "https://plot.ly"
       },
       "data": [
        {
         "alignmentgroup": "True",
         "hovertemplate": "COUNTY=FULTON<br>DATETIME_STRING=%{x}<br>C_Cum=%{y}<extra></extra>",
         "legendgroup": "FULTON",
         "marker": {
          "color": "#636efa",
          "pattern": {
           "shape": ""
          }
         },
         "name": "FULTON",
         "offsetgroup": "FULTON",
         "orientation": "v",
         "showlegend": true,
         "textposition": "auto",
         "type": "bar",
         "x": [
          "2020-04",
          "2020-05"
         ],
         "xaxis": "x",
         "y": [
          3189,
          4657
         ],
         "yaxis": "y"
        },
        {
         "alignmentgroup": "True",
         "hovertemplate": "COUNTY=COBB<br>DATETIME_STRING=%{x}<br>C_Cum=%{y}<extra></extra>",
         "legendgroup": "COBB",
         "marker": {
          "color": "#EF553B",
          "pattern": {
           "shape": ""
          }
         },
         "name": "COBB",
         "offsetgroup": "COBB",
         "orientation": "v",
         "showlegend": true,
         "textposition": "auto",
         "type": "bar",
         "x": [
          "2020-04",
          "2020-05"
         ],
         "xaxis": "x",
         "y": [
          2167,
          3386
         ],
         "yaxis": "y"
        },
        {
         "alignmentgroup": "True",
         "hovertemplate": "COUNTY=GWINNETT<br>DATETIME_STRING=%{x}<br>C_Cum=%{y}<extra></extra>",
         "legendgroup": "GWINNETT",
         "marker": {
          "color": "#00cc96",
          "pattern": {
           "shape": ""
          }
         },
         "name": "GWINNETT",
         "offsetgroup": "GWINNETT",
         "orientation": "v",
         "showlegend": true,
         "textposition": "auto",
         "type": "bar",
         "x": [
          "2020-04",
          "2020-05"
         ],
         "xaxis": "x",
         "y": [
          2242,
          4544
         ],
         "yaxis": "y"
        },
        {
         "alignmentgroup": "True",
         "hovertemplate": "COUNTY=DEKALB<br>DATETIME_STRING=%{x}<br>C_Cum=%{y}<extra></extra>",
         "legendgroup": "DEKALB",
         "marker": {
          "color": "#ab63fa",
          "pattern": {
           "shape": ""
          }
         },
         "name": "DEKALB",
         "offsetgroup": "DEKALB",
         "orientation": "v",
         "showlegend": true,
         "textposition": "auto",
         "type": "bar",
         "x": [
          "2020-04",
          "2020-05"
         ],
         "xaxis": "x",
         "y": [
          2517,
          4271
         ],
         "yaxis": "y"
        },
        {
         "alignmentgroup": "True",
         "hovertemplate": "COUNTY=HALL<br>DATETIME_STRING=%{x}<br>C_Cum=%{y}<extra></extra>",
         "legendgroup": "HALL",
         "marker": {
          "color": "#FFA15A",
          "pattern": {
           "shape": ""
          }
         },
         "name": "HALL",
         "offsetgroup": "HALL",
         "orientation": "v",
         "showlegend": true,
         "textposition": "auto",
         "type": "bar",
         "x": [
          "2020-04",
          "2020-05"
         ],
         "xaxis": "x",
         "y": [
          2022,
          2163
         ],
         "yaxis": "y"
        }
       ],
       "layout": {
        "barmode": "stack",
        "legend": {
         "title": {
          "text": "COUNTY"
         },
         "tracegroupgap": 0
        },
        "margin": {
         "t": 60
        },
        "template": {
         "data": {
          "bar": [
           {
            "error_x": {
             "color": "#2a3f5f"
            },
            "error_y": {
             "color": "#2a3f5f"
            },
            "marker": {
             "line": {
              "color": "#E5ECF6",
              "width": 0.5
             },
             "pattern": {
              "fillmode": "overlay",
              "size": 10,
              "solidity": 0.2
             }
            },
            "type": "bar"
           }
          ],
          "barpolar": [
           {
            "marker": {
             "line": {
              "color": "#E5ECF6",
              "width": 0.5
             },
             "pattern": {
              "fillmode": "overlay",
              "size": 10,
              "solidity": 0.2
             }
            },
            "type": "barpolar"
           }
          ],
          "carpet": [
           {
            "aaxis": {
             "endlinecolor": "#2a3f5f",
             "gridcolor": "white",
             "linecolor": "white",
             "minorgridcolor": "white",
             "startlinecolor": "#2a3f5f"
            },
            "baxis": {
             "endlinecolor": "#2a3f5f",
             "gridcolor": "white",
             "linecolor": "white",
             "minorgridcolor": "white",
             "startlinecolor": "#2a3f5f"
            },
            "type": "carpet"
           }
          ],
          "choropleth": [
           {
            "colorbar": {
             "outlinewidth": 0,
             "ticks": ""
            },
            "type": "choropleth"
           }
          ],
          "contour": [
           {
            "colorbar": {
             "outlinewidth": 0,
             "ticks": ""
            },
            "colorscale": [
             [
              0,
              "#0d0887"
             ],
             [
              0.1111111111111111,
              "#46039f"
             ],
             [
              0.2222222222222222,
              "#7201a8"
             ],
             [
              0.3333333333333333,
              "#9c179e"
             ],
             [
              0.4444444444444444,
              "#bd3786"
             ],
             [
              0.5555555555555556,
              "#d8576b"
             ],
             [
              0.6666666666666666,
              "#ed7953"
             ],
             [
              0.7777777777777778,
              "#fb9f3a"
             ],
             [
              0.8888888888888888,
              "#fdca26"
             ],
             [
              1,
              "#f0f921"
             ]
            ],
            "type": "contour"
           }
          ],
          "contourcarpet": [
           {
            "colorbar": {
             "outlinewidth": 0,
             "ticks": ""
            },
            "type": "contourcarpet"
           }
          ],
          "heatmap": [
           {
            "colorbar": {
             "outlinewidth": 0,
             "ticks": ""
            },
            "colorscale": [
             [
              0,
              "#0d0887"
             ],
             [
              0.1111111111111111,
              "#46039f"
             ],
             [
              0.2222222222222222,
              "#7201a8"
             ],
             [
              0.3333333333333333,
              "#9c179e"
             ],
             [
              0.4444444444444444,
              "#bd3786"
             ],
             [
              0.5555555555555556,
              "#d8576b"
             ],
             [
              0.6666666666666666,
              "#ed7953"
             ],
             [
              0.7777777777777778,
              "#fb9f3a"
             ],
             [
              0.8888888888888888,
              "#fdca26"
             ],
             [
              1,
              "#f0f921"
             ]
            ],
            "type": "heatmap"
           }
          ],
          "heatmapgl": [
           {
            "colorbar": {
             "outlinewidth": 0,
             "ticks": ""
            },
            "colorscale": [
             [
              0,
              "#0d0887"
             ],
             [
              0.1111111111111111,
              "#46039f"
             ],
             [
              0.2222222222222222,
              "#7201a8"
             ],
             [
              0.3333333333333333,
              "#9c179e"
             ],
             [
              0.4444444444444444,
              "#bd3786"
             ],
             [
              0.5555555555555556,
              "#d8576b"
             ],
             [
              0.6666666666666666,
              "#ed7953"
             ],
             [
              0.7777777777777778,
              "#fb9f3a"
             ],
             [
              0.8888888888888888,
              "#fdca26"
             ],
             [
              1,
              "#f0f921"
             ]
            ],
            "type": "heatmapgl"
           }
          ],
          "histogram": [
           {
            "marker": {
             "pattern": {
              "fillmode": "overlay",
              "size": 10,
              "solidity": 0.2
             }
            },
            "type": "histogram"
           }
          ],
          "histogram2d": [
           {
            "colorbar": {
             "outlinewidth": 0,
             "ticks": ""
            },
            "colorscale": [
             [
              0,
              "#0d0887"
             ],
             [
              0.1111111111111111,
              "#46039f"
             ],
             [
              0.2222222222222222,
              "#7201a8"
             ],
             [
              0.3333333333333333,
              "#9c179e"
             ],
             [
              0.4444444444444444,
              "#bd3786"
             ],
             [
              0.5555555555555556,
              "#d8576b"
             ],
             [
              0.6666666666666666,
              "#ed7953"
             ],
             [
              0.7777777777777778,
              "#fb9f3a"
             ],
             [
              0.8888888888888888,
              "#fdca26"
             ],
             [
              1,
              "#f0f921"
             ]
            ],
            "type": "histogram2d"
           }
          ],
          "histogram2dcontour": [
           {
            "colorbar": {
             "outlinewidth": 0,
             "ticks": ""
            },
            "colorscale": [
             [
              0,
              "#0d0887"
             ],
             [
              0.1111111111111111,
              "#46039f"
             ],
             [
              0.2222222222222222,
              "#7201a8"
             ],
             [
              0.3333333333333333,
              "#9c179e"
             ],
             [
              0.4444444444444444,
              "#bd3786"
             ],
             [
              0.5555555555555556,
              "#d8576b"
             ],
             [
              0.6666666666666666,
              "#ed7953"
             ],
             [
              0.7777777777777778,
              "#fb9f3a"
             ],
             [
              0.8888888888888888,
              "#fdca26"
             ],
             [
              1,
              "#f0f921"
             ]
            ],
            "type": "histogram2dcontour"
           }
          ],
          "mesh3d": [
           {
            "colorbar": {
             "outlinewidth": 0,
             "ticks": ""
            },
            "type": "mesh3d"
           }
          ],
          "parcoords": [
           {
            "line": {
             "colorbar": {
              "outlinewidth": 0,
              "ticks": ""
             }
            },
            "type": "parcoords"
           }
          ],
          "pie": [
           {
            "automargin": true,
            "type": "pie"
           }
          ],
          "scatter": [
           {
            "fillpattern": {
             "fillmode": "overlay",
             "size": 10,
             "solidity": 0.2
            },
            "type": "scatter"
           }
          ],
          "scatter3d": [
           {
            "line": {
             "colorbar": {
              "outlinewidth": 0,
              "ticks": ""
             }
            },
            "marker": {
             "colorbar": {
              "outlinewidth": 0,
              "ticks": ""
             }
            },
            "type": "scatter3d"
           }
          ],
          "scattercarpet": [
           {
            "marker": {
             "colorbar": {
              "outlinewidth": 0,
              "ticks": ""
             }
            },
            "type": "scattercarpet"
           }
          ],
          "scattergeo": [
           {
            "marker": {
             "colorbar": {
              "outlinewidth": 0,
              "ticks": ""
             }
            },
            "type": "scattergeo"
           }
          ],
          "scattergl": [
           {
            "marker": {
             "colorbar": {
              "outlinewidth": 0,
              "ticks": ""
             }
            },
            "type": "scattergl"
           }
          ],
          "scattermapbox": [
           {
            "marker": {
             "colorbar": {
              "outlinewidth": 0,
              "ticks": ""
             }
            },
            "type": "scattermapbox"
           }
          ],
          "scatterpolar": [
           {
            "marker": {
             "colorbar": {
              "outlinewidth": 0,
              "ticks": ""
             }
            },
            "type": "scatterpolar"
           }
          ],
          "scatterpolargl": [
           {
            "marker": {
             "colorbar": {
              "outlinewidth": 0,
              "ticks": ""
             }
            },
            "type": "scatterpolargl"
           }
          ],
          "scatterternary": [
           {
            "marker": {
             "colorbar": {
              "outlinewidth": 0,
              "ticks": ""
             }
            },
            "type": "scatterternary"
           }
          ],
          "surface": [
           {
            "colorbar": {
             "outlinewidth": 0,
             "ticks": ""
            },
            "colorscale": [
             [
              0,
              "#0d0887"
             ],
             [
              0.1111111111111111,
              "#46039f"
             ],
             [
              0.2222222222222222,
              "#7201a8"
             ],
             [
              0.3333333333333333,
              "#9c179e"
             ],
             [
              0.4444444444444444,
              "#bd3786"
             ],
             [
              0.5555555555555556,
              "#d8576b"
             ],
             [
              0.6666666666666666,
              "#ed7953"
             ],
             [
              0.7777777777777778,
              "#fb9f3a"
             ],
             [
              0.8888888888888888,
              "#fdca26"
             ],
             [
              1,
              "#f0f921"
             ]
            ],
            "type": "surface"
           }
          ],
          "table": [
           {
            "cells": {
             "fill": {
              "color": "#EBF0F8"
             },
             "line": {
              "color": "white"
             }
            },
            "header": {
             "fill": {
              "color": "#C8D4E3"
             },
             "line": {
              "color": "white"
             }
            },
            "type": "table"
           }
          ]
         },
         "layout": {
          "annotationdefaults": {
           "arrowcolor": "#2a3f5f",
           "arrowhead": 0,
           "arrowwidth": 1
          },
          "autotypenumbers": "strict",
          "coloraxis": {
           "colorbar": {
            "outlinewidth": 0,
            "ticks": ""
           }
          },
          "colorscale": {
           "diverging": [
            [
             0,
             "#8e0152"
            ],
            [
             0.1,
             "#c51b7d"
            ],
            [
             0.2,
             "#de77ae"
            ],
            [
             0.3,
             "#f1b6da"
            ],
            [
             0.4,
             "#fde0ef"
            ],
            [
             0.5,
             "#f7f7f7"
            ],
            [
             0.6,
             "#e6f5d0"
            ],
            [
             0.7,
             "#b8e186"
            ],
            [
             0.8,
             "#7fbc41"
            ],
            [
             0.9,
             "#4d9221"
            ],
            [
             1,
             "#276419"
            ]
           ],
           "sequential": [
            [
             0,
             "#0d0887"
            ],
            [
             0.1111111111111111,
             "#46039f"
            ],
            [
             0.2222222222222222,
             "#7201a8"
            ],
            [
             0.3333333333333333,
             "#9c179e"
            ],
            [
             0.4444444444444444,
             "#bd3786"
            ],
            [
             0.5555555555555556,
             "#d8576b"
            ],
            [
             0.6666666666666666,
             "#ed7953"
            ],
            [
             0.7777777777777778,
             "#fb9f3a"
            ],
            [
             0.8888888888888888,
             "#fdca26"
            ],
            [
             1,
             "#f0f921"
            ]
           ],
           "sequentialminus": [
            [
             0,
             "#0d0887"
            ],
            [
             0.1111111111111111,
             "#46039f"
            ],
            [
             0.2222222222222222,
             "#7201a8"
            ],
            [
             0.3333333333333333,
             "#9c179e"
            ],
            [
             0.4444444444444444,
             "#bd3786"
            ],
            [
             0.5555555555555556,
             "#d8576b"
            ],
            [
             0.6666666666666666,
             "#ed7953"
            ],
            [
             0.7777777777777778,
             "#fb9f3a"
            ],
            [
             0.8888888888888888,
             "#fdca26"
            ],
            [
             1,
             "#f0f921"
            ]
           ]
          },
          "colorway": [
           "#636efa",
           "#EF553B",
           "#00cc96",
           "#ab63fa",
           "#FFA15A",
           "#19d3f3",
           "#FF6692",
           "#B6E880",
           "#FF97FF",
           "#FECB52"
          ],
          "font": {
           "color": "#2a3f5f"
          },
          "geo": {
           "bgcolor": "white",
           "lakecolor": "white",
           "landcolor": "#E5ECF6",
           "showlakes": true,
           "showland": true,
           "subunitcolor": "white"
          },
          "hoverlabel": {
           "align": "left"
          },
          "hovermode": "closest",
          "mapbox": {
           "style": "light"
          },
          "paper_bgcolor": "white",
          "plot_bgcolor": "#E5ECF6",
          "polar": {
           "angularaxis": {
            "gridcolor": "white",
            "linecolor": "white",
            "ticks": ""
           },
           "bgcolor": "#E5ECF6",
           "radialaxis": {
            "gridcolor": "white",
            "linecolor": "white",
            "ticks": ""
           }
          },
          "scene": {
           "xaxis": {
            "backgroundcolor": "#E5ECF6",
            "gridcolor": "white",
            "gridwidth": 2,
            "linecolor": "white",
            "showbackground": true,
            "ticks": "",
            "zerolinecolor": "white"
           },
           "yaxis": {
            "backgroundcolor": "#E5ECF6",
            "gridcolor": "white",
            "gridwidth": 2,
            "linecolor": "white",
            "showbackground": true,
            "ticks": "",
            "zerolinecolor": "white"
           },
           "zaxis": {
            "backgroundcolor": "#E5ECF6",
            "gridcolor": "white",
            "gridwidth": 2,
            "linecolor": "white",
            "showbackground": true,
            "ticks": "",
            "zerolinecolor": "white"
           }
          },
          "shapedefaults": {
           "line": {
            "color": "#2a3f5f"
           }
          },
          "ternary": {
           "aaxis": {
            "gridcolor": "white",
            "linecolor": "white",
            "ticks": ""
           },
           "baxis": {
            "gridcolor": "white",
            "linecolor": "white",
            "ticks": ""
           },
           "bgcolor": "#E5ECF6",
           "caxis": {
            "gridcolor": "white",
            "linecolor": "white",
            "ticks": ""
           }
          },
          "title": {
           "x": 0.05
          },
          "xaxis": {
           "automargin": true,
           "gridcolor": "white",
           "linecolor": "white",
           "ticks": "",
           "title": {
            "standoff": 15
           },
           "zerolinecolor": "white",
           "zerolinewidth": 2
          },
          "yaxis": {
           "automargin": true,
           "gridcolor": "white",
           "linecolor": "white",
           "ticks": "",
           "title": {
            "standoff": 15
           },
           "zerolinecolor": "white",
           "zerolinewidth": 2
          }
         }
        },
        "xaxis": {
         "anchor": "y",
         "domain": [
          0,
          1
         ],
         "title": {
          "text": "DATETIME_STRING"
         }
        },
        "yaxis": {
         "anchor": "x",
         "domain": [
          0,
          1
         ],
         "title": {
          "text": "C_Cum"
         }
        }
       }
      }
     },
     "metadata": {},
     "output_type": "display_data"
    }
   ],
   "source": [
    "plotly2 = px.bar(finalDF_dropdups, x='DATETIME_STRING', y='C_Cum', color='COUNTY', barmode='stack')\n",
    "plotly2.show()"
   ]
  }
 ],
 "metadata": {
  "kernelspec": {
   "display_name": "Python 3.9.1 ('env': venv)",
   "language": "python",
   "name": "python3"
  },
  "language_info": {
   "codemirror_mode": {
    "name": "ipython",
    "version": 3
   },
   "file_extension": ".py",
   "mimetype": "text/x-python",
   "name": "python",
   "nbconvert_exporter": "python",
   "pygments_lexer": "ipython3",
   "version": "3.9.1"
  },
  "orig_nbformat": 4,
  "vscode": {
   "interpreter": {
    "hash": "5a857ef1a0ca5c954e992fc78f66a7a5c3f6d575eeb2ff2a73b8c401b823a5e3"
   }
  }
 },
 "nbformat": 4,
 "nbformat_minor": 2
}
